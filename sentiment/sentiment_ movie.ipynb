{
 "cells": [
  {
   "cell_type": "markdown",
   "metadata": {},
   "source": [
    "- dataset\n",
    "- preprocessing\n",
    "- info\n",
    "- learning\n",
    "- test\n",
    "\n",
    "이전 배웠던 내용들이 텍스트 라벨링 데이터가 아니라 이미지 라벨링 데이터위주라는 사실을 깨닳음.. 일단 한글 text데이터 전처리부터.."
   ]
  },
  {
   "cell_type": "markdown",
   "metadata": {},
   "source": [
    "## Dataset\n",
    "- 네이버 영화 데이터는 공개된것을 기본으로 test.\n",
    "- 추 후 필요시 크롤링 따로 해야할것같음... \n",
    "- 평점 labeling은 보통 nega-pos로 하기 때문에 0-1로 노멀라이징 하는것같음."
   ]
  },
  {
   "cell_type": "code",
   "execution_count": 1,
   "metadata": {},
   "outputs": [],
   "source": [
    "import codecs\n",
    "with codecs.open('../git_clone/naver-movie-corpus/ratings_train.txt', encoding='utf-8') as f:\n",
    "    data = [line.split('\\t') for line in f.read().splitlines()]\n",
    "    data = data[1:] # header 제외"
   ]
  },
  {
   "cell_type": "code",
   "execution_count": 2,
   "metadata": {},
   "outputs": [
    {
     "name": "stdout",
     "output_type": "stream",
     "text": [
      "[['9976970', '아 더빙.. 진짜 짜증나네요 목소리', '0'],\n",
      " ['3819312', '흠...포스터보고 초딩영화줄....오버연기조차 가볍지 않구나', '1'],\n",
      " ['10265843', '너무재밓었다그래서보는것을추천한다', '0'],\n",
      " ['9045019', '교도소 이야기구먼 ..솔직히 재미는 없다..평점 조정', '0'],\n",
      " ['6483659',\n",
      "  '사이몬페그의 익살스런 연기가 돋보였던 영화!스파이더맨에서 늙어보이기만 했던 커스틴 던스트가 너무나도 이뻐보였다',\n",
      "  '1'],\n",
      " ['5403919', '막 걸음마 뗀 3세부터 초등학교 1학년생인 8살용영화.ㅋㅋㅋ...별반개도 아까움.', '0'],\n",
      " ['7797314', '원작의 긴장감을 제대로 살려내지못했다.', '0'],\n",
      " ['9443947',\n",
      "  '별 반개도 아깝다 욕나온다 이응경 길용우 연기생활이몇년인지..정말 발로해도 그것보단 낫겟다 납치.감금만반복반복..이드라마는 가족도없다 '\n",
      "  '연기못하는사람만모엿네',\n",
      "  '0'],\n",
      " ['7156791', '액션이 없는데도 재미 있는 몇안되는 영화', '1'],\n",
      " ['5912145', '왜케 평점이 낮은건데? 꽤 볼만한데.. 헐리우드식 화려함에만 너무 길들여져 있나?', '1']]\n"
     ]
    }
   ],
   "source": [
    "from pprint import pprint\n",
    "pprint(data[:10])"
   ]
  },
  {
   "cell_type": "code",
   "execution_count": 3,
   "metadata": {},
   "outputs": [],
   "source": [
    "import numpy as np\n",
    "X = list(zip(*data))[1]\n",
    "y = np.array(list(zip(*data))[2], dtype=int)"
   ]
  },
  {
   "cell_type": "code",
   "execution_count": 4,
   "metadata": {},
   "outputs": [
    {
     "name": "stdout",
     "output_type": "stream",
     "text": [
      "150000\n",
      "('아 더빙.. 진짜 짜증나네요 목소리',\n",
      " '흠...포스터보고 초딩영화줄....오버연기조차 가볍지 않구나',\n",
      " '너무재밓었다그래서보는것을추천한다',\n",
      " '교도소 이야기구먼 ..솔직히 재미는 없다..평점 조정',\n",
      " '사이몬페그의 익살스런 연기가 돋보였던 영화!스파이더맨에서 늙어보이기만 했던 커스틴 던스트가 너무나도 이뻐보였다',\n",
      " '막 걸음마 뗀 3세부터 초등학교 1학년생인 8살용영화.ㅋㅋㅋ...별반개도 아까움.',\n",
      " '원작의 긴장감을 제대로 살려내지못했다.',\n",
      " '별 반개도 아깝다 욕나온다 이응경 길용우 연기생활이몇년인지..정말 발로해도 그것보단 낫겟다 납치.감금만반복반복..이드라마는 가족도없다 '\n",
      " '연기못하는사람만모엿네',\n",
      " '액션이 없는데도 재미 있는 몇안되는 영화',\n",
      " '왜케 평점이 낮은건데? 꽤 볼만한데.. 헐리우드식 화려함에만 너무 길들여져 있나?')\n",
      "array([0, 1, 0, 0, 1, 0, 0, 0, 1, 1])\n"
     ]
    }
   ],
   "source": [
    "print(len(X))\n",
    "pprint(X[:10])\n",
    "pprint(y[:10])"
   ]
  },
  {
   "cell_type": "markdown",
   "metadata": {},
   "source": [
    "# Preprocessing\n",
    "- tokenizing\n",
    "    - spacing\n",
    "    - steming"
   ]
  },
  {
   "cell_type": "markdown",
   "metadata": {},
   "source": [
    "## Tokenizing"
   ]
  },
  {
   "cell_type": "code",
   "execution_count": 5,
   "metadata": {},
   "outputs": [
    {
     "name": "stdout",
     "output_type": "stream",
     "text": [
      "('아 더빙.. 진짜 짜증나네요 목소리',\n",
      " '흠...포스터보고 초딩영화줄....오버연기조차 가볍지 않구나',\n",
      " '너무재밓었다그래서보는것을추천한다',\n",
      " '교도소 이야기구먼 ..솔직히 재미는 없다..평점 조정',\n",
      " '사이몬페그의 익살스런 연기가 돋보였던 영화!스파이더맨에서 늙어보이기만 했던 커스틴 던스트가 너무나도 이뻐보였다',\n",
      " '막 걸음마 뗀 3세부터 초등학교 1학년생인 8살용영화.ㅋㅋㅋ...별반개도 아까움.',\n",
      " '원작의 긴장감을 제대로 살려내지못했다.',\n",
      " '별 반개도 아깝다 욕나온다 이응경 길용우 연기생활이몇년인지..정말 발로해도 그것보단 낫겟다 납치.감금만반복반복..이드라마는 가족도없다 '\n",
      " '연기못하는사람만모엿네',\n",
      " '액션이 없는데도 재미 있는 몇안되는 영화',\n",
      " '왜케 평점이 낮은건데? 꽤 볼만한데.. 헐리우드식 화려함에만 너무 길들여져 있나?')\n",
      "['더빙', '진짜', '짜증', '목소리']\n",
      "['흠', '포스터', '보고', '초딩', '영화', '줄', '오버', '연기']\n",
      "['너무', '재', '밓었']\n",
      "['교도소', '이야기', '구먼', '재미', '평점', '조정']\n",
      "['사이몬페그', '익살', '연기', '영화', '스파이더맨', '스틴', '던스트', '너무나']\n",
      "['막', '걸음', '마', '세', '초등학교', '학년', '생인', '영화', '별반', '움']\n",
      "['원작', '긴장감', '제대로']\n",
      "['별', '반개', '욕', '이응경', '길용우', '연기', '생활', '년', '정말', '발', '해도', '그것', '납치', '감금', '반복', '반복', '드라마', '가족', '연기', '사람', '모엿']\n",
      "['액션', '재미', '몇', '영화']\n",
      "['왜케', '평점', '꽤', '볼', '데', '헐리우드', '너무', '길']\n"
     ]
    }
   ],
   "source": [
    "# twitter test\n",
    "from konlpy.tag import Twitter\n",
    "twitter = Twitter()\n",
    "pprint(X[:10])\n",
    "for i,text in enumerate(X): \n",
    "    if i == 10 : break\n",
    "    print(twitter.nouns(text))"
   ]
  },
  {
   "cell_type": "code",
   "execution_count": 11,
   "metadata": {},
   "outputs": [
    {
     "name": "stdout",
     "output_type": "stream",
     "text": [
      "1.0.13\n",
      "all tags length = 112103 --> 112103, (num_doc = 149999))"
     ]
    }
   ],
   "source": []
  },
  {
   "cell_type": "code",
   "execution_count": 43,
   "metadata": {},
   "outputs": [
    {
     "name": "stdout",
     "output_type": "stream",
     "text": [
      "0.0.492\n"
     ]
    }
   ],
   "source": [
    "# soynlp test\n",
    "from soynlp.utils import DoublespaceLineCorpus\n",
    "from soynlp.noun import LRNounExtractor_v2\n",
    "print(soynlp.__version__)"
   ]
  },
  {
   "cell_type": "code",
   "execution_count": null,
   "metadata": {},
   "outputs": [],
   "source": [
    "# 명사추출기는 주어진 말뭉치에서 명사를 학습한다\n",
    "# 학습 데이터를 무진장 많이 가지고있어야 하는것 같은데?\n",
    "# 뉴스데이터에만 특화되어있는듯..."
   ]
  },
  {
   "cell_type": "code",
   "execution_count": 95,
   "metadata": {},
   "outputs": [
    {
     "name": "stdout",
     "output_type": "stream",
     "text": [
      "[Noun Extractor] use default predictors\n",
      "[Noun Extractor] num features: pos=1260, neg=1173, common=12\n",
      "[Noun Extractor] counting eojeols\n",
      "[EojeolCounter] n eojeol = 354121 from 150000 sents. mem=1.014 Gb                    \n",
      "[Noun Extractor] complete eojeol counter -> lr graph\n",
      "[Noun Extractor] has been trained. #eojeols=1133961, mem=1.732 Gb\n",
      "[Noun Extractor] batch prediction was completed for 110653 words\n",
      "[Noun Extractor] checked compounds. discovered 72739 compounds\n",
      "[Noun Extractor] postprocessing detaching_features : 87802 -> 75124\n",
      "[Noun Extractor] postprocessing ignore_features : 75124 -> 74997\n",
      "[Noun Extractor] postprocessing ignore_NJ : 74997 -> 74537\n",
      "[Noun Extractor] 74537 nouns (72739 compounds) with min frequency=1\n",
      "[Noun Extractor] flushing was done. mem=2.082 Gb                    \n",
      "[Noun Extractor] 71.05 % eojeols are covered\n"
     ]
    }
   ],
   "source": [
    "noun_extractor = LRNounExtractor_v2(verbose=True)\n",
    "nouns = noun_extractor.train_extract(X)    "
   ]
  },
  {
   "cell_type": "code",
   "execution_count": 109,
   "metadata": {},
   "outputs": [
    {
     "data": {
      "text/plain": [
       "[('메가폰줘야하는거', ('메가폰', '줘야', '하는거')),\n",
       " ('몰입이되긴', ('몰입이', '되긴')),\n",
       " ('튼튼하게', ('튼튼', '하게')),\n",
       " ('보복운전..', ('보복', '운전', '..')),\n",
       " ('저질개그', ('저질', '개그')),\n",
       " ('가상해서..', ('가상', '해서..')),\n",
       " ('연산군...', ('연산군', '...')),\n",
       " ('주인공연기', ('주인공', '연기')),\n",
       " ('저희...한국영화', ('저희', '...', '한국영화')),\n",
       " ('시원시원하다', ('시원시원', '하다')),\n",
       " ('ㅡㅡ요즘', ('ㅡㅡ', '요즘')),\n",
       " ('유쾌하다..최고..', ('유쾌', '하다', '..최고', '..')),\n",
       " ('같아요.대사', ('같아요.', '대사')),\n",
       " ('순진하고', ('순진', '하고')),\n",
       " ('의미없이', ('의미', '없이')),\n",
       " ('...실망', ('...', '실망')),\n",
       " ('그냥저냥볼려', ('그냥저냥', '볼려')),\n",
       " ('한번인가', ('한번', '인가')),\n",
       " ('최악최악최악최악', ('최악', '최악', '최악', '최악')),\n",
       " ('개봉시키는거', ('개봉', '시키는거'))]"
      ]
     },
     "execution_count": 109,
     "metadata": {},
     "output_type": "execute_result"
    }
   ],
   "source": [
    "list(noun_extractor._compounds_components.items())[:20]"
   ]
  },
  {
   "cell_type": "code",
   "execution_count": 114,
   "metadata": {},
   "outputs": [
    {
     "name": "stdout",
     "output_type": "stream",
     "text": [
      "아 더빙.. 진짜 짜증나네요 목소리 ('아 더빙.. 진짜 짜증나네요 목소리',)\n",
      "흠...포스터보고 초딩영화줄....오버연기조차 가볍지 않구나 ('흠...', '포스터')\n",
      "너무재밓었다그래서보는것을추천한다 ('너무재밓었다그래서보는것을추천한다',)\n",
      "교도소 이야기구먼 ..솔직히 재미는 없다..평점 조정 ('교도소',)\n",
      "사이몬페그의 익살스런 연기가 돋보였던 영화!스파이더맨에서 늙어보이기만 했던 커스틴 던스트가 너무나도 이뻐보였다 ('사이몬페그의 익살스런 연기가 돋보였던 영화!스파이더맨에서 늙어보이기만 했던 커스틴 던스트가 너무나도 이뻐보였다',)\n",
      "막 걸음마 뗀 3세부터 초등학교 1학년생인 8살용영화.ㅋㅋㅋ...별반개도 아까움. ('막 걸음마 뗀 3세부터 초등학교 1학년생인 8살용영화.ㅋㅋㅋ...별반개도 아까움.',)\n",
      "원작의 긴장감을 제대로 살려내지못했다. ('원작의 긴장감을 제대로 살려내지못했다.',)\n",
      "별 반개도 아깝다 욕나온다 이응경 길용우 연기생활이몇년인지..정말 발로해도 그것보단 낫겟다 납치.감금만반복반복..이드라마는 가족도없다 연기못하는사람만모엿네 ('별 반개도 아깝다 욕나온다 이응경 길용우 연기생활이몇년인지..정말 발로해도 그것보단 낫겟다 납치.감금만반복반복..이드라마는 가족도없다 연기못하는사람만모엿네',)\n",
      "액션이 없는데도 재미 있는 몇안되는 영화 ('액션이 없는데도 재미 있는 몇안되는 영화',)\n",
      "왜케 평점이 낮은건데? 꽤 볼만한데.. 헐리우드식 화려함에만 너무 길들여져 있나? ('왜케 평점이 낮은건데? 꽤 볼만한데.. 헐리우드식 화려함에만 너무 길들여져 있나?',)\n",
      "걍인피니트가짱이다.진짜짱이다♥ ('걍인피니트가짱이다.진짜짱이다♥',)\n"
     ]
    }
   ],
   "source": [
    "for i, sent in enumerate(X) : \n",
    "    if i > 10 : break\n",
    "    print(sent, noun_extractor.decompose_compound(sent))"
   ]
  },
  {
   "cell_type": "markdown",
   "metadata": {},
   "source": [
    "## Spacing"
   ]
  },
  {
   "cell_type": "code",
   "execution_count": 19,
   "metadata": {},
   "outputs": [],
   "source": [
    "# 모델 학습을 위한 text데이터를 파일로 준비\n",
    "train_path = './data/spacing_train.txt'\n",
    "model_path = './data/spacing_model.txt'\n",
    "with open(train_path,'w',encoding='utf-8') as f :\n",
    "    for text in X :\n",
    "        f.write(text+'\\n')"
   ]
  },
  {
   "cell_type": "code",
   "execution_count": 20,
   "metadata": {},
   "outputs": [
    {
     "name": "stdout",
     "output_type": "stream",
     "text": [
      "1.0.13\n",
      "all tags length = 112103 --> 112103, (num_doc = 149999))"
     ]
    }
   ],
   "source": [
    "# soyspacing test\n",
    "from soyspacing.countbase import RuleDict, CountSpace\n",
    "print(soyspacing.__version__)\n",
    "\n",
    "model = CountSpace()\n",
    "model.train(train_path)\n",
    "\n",
    "model.save_model(model_path, json_format=False)"
   ]
  },
  {
   "cell_type": "code",
   "execution_count": 21,
   "metadata": {},
   "outputs": [],
   "source": [
    "model.load_model(model_path, json_format=False)"
   ]
  },
  {
   "cell_type": "code",
   "execution_count": 26,
   "metadata": {},
   "outputs": [
    {
     "name": "stdout",
     "output_type": "stream",
     "text": [
      "아 더빙.. 진짜 짜증나네요 목소리\n",
      "아 더빙.. 진짜 짜증나네요 목소리\n",
      "흠...포스터보고 초딩영화줄....오버연기조차 가볍지 않구나\n",
      "흠...포스터보고 초딩영화줄....오버연기조차 가볍지 않구나\n",
      "너무재밓었다그래서보는것을추천한다\n",
      "너무 재밓었다그래서 보는것을 추천한다\n",
      "교도소 이야기구먼 ..솔직히 재미는 없다..평점 조정\n",
      "교도소 이야기구먼 ..솔직히 재미는 없다..평점 조정\n",
      "사이몬페그의 익살스런 연기가 돋보였던 영화!스파이더맨에서 늙어보이기만 했던 커스틴 던스트가 너무나도 이뻐보였다\n",
      "사이몬페그의 익살스런 연기가 돋보였던 영화!스파이더맨에서 늙어보이기만 했던 커스틴 던스트가 너무나도 이뻐보였다\n"
     ]
    }
   ],
   "source": [
    "for i,text in enumerate(X): \n",
    "    if i == 5 : break\n",
    "    print(text)\n",
    "    sent_corrected, tags = model.correct(text)\n",
    "    print(sent_corrected)"
   ]
  },
  {
   "cell_type": "code",
   "execution_count": 18,
   "metadata": {},
   "outputs": [],
   "source": []
  },
  {
   "cell_type": "code",
   "execution_count": null,
   "metadata": {},
   "outputs": [],
   "source": []
  }
 ],
 "metadata": {
  "anaconda-cloud": {},
  "kernelspec": {
   "display_name": "Python [conda env:Anaconda3]",
   "language": "python",
   "name": "conda-env-Anaconda3-py"
  },
  "language_info": {
   "codemirror_mode": {
    "name": "ipython",
    "version": 3
   },
   "file_extension": ".py",
   "mimetype": "text/x-python",
   "name": "python",
   "nbconvert_exporter": "python",
   "pygments_lexer": "ipython3",
   "version": "3.5.6"
  }
 },
 "nbformat": 4,
 "nbformat_minor": 2
}
