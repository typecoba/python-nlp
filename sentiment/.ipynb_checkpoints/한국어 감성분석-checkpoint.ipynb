{
 "cells": [
  {
   "cell_type": "code",
   "execution_count": null,
   "metadata": {},
   "outputs": [],
   "source": [
    "'''\n",
    "corpus 감성분석\n",
    "- 감정어 말뭉치 구축\n",
    "- 1.단어마다의 감성점수를 수치화\n",
    "- 2.문장단위 감성점수 수치화\n",
    "- 한국어의 경우 공개된 표준 감정사전이 부족함\n",
    "- 감정사전과 비교하기 위해 토크나이징 과정 필요함\n",
    "- 신조어나 도메인에 해당하는 단어는 걸러내지 못함\n",
    "- 이중부정같은 경우를 걸러내지 못함\n",
    "- 불용어, 도메인특화 경우를 따로 걸러줘야 함..\n",
    "-> 뉴스\n",
    "\n",
    "\n",
    "머신러닝 감성분석\n",
    "- 라벨링된 데이터 필요(많이 필요...)\n",
    "- 도메인 데이터를 학습하기 때문에 특화된 표현 검출\n",
    "- 이중부정같은 경우 검출\n",
    "-> 영화평, 구매평\n",
    "\n",
    "\n",
    "경우에 따라 두가지를 적절해 쓸 줄 알아야 한다..\n",
    "'''"
   ]
  }
 ],
 "metadata": {
  "anaconda-cloud": {},
  "kernelspec": {
   "display_name": "Python [conda env:Anaconda3]",
   "language": "python",
   "name": "conda-env-Anaconda3-py"
  },
  "language_info": {
   "codemirror_mode": {
    "name": "ipython",
    "version": 3
   },
   "file_extension": ".py",
   "mimetype": "text/x-python",
   "name": "python",
   "nbconvert_exporter": "python",
   "pygments_lexer": "ipython3",
   "version": "3.5.6"
  }
 },
 "nbformat": 4,
 "nbformat_minor": 2
}
