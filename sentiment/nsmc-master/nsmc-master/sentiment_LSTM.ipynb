{
 "cells": [
  {
   "cell_type": "code",
   "execution_count": 1,
   "metadata": {},
   "outputs": [
    {
     "data": {
      "text/plain": [
       "'\\n감성분석의 경우 사전에 의존해 단순카운트 하는경우 \\n1. 한국어 감성사전의 미흡\\n2. 도메인특화 신조어 미적용\\n3. 순서에따른 긍/부정의 변화 미적용\\n\\n따라서 순서정보를 학습하는 rnn 모델을 통해 라벨링 된 데이터를 학습해야함\\n1. 영화평 / 상품평.. \\n2. 기학습된 임베딩은 어디에서추가?\\n3. 한국어는 자소를 분리한 fasttext가 더 효과적이다?\\n'"
      ]
     },
     "execution_count": 1,
     "metadata": {},
     "output_type": "execute_result"
    }
   ],
   "source": [
    "'''\n",
    "감성분석의 경우 사전에 의존해 단순카운트 하는경우 \n",
    "1. 한국어 감성사전의 미흡\n",
    "2. 도메인특화 신조어 미적용\n",
    "3. 순서에따른 긍/부정의 변화 미적용\n",
    "\n",
    "따라서 순서정보를 학습하는 rnn 모델을 통해 라벨링 된 데이터를 학습해야함\n",
    "1. 영화평 / 상품평.. \n",
    "2. 기학습된 임베딩은 어디에서추가?\n",
    "3. 한국어는 자소를 분리한 fasttext가 더 효과적이다?\n",
    "'''"
   ]
  },
  {
   "cell_type": "markdown",
   "metadata": {},
   "source": [
    "## import"
   ]
  },
  {
   "cell_type": "code",
   "execution_count": 2,
   "metadata": {},
   "outputs": [],
   "source": [
    "import pandas as pd\n",
    "import numpy as np\n",
    "import re\n",
    "from konlpy.tag import Okt\n",
    "import matplotlib.pyplot as plt\n",
    "%matplotlib inline\n",
    "from tensorflow.keras.preprocessing.text import Tokenizer\n",
    "from tensorflow.keras.preprocessing.sequence import pad_sequences"
   ]
  },
  {
   "cell_type": "code",
   "execution_count": 4,
   "metadata": {},
   "outputs": [],
   "source": [
    "# 전처리 과정 여부\n",
    "isTokenized = True"
   ]
  },
  {
   "cell_type": "code",
   "execution_count": 5,
   "metadata": {},
   "outputs": [],
   "source": [
    "train_data = pd.read_table('./ratings_train.txt')\n",
    "test_data = pd.read_table('./ratings_test.txt')"
   ]
  },
  {
   "cell_type": "code",
   "execution_count": 6,
   "metadata": {},
   "outputs": [
    {
     "name": "stdout",
     "output_type": "stream",
     "text": [
      "150000 50000\n"
     ]
    }
   ],
   "source": [
    "print(len(train_data),len(test_data))"
   ]
  },
  {
   "cell_type": "code",
   "execution_count": 7,
   "metadata": {},
   "outputs": [
    {
     "data": {
      "text/plain": [
       "<matplotlib.axes._subplots.AxesSubplot at 0x1d4174a8>"
      ]
     },
     "execution_count": 7,
     "metadata": {},
     "output_type": "execute_result"
    },
    {
     "data": {
      "image/png": "[encoded data removed]",
      "text/plain": [
       "<Figure size 432x288 with 1 Axes>"
      ]
     },
     "metadata": {
      "needs_background": "light"
     },
     "output_type": "display_data"
    }
   ],
   "source": [
    "# 긍/부정 1:1비율로 150000 건\n",
    "train_data['label'].value_counts().plot(kind='bar')"
   ]
  },
  {
   "cell_type": "code",
   "execution_count": 8,
   "metadata": {},
   "outputs": [
    {
     "name": "stdout",
     "output_type": "stream",
     "text": [
      "   label  count\n",
      "0      0  75173\n",
      "1      1  74827\n"
     ]
    }
   ],
   "source": [
    "print(train_data.groupby('label').size().reset_index(name='count'))"
   ]
  },
  {
   "cell_type": "markdown",
   "metadata": {},
   "source": [
    "## preprocessing"
   ]
  },
  {
   "cell_type": "markdown",
   "metadata": {},
   "source": [
    "### null 값 제거"
   ]
  },
  {
   "cell_type": "code",
   "execution_count": 9,
   "metadata": {},
   "outputs": [
    {
     "name": "stdout",
     "output_type": "stream",
     "text": [
      "True\n",
      "id          0\n",
      "document    5\n",
      "label       0\n",
      "dtype: int64\n"
     ]
    },
    {
     "data": {
      "text/html": [
       "<div>\n",
       "<style scoped>\n",
       "    .dataframe tbody tr th:only-of-type {\n",
       "        vertical-align: middle;\n",
       "    }\n",
       "\n",
       "    .dataframe tbody tr th {\n",
       "        vertical-align: top;\n",
       "    }\n",
       "\n",
       "    .dataframe thead th {\n",
       "        text-align: right;\n",
       "    }\n",
       "</style>\n",
       "<table border=\"1\" class=\"dataframe\">\n",
       "  <thead>\n",
       "    <tr style=\"text-align: right;\">\n",
       "      <th></th>\n",
       "      <th>id</th>\n",
       "      <th>document</th>\n",
       "      <th>label</th>\n",
       "    </tr>\n",
       "  </thead>\n",
       "  <tbody>\n",
       "    <tr>\n",
       "      <th>25857</th>\n",
       "      <td>2172111</td>\n",
       "      <td>NaN</td>\n",
       "      <td>1</td>\n",
       "    </tr>\n",
       "    <tr>\n",
       "      <th>55737</th>\n",
       "      <td>6369843</td>\n",
       "      <td>NaN</td>\n",
       "      <td>1</td>\n",
       "    </tr>\n",
       "    <tr>\n",
       "      <th>110014</th>\n",
       "      <td>1034280</td>\n",
       "      <td>NaN</td>\n",
       "      <td>0</td>\n",
       "    </tr>\n",
       "    <tr>\n",
       "      <th>126782</th>\n",
       "      <td>5942978</td>\n",
       "      <td>NaN</td>\n",
       "      <td>0</td>\n",
       "    </tr>\n",
       "    <tr>\n",
       "      <th>140721</th>\n",
       "      <td>1034283</td>\n",
       "      <td>NaN</td>\n",
       "      <td>0</td>\n",
       "    </tr>\n",
       "  </tbody>\n",
       "</table>\n",
       "</div>"
      ],
      "text/plain": [
       "             id document  label\n",
       "25857   2172111      NaN      1\n",
       "55737   6369843      NaN      1\n",
       "110014  1034280      NaN      0\n",
       "126782  5942978      NaN      0\n",
       "140721  1034283      NaN      0"
      ]
     },
     "execution_count": 9,
     "metadata": {},
     "output_type": "execute_result"
    }
   ],
   "source": [
    "print(train_data.isnull().values.any()) # null 확인\n",
    "print(train_data.isnull().sum()) # null count\n",
    "train_data.loc[train_data.document.isnull()]"
   ]
  },
  {
   "cell_type": "code",
   "execution_count": 10,
   "metadata": {},
   "outputs": [
    {
     "name": "stdout",
     "output_type": "stream",
     "text": [
      "False\n"
     ]
    }
   ],
   "source": [
    "train_data = train_data.dropna(how='any') # null값 제거\n",
    "print(train_data.isnull().values.any()) # null값 확인"
   ]
  },
  {
   "cell_type": "code",
   "execution_count": 11,
   "metadata": {},
   "outputs": [
    {
     "name": "stdout",
     "output_type": "stream",
     "text": [
      "False\n"
     ]
    }
   ],
   "source": [
    "test_data = test_data.dropna(how='any') # null값 제거\n",
    "print(test_data.isnull().values.any()) # null값 확인"
   ]
  },
  {
   "cell_type": "code",
   "execution_count": 12,
   "metadata": {},
   "outputs": [
    {
     "name": "stdout",
     "output_type": "stream",
     "text": [
      "149995 49997\n"
     ]
    }
   ],
   "source": [
    "print(len(train_data), len(test_data)) # 제거후 count"
   ]
  },
  {
   "cell_type": "markdown",
   "metadata": {},
   "source": [
    "### 특수문자, 이모지 제거, 형태소 분리"
   ]
  },
  {
   "cell_type": "code",
   "execution_count": 13,
   "metadata": {},
   "outputs": [],
   "source": [
    "okt = Okt() # konlpy\n",
    "stopwords=['의','가','이','은','들','는','좀','잘','걍','과','도','를','으로','자','에','와','한','하다']\n",
    "\n",
    "# 특수문자, 이모지 제거\n",
    "def cleanSentences(string):\n",
    "    string = string.lower().replace(\"<br />\",\" \")\n",
    "    string = re.sub(re.compile(\"[^0-9a-zA-Z가-힣 ]\"), \" \", string.lower())\n",
    "    return string\n",
    "\n",
    "# tokenizing\n",
    "def getSentenceTokenized(sentence):\n",
    "    tokenized = okt.morphs(sentence, stem=True) # 형태소 분리\n",
    "    tokenized = [word for word in tokenized if not word in stopwords] # 불용어 제거\n",
    "    return tokenized\n",
    "\n",
    "# \n",
    "def getSentenceMatrix(sentence):\n",
    "    pass"
   ]
  },
  {
   "cell_type": "code",
   "execution_count": 13,
   "metadata": {},
   "outputs": [],
   "source": [
    "import pickle\n",
    "\n",
    "if (isTokenized) :\n",
    "    \n",
    "    ## tokenize\n",
    "    X_train = []\n",
    "    for sentence in train_data['document']:    \n",
    "        X_train.append(getSentenceTokenized(cleanSentences(sentence)))\n",
    "    X_test = []\n",
    "    for sentence in test_data['document']:\n",
    "        X_test.append(getSentenceTokenized(cleanSentences(sentence)))\n",
    "    \n",
    "    ## tokenizing 된 파일 저장\n",
    "    with open('./X_train_tokenized.pkl', 'wb') as f:\n",
    "        pickle.dump(X_train, f)\n",
    "    with open('./X_test_tokenized.pkl', 'wb') as f:\n",
    "        pickle.dump(X_test, f)\n",
    "        \n",
    "else :\n",
    "    with open('./X_train_tokenized.pkl', 'rb') as f:\n",
    "        X_train = pickle.load(f)\n",
    "    with open('./X_test_tokenized.pkl', 'rb') as f:\n",
    "        X_test = pickle.load(f)\n",
    "        "
   ]
  },
  {
   "cell_type": "code",
   "execution_count": 14,
   "metadata": {},
   "outputs": [
    {
     "ename": "NameError",
     "evalue": "name 'X_train' is not defined",
     "output_type": "error",
     "traceback": [
      "\u001b[1;31m---------------------------------------------------------------------------\u001b[0m",
      "\u001b[1;31mNameError\u001b[0m                                 Traceback (most recent call last)",
      "\u001b[1;32m<ipython-input-14-4df48a9040ee>\u001b[0m in \u001b[0;36m<module>\u001b[1;34m()\u001b[0m\n\u001b[1;32m----> 1\u001b[1;33m \u001b[0mprint\u001b[0m\u001b[1;33m(\u001b[0m\u001b[0mlen\u001b[0m\u001b[1;33m(\u001b[0m\u001b[0mX_train\u001b[0m\u001b[1;33m)\u001b[0m\u001b[1;33m,\u001b[0m \u001b[0mlen\u001b[0m\u001b[1;33m(\u001b[0m\u001b[0mX_test\u001b[0m\u001b[1;33m)\u001b[0m\u001b[1;33m)\u001b[0m\u001b[1;33m\u001b[0m\u001b[0m\n\u001b[0m\u001b[0;32m      2\u001b[0m \u001b[0mprint\u001b[0m\u001b[1;33m(\u001b[0m\u001b[0mX_train\u001b[0m\u001b[1;33m[\u001b[0m\u001b[1;33m:\u001b[0m\u001b[1;36m1\u001b[0m\u001b[1;33m]\u001b[0m\u001b[1;33m,\u001b[0m \u001b[0mX_test\u001b[0m\u001b[1;33m[\u001b[0m\u001b[1;33m:\u001b[0m\u001b[1;36m1\u001b[0m\u001b[1;33m]\u001b[0m\u001b[1;33m)\u001b[0m\u001b[1;33m\u001b[0m\u001b[0m\n",
      "\u001b[1;31mNameError\u001b[0m: name 'X_train' is not defined"
     ]
    }
   ],
   "source": [
    "print(len(X_train), len(X_test))\n",
    "print(X_train[:1], X_test[:1])"
   ]
  },
  {
   "cell_type": "markdown",
   "metadata": {},
   "source": [
    "### 정수 인텍스 리스트 변환"
   ]
  },
  {
   "cell_type": "code",
   "execution_count": null,
   "metadata": {},
   "outputs": [],
   "source": [
    "    "
   ]
  },
  {
   "cell_type": "code",
   "execution_count": 15,
   "metadata": {},
   "outputs": [],
   "source": [
    "maxWords = 30000\n",
    "tokenizer = Tokenizer(num_words=maxWords) # 빈도높은 30000개의 단어만 선택하도록 tokenizer 객체생성\n",
    "tokenizer.fit_on_texts(X_train) # test list로부터 단어 인덱스 사전구축\n",
    "\n",
    "# 문자열을 정수 인덱스 리스트로 변환\n",
    "X_train_seq = tokenizer.texts_to_sequences(X_train)\n",
    "X_test_seq = tokenizer.texts_to_sequences(X_test)"
   ]
  },
  {
   "cell_type": "code",
   "execution_count": 16,
   "metadata": {},
   "outputs": [
    {
     "name": "stdout",
     "output_type": "stream",
     "text": [
      "[[47, 457, 15, 258, 661], [901, 458, 42, 609, 1, 211, 1466, 23, 968, 679, 20], [374, 2467, 25999, 5115, 6387, 2, 219, 9], [6604, 105, 8272, 214, 56, 4, 25, 3660]]\n"
     ]
    }
   ],
   "source": [
    "print(X_train_seq[:4])"
   ]
  },
  {
   "cell_type": "code",
   "execution_count": 17,
   "metadata": {},
   "outputs": [
    {
     "name": "stdout",
     "output_type": "stream",
     "text": [
      "최대길이 71\n",
      "평균길이 10.77971265708857\n"
     ]
    },
    {
     "data": {
      "image/png": "[encoded data removed]",
      "text/plain": [
       "<Figure size 432x288 with 1 Axes>"
      ]
     },
     "metadata": {
      "needs_background": "light"
     },
     "output_type": "display_data"
    }
   ],
   "source": [
    "print('최대길이', max(len(l) for l in X_train))\n",
    "print('평균길이', sum(map(len, X_train))/len(X_train))\n",
    "plt.hist([len(s) for s in X_train], bins=50)\n",
    "plt.xlabel('length of Data')\n",
    "plt.ylabel('number of Data')\n",
    "plt.show()"
   ]
  },
  {
   "cell_type": "code",
   "execution_count": 18,
   "metadata": {},
   "outputs": [],
   "source": [
    "# 분포에 따라 전체 문장의 길이는 30으로 맞춘다.\n",
    "max_len=30\n",
    "X_train_seq = pad_sequences(X_train_seq, maxlen=max_len)\n",
    "X_test_seq = pad_sequences(X_test_seq, maxlen=max_len)"
   ]
  },
  {
   "cell_type": "code",
   "execution_count": 19,
   "metadata": {},
   "outputs": [],
   "source": [
    "# y값 \n",
    "y_train=np.array(train_data['label'])\n",
    "y_test=np.array(test_data['label'])"
   ]
  },
  {
   "cell_type": "code",
   "execution_count": 20,
   "metadata": {},
   "outputs": [
    {
     "name": "stdout",
     "output_type": "stream",
     "text": [
      "149995 49997 149995 49997\n"
     ]
    }
   ],
   "source": [
    "print(len(X_train_seq),len(X_test_seq), len(y_train), len(y_test))"
   ]
  },
  {
   "cell_type": "markdown",
   "metadata": {},
   "source": [
    "## training data"
   ]
  },
  {
   "cell_type": "code",
   "execution_count": 21,
   "metadata": {},
   "outputs": [
    {
     "data": {
      "text/plain": [
       "'\\n원-핫 인코딩을 통해 만들어진 벡터는 단어량에따라 고차원 희소(sparse) 벡터이기 때문에 낭비되는 연산이 많다\\n일반적으로 임베딩된 단어벡터를 사용하는것이 효율적\\n\\n학습정확도를 올려보자\\n1. 초/중/종성 멀티레이어 임베딩\\n2. cnn+rnn concatenate 커스터마이즈\\n3. dropout(0.5)\\n\\n'"
      ]
     },
     "execution_count": 21,
     "metadata": {},
     "output_type": "execute_result"
    }
   ],
   "source": [
    "'''\n",
    "원-핫 인코딩을 통해 만들어진 벡터는 단어량에따라 고차원 희소(sparse) 벡터이기 때문에 낭비되는 연산이 많다\n",
    "일반적으로 임베딩된 단어벡터를 사용하는것이 효율적\n",
    "\n",
    "학습정확도를 올려보자\n",
    "1. 초/중/종성 멀티레이어 임베딩\n",
    "2. cnn+rnn concatenate 커스터마이즈\n",
    "3. dropout(0.5)\n",
    "\n",
    "'''"
   ]
  },
  {
   "cell_type": "code",
   "execution_count": 25,
   "metadata": {},
   "outputs": [],
   "source": [
    "from tensorflow.keras.layers import Embedding, Dense, LSTM, Dropout, Conv1D, MaxPooling1D\n",
    "from tensorflow.keras.models import Sequential"
   ]
  },
  {
   "cell_type": "code",
   "execution_count": 41,
   "metadata": {},
   "outputs": [
    {
     "name": "stdout",
     "output_type": "stream",
     "text": [
      "_________________________________________________________________\n",
      "Layer (type)                 Output Shape              Param #   \n",
      "=================================================================\n",
      "embedding_7 (Embedding)      (None, None, 300)         9000300   \n",
      "_________________________________________________________________\n",
      "dropout_5 (Dropout)          (None, None, 300)         0         \n",
      "_________________________________________________________________\n",
      "conv1d_5 (Conv1D)            (None, None, 64)          96064     \n",
      "_________________________________________________________________\n",
      "lstm_7 (LSTM)                (None, 128)               98816     \n",
      "_________________________________________________________________\n",
      "dense_7 (Dense)              (None, 1)                 129       \n",
      "=================================================================\n",
      "Total params: 9,195,309\n",
      "Trainable params: 9,195,309\n",
      "Non-trainable params: 0\n",
      "_________________________________________________________________\n"
     ]
    }
   ],
   "source": [
    "# 학습조건...\n",
    "model =Sequential()\n",
    "model.add(Embedding(maxWords+1, 300)) # 임베딩 층\n",
    "\n",
    "\n",
    "###### 커스터마이즈.. 이해\n",
    "model.add(Dropout(0.5))\n",
    "model.add(Conv1D(64, 5, padding='valid', activation='relu', strides=1))\n",
    "# model.add(MaxPooling1D(pool_size=4)) # 최소길이의 문제인듯?\n",
    "\n",
    "model.add(LSTM(128)) # rnn 층\n",
    "model.add(Dense(1, activation='sigmoid')) # 출력\n",
    "model.summary()\n",
    "model.compile(optimizer='adam', loss='binary_crossentropy', metrics=['accuracy'])"
   ]
  },
  {
   "cell_type": "code",
   "execution_count": 42,
   "metadata": {},
   "outputs": [
    {
     "name": "stderr",
     "output_type": "stream",
     "text": [
      "C:\\Users\\mediance_ssh\\Anaconda3\\lib\\site-packages\\tensorflow\\python\\ops\\gradients_impl.py:108: UserWarning: Converting sparse IndexedSlices to a dense Tensor of unknown shape. This may consume a large amount of memory.\n",
      "  \"Converting sparse IndexedSlices to a dense Tensor of unknown shape. \"\n"
     ]
    },
    {
     "name": "stdout",
     "output_type": "stream",
     "text": [
      "Train on 119996 samples, validate on 29999 samples\n",
      "Epoch 1/5\n",
      "119996/119996 [==============================] - 275s 2ms/step - loss: 0.4874 - acc: 0.7494 - val_loss: 0.3783 - val_acc: 0.8383\n",
      "Epoch 2/5\n",
      "119996/119996 [==============================] - 272s 2ms/step - loss: 0.3683 - acc: 0.8365 - val_loss: 0.3529 - val_acc: 0.8484\n",
      "Epoch 3/5\n",
      "119996/119996 [==============================] - 272s 2ms/step - loss: 0.3336 - acc: 0.8556 - val_loss: 0.3420 - val_acc: 0.8525\n",
      "Epoch 4/5\n",
      "119996/119996 [==============================] - 270s 2ms/step - loss: 0.3107 - acc: 0.8684 - val_loss: 0.3533 - val_acc: 0.8459\n",
      "Epoch 5/5\n",
      "119996/119996 [==============================] - 274s 2ms/step - loss: 0.2930 - acc: 0.8764 - val_loss: 0.3385 - val_acc: 0.8567\n"
     ]
    }
   ],
   "source": [
    "history = model.fit(X_train_seq, y_train, epochs=5, batch_size=60, validation_split=0.2)"
   ]
  },
  {
   "cell_type": "code",
   "execution_count": 43,
   "metadata": {},
   "outputs": [
    {
     "name": "stdout",
     "output_type": "stream",
     "text": [
      "49997/49997 [==============================] - 29s 572us/step\n",
      "\n",
      " 테스트 정확도: 0.8514\n"
     ]
    }
   ],
   "source": [
    "print('\\n 테스트 정확도: %.4f' % (model.evaluate(X_test_seq, y_test)[1]))"
   ]
  },
  {
   "cell_type": "markdown",
   "metadata": {},
   "source": [
    "## test data"
   ]
  },
  {
   "cell_type": "code",
   "execution_count": 45,
   "metadata": {},
   "outputs": [
    {
     "name": "stdout",
     "output_type": "stream",
     "text": [
      "[['굳다'], ['최고'], ['보다', '영화', '지만', '별로', '라고', '생각'], ['난', '이영화', '이렇게', '까지', '화재', '되다', '이유', '모르다'], ['음악', '주가', '되다', '최고', '음악', '영화'], ['발', '로', '만들다', '거', '보단', '만들다'], ['내', '뭘', '본', '거지'], ['배우', '고생'], ['감독', '뭐'], ['왓더퍽'], ['갓', '갓', '영화']]\n"
     ]
    }
   ],
   "source": [
    "sents = ['굳 ㅋ',\n",
    "         '최고!!!!!!!!!!!!!!!!',\n",
    "         '보고싶은영화지만 별로라고 생각했다',\n",
    "         '난 이영화가 이렇게까지 화재가 된 이유를 모르겠다',\n",
    "         '음악이 주가 된, 최고의 음악영화',\n",
    "         '발로만들어도 이거보단 잘만들겠네',\n",
    "         '내가 뭘본거지',\n",
    "         '배우들이 고생했네',\n",
    "         '감독은 뭐했냐',\n",
    "         '왓더퍽',\n",
    "         '갓갓영화'\n",
    "        ]\n",
    "temp_test = []\n",
    "for sent in sents : \n",
    "    temp_test.append(getSentenceTokenized(cleanSentences(sent)))\n",
    "\n",
    "print(temp_test)\n",
    "\n",
    "\n",
    "# sent = sent.replace(\"[^0-9a-zA-Z가-힣 ]\",\" \")\n",
    "# sent = okt.morphs(sent, stem=True)\n",
    "# stopwords=['의','가','이','은','들','는','좀','잘','걍','과','도','를','으로','자','에','와','한','하다']\n",
    "# sent = [word for word in sent if not word in stopwords]\n",
    "# sents.append(sent)\n",
    "# print(sents)\n",
    "\n",
    "temp_test = tokenizer.texts_to_sequences(temp_test)\n",
    "# print(temp_test)\n",
    "temp_test = pad_sequences(temp_test, maxlen=max_len)\n",
    "# print(temp_test)"
   ]
  },
  {
   "cell_type": "code",
   "execution_count": 46,
   "metadata": {},
   "outputs": [
    {
     "name": "stdout",
     "output_type": "stream",
     "text": [
      "긍정 [95.51]%\n",
      "긍정 [95.53]%\n",
      "부정 [91.27]%\n",
      "부정 [60.01]%\n",
      "긍정 [98.26]%\n",
      "부정 [95.68]%\n",
      "부정 [93.38]%\n",
      "부정 [85.55]%\n",
      "부정 [92.31]%\n",
      "긍정 [52.71]%\n",
      "긍정 [67.02]%\n"
     ]
    }
   ],
   "source": [
    "# 분류결과\n",
    "results = model.predict(temp_test[:20])\n",
    "for result in results:    \n",
    "    np.set_printoptions(precision=2) # ndarray 자리수조정?\n",
    "    if result > 0.5 :\n",
    "        print(\"긍정 {0}%\".format(result*100))\n",
    "    else :\n",
    "        print('부정 {0}%'.format((1-result)*100))"
   ]
  },
  {
   "cell_type": "code",
   "execution_count": 53,
   "metadata": {},
   "outputs": [
    {
     "data": {
      "text/html": [
       "<div>\n",
       "<style scoped>\n",
       "    .dataframe tbody tr th:only-of-type {\n",
       "        vertical-align: middle;\n",
       "    }\n",
       "\n",
       "    .dataframe tbody tr th {\n",
       "        vertical-align: top;\n",
       "    }\n",
       "\n",
       "    .dataframe thead th {\n",
       "        text-align: right;\n",
       "    }\n",
       "</style>\n",
       "<table border=\"1\" class=\"dataframe\">\n",
       "  <thead>\n",
       "    <tr style=\"text-align: right;\">\n",
       "      <th></th>\n",
       "      <th>id</th>\n",
       "      <th>document</th>\n",
       "      <th>label</th>\n",
       "    </tr>\n",
       "  </thead>\n",
       "  <tbody>\n",
       "    <tr>\n",
       "      <th>0</th>\n",
       "      <td>6270596</td>\n",
       "      <td>굳 ㅋ</td>\n",
       "      <td>1</td>\n",
       "    </tr>\n",
       "    <tr>\n",
       "      <th>1</th>\n",
       "      <td>9274899</td>\n",
       "      <td>GDNTOPCLASSINTHECLUB</td>\n",
       "      <td>0</td>\n",
       "    </tr>\n",
       "    <tr>\n",
       "      <th>2</th>\n",
       "      <td>8544678</td>\n",
       "      <td>뭐야 이 평점들은.... 나쁘진 않지만 10점 짜리는 더더욱 아니잖아</td>\n",
       "      <td>0</td>\n",
       "    </tr>\n",
       "    <tr>\n",
       "      <th>3</th>\n",
       "      <td>6825595</td>\n",
       "      <td>지루하지는 않은데 완전 막장임... 돈주고 보기에는....</td>\n",
       "      <td>0</td>\n",
       "    </tr>\n",
       "    <tr>\n",
       "      <th>4</th>\n",
       "      <td>6723715</td>\n",
       "      <td>3D만 아니었어도 별 다섯 개 줬을텐데.. 왜 3D로 나와서 제 심기를 불편하게 하죠??</td>\n",
       "      <td>0</td>\n",
       "    </tr>\n",
       "    <tr>\n",
       "      <th>5</th>\n",
       "      <td>7898805</td>\n",
       "      <td>음악이 주가 된, 최고의 음악영화</td>\n",
       "      <td>1</td>\n",
       "    </tr>\n",
       "    <tr>\n",
       "      <th>6</th>\n",
       "      <td>6315043</td>\n",
       "      <td>진정한 쓰레기</td>\n",
       "      <td>0</td>\n",
       "    </tr>\n",
       "    <tr>\n",
       "      <th>7</th>\n",
       "      <td>6097171</td>\n",
       "      <td>마치 미국애니에서 튀어나온듯한 창의력없는 로봇디자인부터가,고개를 젖게한다</td>\n",
       "      <td>0</td>\n",
       "    </tr>\n",
       "    <tr>\n",
       "      <th>8</th>\n",
       "      <td>8932678</td>\n",
       "      <td>갈수록 개판되가는 중국영화 유치하고 내용없음 폼잡다 끝남 말도안되는 무기에 유치한c...</td>\n",
       "      <td>0</td>\n",
       "    </tr>\n",
       "    <tr>\n",
       "      <th>9</th>\n",
       "      <td>6242223</td>\n",
       "      <td>이별의 아픔뒤에 찾아오는 새로운 인연의 기쁨 But, 모든 사람이 그렇지는 않네..</td>\n",
       "      <td>1</td>\n",
       "    </tr>\n",
       "    <tr>\n",
       "      <th>10</th>\n",
       "      <td>7462111</td>\n",
       "      <td>괜찮네요오랜만포켓몬스터잼밌어요</td>\n",
       "      <td>1</td>\n",
       "    </tr>\n",
       "    <tr>\n",
       "      <th>11</th>\n",
       "      <td>8425305</td>\n",
       "      <td>한국독립영화의 한계 그렇게 아버지가 된다와 비교됨</td>\n",
       "      <td>0</td>\n",
       "    </tr>\n",
       "    <tr>\n",
       "      <th>12</th>\n",
       "      <td>6900881</td>\n",
       "      <td>청춘은 아름답다 그 아름다움은 이성을 흔들어 놓는다. 찰나의 아름다움을 잘 포착한 ...</td>\n",
       "      <td>1</td>\n",
       "    </tr>\n",
       "    <tr>\n",
       "      <th>13</th>\n",
       "      <td>9629375</td>\n",
       "      <td>눈에 보이는 반전이었지만 영화의 흡인력은 사라지지 않았다.</td>\n",
       "      <td>1</td>\n",
       "    </tr>\n",
       "    <tr>\n",
       "      <th>14</th>\n",
       "      <td>9037756</td>\n",
       "      <td>\"스토리, 연출, 연기, 비주얼 등 영화의 기본 조차 안된 영화에 무슨 평을 해. ...</td>\n",
       "      <td>0</td>\n",
       "    </tr>\n",
       "    <tr>\n",
       "      <th>15</th>\n",
       "      <td>10268521</td>\n",
       "      <td>소위 ㅈ문가라는 평점은 뭐냐?</td>\n",
       "      <td>1</td>\n",
       "    </tr>\n",
       "    <tr>\n",
       "      <th>16</th>\n",
       "      <td>2968565</td>\n",
       "      <td>최고!!!!!!!!!!!!!!!!</td>\n",
       "      <td>1</td>\n",
       "    </tr>\n",
       "    <tr>\n",
       "      <th>17</th>\n",
       "      <td>10107726</td>\n",
       "      <td>발연기 도저히 못보겠다 진짜 이렇게 연기를 못할거라곤 상상도 못했네</td>\n",
       "      <td>0</td>\n",
       "    </tr>\n",
       "    <tr>\n",
       "      <th>18</th>\n",
       "      <td>6406912</td>\n",
       "      <td>나이스</td>\n",
       "      <td>1</td>\n",
       "    </tr>\n",
       "    <tr>\n",
       "      <th>19</th>\n",
       "      <td>4174028</td>\n",
       "      <td>별 재미도없는거 우려먹어 .... 챔프에서 방송 몇번했더라 ? ㅋㅋㅋㅋㅋㅋㅋㅋㅋㅋㅋ</td>\n",
       "      <td>0</td>\n",
       "    </tr>\n",
       "  </tbody>\n",
       "</table>\n",
       "</div>"
      ],
      "text/plain": [
       "          id                                           document  label\n",
       "0    6270596                                                굳 ㅋ      1\n",
       "1    9274899                               GDNTOPCLASSINTHECLUB      0\n",
       "2    8544678             뭐야 이 평점들은.... 나쁘진 않지만 10점 짜리는 더더욱 아니잖아      0\n",
       "3    6825595                   지루하지는 않은데 완전 막장임... 돈주고 보기에는....      0\n",
       "4    6723715  3D만 아니었어도 별 다섯 개 줬을텐데.. 왜 3D로 나와서 제 심기를 불편하게 하죠??      0\n",
       "5    7898805                                 음악이 주가 된, 최고의 음악영화      1\n",
       "6    6315043                                            진정한 쓰레기      0\n",
       "7    6097171           마치 미국애니에서 튀어나온듯한 창의력없는 로봇디자인부터가,고개를 젖게한다      0\n",
       "8    8932678  갈수록 개판되가는 중국영화 유치하고 내용없음 폼잡다 끝남 말도안되는 무기에 유치한c...      0\n",
       "9    6242223     이별의 아픔뒤에 찾아오는 새로운 인연의 기쁨 But, 모든 사람이 그렇지는 않네..      1\n",
       "10   7462111                                   괜찮네요오랜만포켓몬스터잼밌어요      1\n",
       "11   8425305                        한국독립영화의 한계 그렇게 아버지가 된다와 비교됨      0\n",
       "12   6900881  청춘은 아름답다 그 아름다움은 이성을 흔들어 놓는다. 찰나의 아름다움을 잘 포착한 ...      1\n",
       "13   9629375                   눈에 보이는 반전이었지만 영화의 흡인력은 사라지지 않았다.      1\n",
       "14   9037756  \"스토리, 연출, 연기, 비주얼 등 영화의 기본 조차 안된 영화에 무슨 평을 해. ...      0\n",
       "15  10268521                                   소위 ㅈ문가라는 평점은 뭐냐?      1\n",
       "16   2968565                                 최고!!!!!!!!!!!!!!!!      1\n",
       "17  10107726              발연기 도저히 못보겠다 진짜 이렇게 연기를 못할거라곤 상상도 못했네      0\n",
       "18   6406912                                                나이스      1\n",
       "19   4174028     별 재미도없는거 우려먹어 .... 챔프에서 방송 몇번했더라 ? ㅋㅋㅋㅋㅋㅋㅋㅋㅋㅋㅋ      0"
      ]
     },
     "execution_count": 53,
     "metadata": {},
     "output_type": "execute_result"
    }
   ],
   "source": [
    "test_data[:20]"
   ]
  },
  {
   "cell_type": "code",
   "execution_count": null,
   "metadata": {},
   "outputs": [],
   "source": []
  }
 ],
 "metadata": {
  "anaconda-cloud": {},
  "kernelspec": {
   "display_name": "Python [conda env:Anaconda3]",
   "language": "python",
   "name": "conda-env-Anaconda3-py"
  },
  "language_info": {
   "codemirror_mode": {
    "name": "ipython",
    "version": 3
   },
   "file_extension": ".py",
   "mimetype": "text/x-python",
   "name": "python",
   "nbconvert_exporter": "python",
   "pygments_lexer": "ipython3",
   "version": "3.5.6"
  }
 },
 "nbformat": 4,
 "nbformat_minor": 2
}
