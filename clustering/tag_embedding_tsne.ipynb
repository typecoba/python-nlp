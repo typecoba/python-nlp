{
 "cells": [
  {
   "cell_type": "code",
   "execution_count": 1,
   "metadata": {
    "collapsed": true,
    "nbpresent": {
     "id": "df55fa88-4b95-4d97-823d-35e0592429e5"
    }
   },
   "outputs": [],
   "source": [
    "# tag 프로젝트에서 수집된 데이터중 쓸만한 부분을 떼어네서 테스트중"
   ]
  },
  {
   "cell_type": "markdown",
   "metadata": {
    "collapsed": true
   },
   "source": [
    "# gensim library"
   ]
  },
  {
   "cell_type": "code",
   "execution_count": 1,
   "metadata": {
    "nbpresent": {
     "id": "90ef73d0-3142-4f0e-926d-9ae36aa4b5a8"
    }
   },
   "outputs": [
    {
     "name": "stderr",
     "output_type": "stream",
     "text": [
      "C:\\Users\\mediance_ssh\\Anaconda3\\lib\\site-packages\\gensim\\utils.py:1197: UserWarning: detected Windows; aliasing chunkize to chunkize_serial\n",
      "  warnings.warn(\"detected Windows; aliasing chunkize to chunkize_serial\")\n"
     ]
    },
    {
     "name": "stdout",
     "output_type": "stream",
     "text": [
      "3.4.0\n"
     ]
    }
   ],
   "source": [
    "import gensim\n",
    "print(gensim.__version__)"
   ]
  },
  {
   "cell_type": "code",
   "execution_count": 2,
   "metadata": {
    "nbpresent": {
     "id": "aed00d23-c666-48ab-8d78-b9304365b24c"
    }
   },
   "outputs": [],
   "source": [
    "import soynlp"
   ]
  },
  {
   "cell_type": "code",
   "execution_count": 3,
   "metadata": {
    "nbpresent": {
     "id": "19ba8bea-7258-42f6-bc3f-70a7af23ca24"
    }
   },
   "outputs": [],
   "source": [
    "data_fpath = '../data/ta_hashtag/hashtag_test.txt' # tag text\n",
    "TRAIN_WORD2VEC = False # 학습 switch \n",
    "word2vec_fpath = '../data/ta_hashtag/hashtag_word2vec_model_test.pkl' # 학습데이터"
   ]
  },
  {
   "cell_type": "markdown",
   "metadata": {
    "collapsed": true
   },
   "source": [
    "# preprocessing\n",
    "#### text 토크나이징, 띄어쓰기수정, 맞춤법수정등 \n",
    "#### tag데이터는 일상어에 비해 단어로 이루어진경우가 많으므로 그대로 진행함"
   ]
  },
  {
   "cell_type": "code",
   "execution_count": 4,
   "metadata": {
    "nbpresent": {
     "id": "165f9e4a-dfc9-4746-82d1-d40a4704317a"
    }
   },
   "outputs": [
    {
     "name": "stdout",
     "output_type": "stream",
     "text": [
      "['팔 명지대학교 그린나래 기획봉사 농촌활동 내', '아역모델 작시 zaxy 작시슈즈 엠드림즈 브랜드 ootd 패피 신발 광고모델 김하은', '보이차 아지트샵 아지트샵조히', '무한체력 엄마는 너가 조용하면 좀 무섭다', '감사해 에보나이트 그래도빈손아니니까', '시바스타그램 kyoto shibainu kaji uruwasiki shibakaji shiba 시바견 시바 시바이누 시바개 견스타그램 독스타그램 도그스타그램', '스타패션 imjinah nana 임진아 나나 킬잇 드라마패션 아보아보 avouavou kstyle killit imjinahstyle nanastyle kdramastyle kdrama_fashion kfashion 연예인패션 연예인착용 연예인스타일 임진아패션 임진아스타일 임진아원피스 나나패션 나나원피스 패션정보 드라마패션그램', '원본 셀카', '양세형', '울산대']\n"
     ]
    }
   ],
   "source": [
    "def get_text(fname, debug=True):\n",
    "    with open(fname, encoding='utf-8', errors='ignore') as f:\n",
    "        docs = []\n",
    "        for i, doc in enumerate(f):\n",
    "            if debug and i >= 10:\n",
    "                break                \n",
    "#             doc = doc.replace(',',' ')\n",
    "            doc = doc.replace('\\n','')                                \n",
    "            docs.append(doc)\n",
    "    return docs\n",
    "\n",
    "docs = get_text(data_fpath)\n",
    "print(docs[:20])"
   ]
  },
  {
   "cell_type": "code",
   "execution_count": 5,
   "metadata": {
    "nbpresent": {
     "id": "48408334-940f-457c-9400-2db66831b6b2"
    }
   },
   "outputs": [],
   "source": [
    "# word2vec 학습\n",
    "# class로 iterator를 오버라이딩해 for문을 통해 한줄씩 실행하는 구조가 낯설다.."
   ]
  },
  {
   "cell_type": "code",
   "execution_count": 6,
   "metadata": {
    "nbpresent": {
     "id": "a58ab188-597e-4ee9-9581-511dbec40b5f"
    }
   },
   "outputs": [],
   "source": [
    "import os\n",
    "\n",
    "class TagWord2Vec:\n",
    "    def __init__(self, fname):\n",
    "        self.fname = fname\n",
    "        if not os.path.exists(fname):\n",
    "            print('File not found: %s' % fname)        \n",
    "                \n",
    "    def __iter__(self):        \n",
    "        with open(self.fname, encoding='utf-8', errors='ignore') as f:                        \n",
    "            \n",
    "            for doc in f:            \n",
    "                doc = doc.replace('\\n','')\n",
    "                yield doc.split(' ')        \n",
    "\n",
    "            \n",
    "word2vec_corpus = TagWord2Vec(data_fpath)\n"
   ]
  },
  {
   "cell_type": "code",
   "execution_count": 7,
   "metadata": {
    "nbpresent": {
     "id": "5c608508-3074-4eac-8ec1-ad56ac69c563"
    }
   },
   "outputs": [
    {
     "name": "stdout",
     "output_type": "stream",
     "text": [
      "['팔', '명지대학교', '그린나래', '기획봉사', '농촌활동', '내']\n",
      "['아역모델', '작시', 'zaxy', '작시슈즈', '엠드림즈', '브랜드', 'ootd', '패피', '신발', '광고모델', '김하은']\n",
      "['보이차', '아지트샵', '아지트샵조히']\n",
      "['무한체력', '엄마는', '너가', '조용하면', '좀', '무섭다']\n",
      "['감사해', '에보나이트', '그래도빈손아니니까']\n",
      "['시바스타그램', 'kyoto', 'shibainu', 'kaji', 'uruwasiki', 'shibakaji', 'shiba', '시바견', '시바', '시바이누', '시바개', '견스타그램', '독스타그램', '도그스타그램']\n"
     ]
    }
   ],
   "source": [
    "for i, doc in enumerate(word2vec_corpus):\n",
    "    if i > 5 : break\n",
    "    print(doc)"
   ]
  },
  {
   "cell_type": "code",
   "execution_count": 8,
   "metadata": {},
   "outputs": [],
   "source": [
    "# 학습된 데이터를 "
   ]
  },
  {
   "cell_type": "code",
   "execution_count": 9,
   "metadata": {
    "nbpresent": {
     "id": "cab101d8-88ff-4f4a-9578-aa156ef6dc35"
    }
   },
   "outputs": [
    {
     "name": "stdout",
     "output_type": "stream",
     "text": [
      "Wall time: 434 ms\n"
     ]
    }
   ],
   "source": [
    "%%time\n",
    "from gensim.models import Word2Vec\n",
    "import pickle\n",
    "\n",
    "if TRAIN_WORD2VEC:\n",
    "    word2vec_model = Word2Vec(\n",
    "        word2vec_corpus,\n",
    "        size=100,\n",
    "        alpha=0.025,\n",
    "        window=5,\n",
    "        min_count=5,\n",
    "        workers=3,\n",
    "        sg=0,\n",
    "        negative=5\n",
    "    )\n",
    "    with open(word2vec_fpath,'wb') as f: #미리 학습된 내용..\n",
    "        pickle.dump(word2vec_model, f)\n",
    "        \n",
    "else:\n",
    "    with open(word2vec_fpath, 'rb') as f:\n",
    "        word2vec_model = pickle.load(f)\n",
    "        \n",
    "                "
   ]
  },
  {
   "cell_type": "code",
   "execution_count": 10,
   "metadata": {
    "nbpresent": {
     "id": "a522220d-0595-41ce-901c-7faadfb52d83"
    }
   },
   "outputs": [
    {
     "data": {
      "text/plain": [
       "[('존맛탱', 0.9569051265716553),\n",
       " ('꿀맛', 0.9443696737289429),\n",
       " ('먹방샷', 0.9419482350349426),\n",
       " ('맛있어', 0.9391810894012451),\n",
       " ('배불러', 0.9370462894439697),\n",
       " ('고기그램', 0.930396318435669),\n",
       " ('jmtgr', 0.9298840761184692),\n",
       " ('존맛탱구리', 0.9225170612335205),\n",
       " ('맛있다', 0.9218858480453491),\n",
       " ('또먹고싶다', 0.9205896854400635),\n",
       " ('엽기떡볶이', 0.9176554679870605),\n",
       " ('파스타', 0.9165036678314209),\n",
       " ('냠냠', 0.9160664677619934),\n",
       " ('jmt', 0.9155755043029785),\n",
       " ('맛', 0.9154644012451172),\n",
       " ('스테이크', 0.914262056350708),\n",
       " ('꼬치', 0.913129448890686),\n",
       " ('단골집', 0.9109611511230469),\n",
       " ('고기', 0.9105876088142395),\n",
       " ('탕수육', 0.9091767072677612),\n",
       " ('맛그램', 0.9084287285804749),\n",
       " ('필라프', 0.9078981876373291),\n",
       " ('볶음밥', 0.9076505899429321),\n",
       " ('음식사진', 0.9071639776229858),\n",
       " ('초밥', 0.9068845510482788),\n",
       " ('매운맛', 0.9052410125732422),\n",
       " ('양고기', 0.9048858880996704),\n",
       " ('소주', 0.9045168161392212),\n",
       " ('짜장면', 0.9043819308280945),\n",
       " ('조마루감자탕', 0.9043161869049072)]"
      ]
     },
     "execution_count": 10,
     "metadata": {},
     "output_type": "execute_result"
    }
   ],
   "source": [
    "word2vec_model.wv.most_similar('존맛', topn=30)"
   ]
  },
  {
   "cell_type": "markdown",
   "metadata": {},
   "source": [
    "# Word2Vec.wv.syn0 단어가 저장되어 있는 행렬"
   ]
  },
  {
   "cell_type": "code",
   "execution_count": 11,
   "metadata": {
    "nbpresent": {
     "id": "2e4dbcf2-fca9-40df-a30f-6dcc4ed11c22"
    }
   },
   "outputs": [
    {
     "name": "stderr",
     "output_type": "stream",
     "text": [
      "C:\\Users\\mediance_ssh\\Anaconda3\\lib\\site-packages\\ipykernel\\__main__.py:2: DeprecationWarning: Call to deprecated `syn0` (Attribute will be removed in 4.0.0, use self.wv.vectors instead).\n",
      "  from ipykernel import kernelapp as app\n"
     ]
    },
    {
     "data": {
      "text/plain": [
       "(135446, 100)"
      ]
     },
     "execution_count": 11,
     "metadata": {},
     "output_type": "execute_result"
    }
   ],
   "source": [
    "\n",
    "word2vec_model.wv.syn0.shape"
   ]
  },
  {
   "cell_type": "code",
   "execution_count": 12,
   "metadata": {
    "nbpresent": {
     "id": "28598ce9-6b29-4c44-83ba-33197bf6787f"
    },
    "scrolled": true
   },
   "outputs": [
    {
     "name": "stdout",
     "output_type": "stream",
     "text": [
      "(135446, 100)\n",
      "378.44826942863017\n",
      "1.0000000274140424\n"
     ]
    },
    {
     "name": "stderr",
     "output_type": "stream",
     "text": [
      "C:\\Users\\mediance_ssh\\Anaconda3\\lib\\site-packages\\ipykernel\\__main__.py:2: DeprecationWarning: Call to deprecated `syn0norm` (Attribute will be removed in 4.0.0, use self.wv.vectors_norm instead).\n",
      "  from ipykernel import kernelapp as app\n",
      "C:\\Users\\mediance_ssh\\Anaconda3\\lib\\site-packages\\ipykernel\\__main__.py:3: DeprecationWarning: Call to deprecated `syn0` (Attribute will be removed in 4.0.0, use self.wv.vectors instead).\n",
      "  app.launch_new_instance()\n",
      "C:\\Users\\mediance_ssh\\Anaconda3\\lib\\site-packages\\ipykernel\\__main__.py:4: DeprecationWarning: Call to deprecated `syn0norm` (Attribute will be removed in 4.0.0, use self.wv.vectors_norm instead).\n"
     ]
    }
   ],
   "source": [
    "# wrod2vec.wv.syn0norm - cosine similarity를 위하여 row normalize를 한 행렬로 모양은 같지만, 벡터의 2norm이 1이다..?\n",
    "print(word2vec_model.wv.syn0norm.shape)\n",
    "print(sum(v**2 for v in word2vec_model.wv.syn0[0]))\n",
    "print(sum((v**2 for v in word2vec_model.wv.syn0norm[0])))"
   ]
  },
  {
   "cell_type": "code",
   "execution_count": 13,
   "metadata": {
    "nbpresent": {
     "id": "67d32b43-857b-43e8-bca7-f5c434bef5fe"
    }
   },
   "outputs": [
    {
     "name": "stdout",
     "output_type": "stream",
     "text": [
      "<class 'list'>\n",
      "135446\n",
      "일상\n"
     ]
    }
   ],
   "source": [
    "# word2vec.wv.index2word는 단어별 index가 저장되어 있음 (빈도순 정렬)\n",
    "print(type(word2vec_model.wv.index2word))\n",
    "print(len(word2vec_model.wv.index2word))\n",
    "print(word2vec_model.wv.index2word[0])"
   ]
  },
  {
   "cell_type": "code",
   "execution_count": 14,
   "metadata": {
    "nbpresent": {
     "id": "a542564e-60cc-4142-bfad-0e7ef9d412a3"
    }
   },
   "outputs": [
    {
     "data": {
      "text/plain": [
       "array([-0.5368336 ,  1.857119  , -0.15346059, -1.6179028 , -1.3754413 ,\n",
       "        0.12573646, -0.03007481,  3.2329378 , -0.26311785,  1.0306453 ,\n",
       "       -1.4477588 , -0.08926016,  1.7882625 ,  1.2157729 ,  0.61828995,\n",
       "        2.51335   ,  1.1791475 ,  0.9172201 ,  4.558954  , -0.6255308 ,\n",
       "        1.4600515 ,  1.2119313 , -0.12240368, -1.7979574 ,  0.72797227,\n",
       "        0.55405426,  1.0818824 ,  4.2108545 ,  2.9012825 , -0.64767563,\n",
       "       -1.5000602 ,  1.8767678 , -1.2540319 , -0.90317345,  1.5360197 ,\n",
       "       -0.24718794, -1.0842106 ,  1.4807311 , -0.68278146, -0.13287747,\n",
       "        0.0246343 , -2.705106  ,  2.0748348 ,  2.2202437 ,  1.029211  ,\n",
       "        1.7129372 ,  3.3151522 ,  1.0011592 ,  0.96472985,  1.0497502 ,\n",
       "        2.173751  ,  0.7742974 , -0.8995111 , -0.553434  , -1.0137199 ,\n",
       "        4.116677  , -0.7501671 , -0.49500984,  0.3753781 ,  0.6437608 ,\n",
       "       -2.1111057 , -0.7104022 ,  2.4959826 ,  2.9436593 , -4.9653845 ,\n",
       "        4.114139  , -3.7980208 ,  3.2643046 ,  3.830705  ,  1.7644156 ,\n",
       "        1.5662422 ,  2.7632916 , -0.39501393,  1.878321  ,  2.22064   ,\n",
       "        0.95735794, -1.4831247 ,  1.9869651 ,  2.8283854 ,  1.9141765 ,\n",
       "        3.5015612 , -0.51614475, -0.2660695 ,  0.73175406,  1.4498132 ,\n",
       "        3.5298624 , -0.24494785, -3.331046  , -1.9640911 , -0.66350317,\n",
       "       -1.232054  , -1.6830242 , -1.7975432 ,  1.2839701 , -2.0992715 ,\n",
       "       -2.467693  , -2.3309808 , -1.1652076 ,  0.11243167, -0.2606188 ],\n",
       "      dtype=float32)"
      ]
     },
     "execution_count": 14,
     "metadata": {},
     "output_type": "execute_result"
    }
   ],
   "source": [
    "# 단어 벡터를 가져오려면 .. size=100 이므로 100차원의 vector로 이루어짐 ㅎㄷㄷ\n",
    "word2vec_model.wv['일상']"
   ]
  },
  {
   "cell_type": "code",
   "execution_count": 15,
   "metadata": {
    "nbpresent": {
     "id": "6d96a5ce-1ccd-4557-b4c2-30d176322fd0"
    }
   },
   "outputs": [
    {
     "name": "stdout",
     "output_type": "stream",
     "text": [
      "Vocab(count:42906, index:0, sample_int:1869852578)\n",
      "42906\n"
     ]
    }
   ],
   "source": [
    "# word2vec.wv.vocab - {단어:vocab} 형식의 dict \n",
    "print(word2vec_model.wv.vocab['일상'])\n",
    "print(word2vec_model.wv.vocab['일상'].count)"
   ]
  },
  {
   "cell_type": "code",
   "execution_count": 16,
   "metadata": {
    "nbpresent": {
     "id": "b9d1e77d-cbd1-475d-87a2-d9f3c5038b5a"
    }
   },
   "outputs": [],
   "source": [
    "# preparing tag index to tag name\n",
    "# word2vec의 경우 word2vec_model.wv.index2word 에 tagname이 들어있다.."
   ]
  },
  {
   "cell_type": "code",
   "execution_count": 17,
   "metadata": {
    "nbpresent": {
     "id": "f0cee738-2377-48ac-af1c-ca5226bbeef4"
    }
   },
   "outputs": [],
   "source": [
    "# t-sne"
   ]
  },
  {
   "cell_type": "code",
   "execution_count": 18,
   "metadata": {
    "nbpresent": {
     "id": "4e33597b-84d5-446e-aa10-fc74d40d98cd"
    }
   },
   "outputs": [],
   "source": [
    "from sklearn.manifold import TSNE"
   ]
  },
  {
   "cell_type": "code",
   "execution_count": 19,
   "metadata": {
    "nbpresent": {
     "id": "88940747-fc71-48f7-a612-6b1e239778f7"
    },
    "scrolled": true
   },
   "outputs": [
    {
     "name": "stderr",
     "output_type": "stream",
     "text": [
      "C:\\Users\\mediance_ssh\\Anaconda3\\lib\\site-packages\\ipykernel\\__main__.py:2: DeprecationWarning: Call to deprecated `syn0` (Attribute will be removed in 4.0.0, use self.wv.vectors instead).\n",
      "  from ipykernel import kernelapp as app\n"
     ]
    },
    {
     "ename": "KeyboardInterrupt",
     "evalue": "",
     "output_type": "error",
     "traceback": [
      "\u001b[1;31m---------------------------------------------------------------------------\u001b[0m",
      "\u001b[1;31mKeyboardInterrupt\u001b[0m                         Traceback (most recent call last)",
      "\u001b[1;32m<ipython-input-19-9ac0ca4dfaa7>\u001b[0m in \u001b[0;36m<module>\u001b[1;34m()\u001b[0m\n\u001b[1;32m----> 1\u001b[1;33m \u001b[0mget_ipython\u001b[0m\u001b[1;33m(\u001b[0m\u001b[1;33m)\u001b[0m\u001b[1;33m.\u001b[0m\u001b[0mrun_cell_magic\u001b[0m\u001b[1;33m(\u001b[0m\u001b[1;34m'time'\u001b[0m\u001b[1;33m,\u001b[0m \u001b[1;34m''\u001b[0m\u001b[1;33m,\u001b[0m \u001b[1;34m'tsne = TSNE(n_components=2)\\ny_tsne = tsne.fit_transform(word2vec_model.wv.syn0)'\u001b[0m\u001b[1;33m)\u001b[0m\u001b[1;33m\u001b[0m\u001b[0m\n\u001b[0m",
      "\u001b[1;32mC:\\Users\\mediance_ssh\\Anaconda3\\lib\\site-packages\\IPython\\core\\interactiveshell.py\u001b[0m in \u001b[0;36mrun_cell_magic\u001b[1;34m(self, magic_name, line, cell)\u001b[0m\n\u001b[0;32m   2115\u001b[0m             \u001b[0mmagic_arg_s\u001b[0m \u001b[1;33m=\u001b[0m \u001b[0mself\u001b[0m\u001b[1;33m.\u001b[0m\u001b[0mvar_expand\u001b[0m\u001b[1;33m(\u001b[0m\u001b[0mline\u001b[0m\u001b[1;33m,\u001b[0m \u001b[0mstack_depth\u001b[0m\u001b[1;33m)\u001b[0m\u001b[1;33m\u001b[0m\u001b[0m\n\u001b[0;32m   2116\u001b[0m             \u001b[1;32mwith\u001b[0m \u001b[0mself\u001b[0m\u001b[1;33m.\u001b[0m\u001b[0mbuiltin_trap\u001b[0m\u001b[1;33m:\u001b[0m\u001b[1;33m\u001b[0m\u001b[0m\n\u001b[1;32m-> 2117\u001b[1;33m                 \u001b[0mresult\u001b[0m \u001b[1;33m=\u001b[0m \u001b[0mfn\u001b[0m\u001b[1;33m(\u001b[0m\u001b[0mmagic_arg_s\u001b[0m\u001b[1;33m,\u001b[0m \u001b[0mcell\u001b[0m\u001b[1;33m)\u001b[0m\u001b[1;33m\u001b[0m\u001b[0m\n\u001b[0m\u001b[0;32m   2118\u001b[0m             \u001b[1;32mreturn\u001b[0m \u001b[0mresult\u001b[0m\u001b[1;33m\u001b[0m\u001b[0m\n\u001b[0;32m   2119\u001b[0m \u001b[1;33m\u001b[0m\u001b[0m\n",
      "\u001b[1;32m<C:\\Users\\mediance_ssh\\Anaconda3\\lib\\site-packages\\decorator.py:decorator-gen-61>\u001b[0m in \u001b[0;36mtime\u001b[1;34m(self, line, cell, local_ns)\u001b[0m\n",
      "\u001b[1;32mC:\\Users\\mediance_ssh\\Anaconda3\\lib\\site-packages\\IPython\\core\\magic.py\u001b[0m in \u001b[0;36m<lambda>\u001b[1;34m(f, *a, **k)\u001b[0m\n\u001b[0;32m    186\u001b[0m     \u001b[1;31m# but it's overkill for just that one bit of state.\u001b[0m\u001b[1;33m\u001b[0m\u001b[1;33m\u001b[0m\u001b[0m\n\u001b[0;32m    187\u001b[0m     \u001b[1;32mdef\u001b[0m \u001b[0mmagic_deco\u001b[0m\u001b[1;33m(\u001b[0m\u001b[0marg\u001b[0m\u001b[1;33m)\u001b[0m\u001b[1;33m:\u001b[0m\u001b[1;33m\u001b[0m\u001b[0m\n\u001b[1;32m--> 188\u001b[1;33m         \u001b[0mcall\u001b[0m \u001b[1;33m=\u001b[0m \u001b[1;32mlambda\u001b[0m \u001b[0mf\u001b[0m\u001b[1;33m,\u001b[0m \u001b[1;33m*\u001b[0m\u001b[0ma\u001b[0m\u001b[1;33m,\u001b[0m \u001b[1;33m**\u001b[0m\u001b[0mk\u001b[0m\u001b[1;33m:\u001b[0m \u001b[0mf\u001b[0m\u001b[1;33m(\u001b[0m\u001b[1;33m*\u001b[0m\u001b[0ma\u001b[0m\u001b[1;33m,\u001b[0m \u001b[1;33m**\u001b[0m\u001b[0mk\u001b[0m\u001b[1;33m)\u001b[0m\u001b[1;33m\u001b[0m\u001b[0m\n\u001b[0m\u001b[0;32m    189\u001b[0m \u001b[1;33m\u001b[0m\u001b[0m\n\u001b[0;32m    190\u001b[0m         \u001b[1;32mif\u001b[0m \u001b[0mcallable\u001b[0m\u001b[1;33m(\u001b[0m\u001b[0marg\u001b[0m\u001b[1;33m)\u001b[0m\u001b[1;33m:\u001b[0m\u001b[1;33m\u001b[0m\u001b[0m\n",
      "\u001b[1;32mC:\\Users\\mediance_ssh\\Anaconda3\\lib\\site-packages\\IPython\\core\\magics\\execution.py\u001b[0m in \u001b[0;36mtime\u001b[1;34m(self, line, cell, local_ns)\u001b[0m\n\u001b[0;32m   1191\u001b[0m         \u001b[1;32melse\u001b[0m\u001b[1;33m:\u001b[0m\u001b[1;33m\u001b[0m\u001b[0m\n\u001b[0;32m   1192\u001b[0m             \u001b[0mst\u001b[0m \u001b[1;33m=\u001b[0m \u001b[0mclock2\u001b[0m\u001b[1;33m(\u001b[0m\u001b[1;33m)\u001b[0m\u001b[1;33m\u001b[0m\u001b[0m\n\u001b[1;32m-> 1193\u001b[1;33m             \u001b[0mexec\u001b[0m\u001b[1;33m(\u001b[0m\u001b[0mcode\u001b[0m\u001b[1;33m,\u001b[0m \u001b[0mglob\u001b[0m\u001b[1;33m,\u001b[0m \u001b[0mlocal_ns\u001b[0m\u001b[1;33m)\u001b[0m\u001b[1;33m\u001b[0m\u001b[0m\n\u001b[0m\u001b[0;32m   1194\u001b[0m             \u001b[0mend\u001b[0m \u001b[1;33m=\u001b[0m \u001b[0mclock2\u001b[0m\u001b[1;33m(\u001b[0m\u001b[1;33m)\u001b[0m\u001b[1;33m\u001b[0m\u001b[0m\n\u001b[0;32m   1195\u001b[0m             \u001b[0mout\u001b[0m \u001b[1;33m=\u001b[0m \u001b[1;32mNone\u001b[0m\u001b[1;33m\u001b[0m\u001b[0m\n",
      "\u001b[1;32m<timed exec>\u001b[0m in \u001b[0;36m<module>\u001b[1;34m()\u001b[0m\n",
      "\u001b[1;32mC:\\Users\\mediance_ssh\\Anaconda3\\lib\\site-packages\\sklearn\\manifold\\t_sne.py\u001b[0m in \u001b[0;36mfit_transform\u001b[1;34m(self, X, y)\u001b[0m\n\u001b[0;32m    893\u001b[0m             \u001b[0mEmbedding\u001b[0m \u001b[0mof\u001b[0m \u001b[0mthe\u001b[0m \u001b[0mtraining\u001b[0m \u001b[0mdata\u001b[0m \u001b[1;32min\u001b[0m \u001b[0mlow\u001b[0m\u001b[1;33m-\u001b[0m\u001b[0mdimensional\u001b[0m \u001b[0mspace\u001b[0m\u001b[1;33m.\u001b[0m\u001b[1;33m\u001b[0m\u001b[0m\n\u001b[0;32m    894\u001b[0m         \"\"\"\n\u001b[1;32m--> 895\u001b[1;33m         \u001b[0membedding\u001b[0m \u001b[1;33m=\u001b[0m \u001b[0mself\u001b[0m\u001b[1;33m.\u001b[0m\u001b[0m_fit\u001b[0m\u001b[1;33m(\u001b[0m\u001b[0mX\u001b[0m\u001b[1;33m)\u001b[0m\u001b[1;33m\u001b[0m\u001b[0m\n\u001b[0m\u001b[0;32m    896\u001b[0m         \u001b[0mself\u001b[0m\u001b[1;33m.\u001b[0m\u001b[0membedding_\u001b[0m \u001b[1;33m=\u001b[0m \u001b[0membedding\u001b[0m\u001b[1;33m\u001b[0m\u001b[0m\n\u001b[0;32m    897\u001b[0m         \u001b[1;32mreturn\u001b[0m \u001b[0mself\u001b[0m\u001b[1;33m.\u001b[0m\u001b[0membedding_\u001b[0m\u001b[1;33m\u001b[0m\u001b[0m\n",
      "\u001b[1;32mC:\\Users\\mediance_ssh\\Anaconda3\\lib\\site-packages\\sklearn\\manifold\\t_sne.py\u001b[0m in \u001b[0;36m_fit\u001b[1;34m(self, X, skip_num_points)\u001b[0m\n\u001b[0;32m    811\u001b[0m                           \u001b[0mX_embedded\u001b[0m\u001b[1;33m=\u001b[0m\u001b[0mX_embedded\u001b[0m\u001b[1;33m,\u001b[0m\u001b[1;33m\u001b[0m\u001b[0m\n\u001b[0;32m    812\u001b[0m                           \u001b[0mneighbors\u001b[0m\u001b[1;33m=\u001b[0m\u001b[0mneighbors_nn\u001b[0m\u001b[1;33m,\u001b[0m\u001b[1;33m\u001b[0m\u001b[0m\n\u001b[1;32m--> 813\u001b[1;33m                           skip_num_points=skip_num_points)\n\u001b[0m\u001b[0;32m    814\u001b[0m \u001b[1;33m\u001b[0m\u001b[0m\n\u001b[0;32m    815\u001b[0m     def _tsne(self, P, degrees_of_freedom, n_samples, X_embedded,\n",
      "\u001b[1;32mC:\\Users\\mediance_ssh\\Anaconda3\\lib\\site-packages\\sklearn\\manifold\\t_sne.py\u001b[0m in \u001b[0;36m_tsne\u001b[1;34m(self, P, degrees_of_freedom, n_samples, X_embedded, neighbors, skip_num_points)\u001b[0m\n\u001b[0;32m    862\u001b[0m             \u001b[0mopt_args\u001b[0m\u001b[1;33m[\u001b[0m\u001b[1;34m'n_iter_without_progress'\u001b[0m\u001b[1;33m]\u001b[0m \u001b[1;33m=\u001b[0m \u001b[0mself\u001b[0m\u001b[1;33m.\u001b[0m\u001b[0mn_iter_without_progress\u001b[0m\u001b[1;33m\u001b[0m\u001b[0m\n\u001b[0;32m    863\u001b[0m             params, kl_divergence, it = _gradient_descent(obj_func, params,\n\u001b[1;32m--> 864\u001b[1;33m                                                           **opt_args)\n\u001b[0m\u001b[0;32m    865\u001b[0m \u001b[1;33m\u001b[0m\u001b[0m\n\u001b[0;32m    866\u001b[0m         \u001b[1;31m# Save the final number of iterations\u001b[0m\u001b[1;33m\u001b[0m\u001b[1;33m\u001b[0m\u001b[0m\n",
      "\u001b[1;32mC:\\Users\\mediance_ssh\\Anaconda3\\lib\\site-packages\\sklearn\\manifold\\t_sne.py\u001b[0m in \u001b[0;36m_gradient_descent\u001b[1;34m(objective, p0, it, n_iter, n_iter_check, n_iter_without_progress, momentum, learning_rate, min_gain, min_grad_norm, verbose, args, kwargs)\u001b[0m\n\u001b[0;32m    352\u001b[0m         \u001b[0mkwargs\u001b[0m\u001b[1;33m[\u001b[0m\u001b[1;34m'compute_error'\u001b[0m\u001b[1;33m]\u001b[0m \u001b[1;33m=\u001b[0m \u001b[0mcheck_convergence\u001b[0m \u001b[1;32mor\u001b[0m \u001b[0mi\u001b[0m \u001b[1;33m==\u001b[0m \u001b[0mn_iter\u001b[0m \u001b[1;33m-\u001b[0m \u001b[1;36m1\u001b[0m\u001b[1;33m\u001b[0m\u001b[0m\n\u001b[0;32m    353\u001b[0m \u001b[1;33m\u001b[0m\u001b[0m\n\u001b[1;32m--> 354\u001b[1;33m         \u001b[0merror\u001b[0m\u001b[1;33m,\u001b[0m \u001b[0mgrad\u001b[0m \u001b[1;33m=\u001b[0m \u001b[0mobjective\u001b[0m\u001b[1;33m(\u001b[0m\u001b[0mp\u001b[0m\u001b[1;33m,\u001b[0m \u001b[1;33m*\u001b[0m\u001b[0margs\u001b[0m\u001b[1;33m,\u001b[0m \u001b[1;33m**\u001b[0m\u001b[0mkwargs\u001b[0m\u001b[1;33m)\u001b[0m\u001b[1;33m\u001b[0m\u001b[0m\n\u001b[0m\u001b[0;32m    355\u001b[0m         \u001b[0mgrad_norm\u001b[0m \u001b[1;33m=\u001b[0m \u001b[0mlinalg\u001b[0m\u001b[1;33m.\u001b[0m\u001b[0mnorm\u001b[0m\u001b[1;33m(\u001b[0m\u001b[0mgrad\u001b[0m\u001b[1;33m)\u001b[0m\u001b[1;33m\u001b[0m\u001b[0m\n\u001b[0;32m    356\u001b[0m \u001b[1;33m\u001b[0m\u001b[0m\n",
      "\u001b[1;32mC:\\Users\\mediance_ssh\\Anaconda3\\lib\\site-packages\\sklearn\\manifold\\t_sne.py\u001b[0m in \u001b[0;36m_kl_divergence_bh\u001b[1;34m(params, P, degrees_of_freedom, n_samples, n_components, angle, skip_num_points, verbose, compute_error)\u001b[0m\n\u001b[0;32m    257\u001b[0m                                       \u001b[0mdof\u001b[0m\u001b[1;33m=\u001b[0m\u001b[0mdegrees_of_freedom\u001b[0m\u001b[1;33m,\u001b[0m\u001b[1;33m\u001b[0m\u001b[0m\n\u001b[0;32m    258\u001b[0m                                       compute_error=compute_error)\n\u001b[1;32m--> 259\u001b[1;33m     \u001b[0mc\u001b[0m \u001b[1;33m=\u001b[0m \u001b[1;36m2.0\u001b[0m \u001b[1;33m*\u001b[0m \u001b[1;33m(\u001b[0m\u001b[0mdegrees_of_freedom\u001b[0m \u001b[1;33m+\u001b[0m \u001b[1;36m1.0\u001b[0m\u001b[1;33m)\u001b[0m \u001b[1;33m/\u001b[0m \u001b[0mdegrees_of_freedom\u001b[0m\u001b[1;33m\u001b[0m\u001b[0m\n\u001b[0m\u001b[0;32m    260\u001b[0m     \u001b[0mgrad\u001b[0m \u001b[1;33m=\u001b[0m \u001b[0mgrad\u001b[0m\u001b[1;33m.\u001b[0m\u001b[0mravel\u001b[0m\u001b[1;33m(\u001b[0m\u001b[1;33m)\u001b[0m\u001b[1;33m\u001b[0m\u001b[0m\n\u001b[0;32m    261\u001b[0m     \u001b[0mgrad\u001b[0m \u001b[1;33m*=\u001b[0m \u001b[0mc\u001b[0m\u001b[1;33m\u001b[0m\u001b[0m\n",
      "\u001b[1;31mKeyboardInterrupt\u001b[0m: "
     ]
    }
   ],
   "source": [
    "%%time\n",
    "tsne = TSNE(n_components=2)\n",
    "y_tsne = tsne.fit_transform(word2vec_model.wv.syn0)"
   ]
  },
  {
   "cell_type": "code",
   "execution_count": null,
   "metadata": {
    "nbpresent": {
     "id": "e7009351-cb82-4983-bb78-51fd4ee125b0"
    }
   },
   "outputs": [],
   "source": [
    "print(y_tsne.shape)\n",
    "print(y_tsne[0])"
   ]
  },
  {
   "cell_type": "code",
   "execution_count": null,
   "metadata": {
    "nbpresent": {
     "id": "b1517c8c-e559-4659-947b-fc54a2126c4b"
    }
   },
   "outputs": [],
   "source": [
    "#"
   ]
  },
  {
   "cell_type": "code",
   "execution_count": null,
   "metadata": {
    "nbpresent": {
     "id": "b6a2c705-572c-4bca-a851-6b55985b8742"
    }
   },
   "outputs": [],
   "source": [
    "# preparing 'tag index to tag' 이거...\n",
    "index2tag = word2vec_model.wv.index2word\n",
    "print(index2tag[:5])"
   ]
  },
  {
   "cell_type": "code",
   "execution_count": null,
   "metadata": {
    "nbpresent": {
     "id": "5e343012-3434-4614-b702-4b4259d0afa0"
    }
   },
   "outputs": [],
   "source": [
    "tag2index = {tag:index for index, tag in enumerate(index2tag)}\n",
    "print(tag2index['일상'])\n",
    "print(tag2index.get('맞친',-1))"
   ]
  },
  {
   "cell_type": "code",
   "execution_count": null,
   "metadata": {
    "nbpresent": {
     "id": "074a9dd8-47f3-489b-b347-e908a11b60dd"
    }
   },
   "outputs": [],
   "source": [
    "# prepaing bokeh"
   ]
  },
  {
   "cell_type": "code",
   "execution_count": null,
   "metadata": {
    "nbpresent": {
     "id": "420df4ef-641e-4407-9762-66c9ae9e7a6d"
    }
   },
   "outputs": [],
   "source": [
    "from bokeh.plotting import figure, show, output_notebook\n",
    "\n",
    "def mscatter(p, x, y, marker=\"circle\", size=5, line_color=\"navy\", fill_color=\"orange\", alpha=0.5):\n",
    "    p.scatter(x,y,marker=marker, size=size, line_color=line_color, fill_color=fill_color, alpha=alpha)\n",
    "    \n",
    "def mtext(p,x,y,text):\n",
    "    p.text(x,y,text=[text], text_color=\"black\", text_align=\"center\", text_font_size=\"10pt\")\n",
    "\n",
    "output_notebook()    "
   ]
  },
  {
   "cell_type": "code",
   "execution_count": null,
   "metadata": {
    "nbpresent": {
     "id": "3d44b4f7-d465-4a3e-a28e-653b60d88263"
    }
   },
   "outputs": [],
   "source": [
    "# scatter plot"
   ]
  },
  {
   "cell_type": "code",
   "execution_count": null,
   "metadata": {
    "nbpresent": {
     "id": "17720c70-8f7b-4e1f-95a3-f43312019bf3"
    }
   },
   "outputs": [],
   "source": [
    "def scatterplot_hashtag(tag_idx, embedding):\n",
    "    query_tag = word2vec_model.wv.index2word[tag_idx]\n",
    "    print('{} ({})'.format(query_tag, tag_idx))\n",
    "    \n",
    "    # set figure\n",
    "    p = figure(title='Similar tags of {}'.format(query_tag))\n",
    "    p.grid.grid_line_color = None\n",
    "    p.background_fill_color = \"white\"\n",
    "    p.width = 900\n",
    "    p.height = 900\n",
    "    \n",
    "    # scatter plot\n",
    "    x = embedding[:,0]\n",
    "    y = embedding[:,1]\n",
    "    mscatter(p,x,y)\n",
    "    \n",
    "    \n",
    "    # get similar tags\n",
    "    similars = [query_tag]\n",
    "    similars += [tag for tag, _ in word2vec_model.wv.most_similar(query_tag)]\n",
    "    print(similars)\n",
    "    \n",
    "    # annotation\n",
    "    for similar_tag in similars:\n",
    "        idx = tag2index.get(similar_tag, -1)\n",
    "        if idx == -1:\n",
    "            continue\n",
    "        x, y = embedding[idx,0], embedding[idx,1]\n",
    "        mtext(p,x,y,similar_tag)\n",
    "    \n",
    "    # show\n",
    "    show(p)"
   ]
  },
  {
   "cell_type": "code",
   "execution_count": null,
   "metadata": {
    "nbpresent": {
     "id": "dcf03d74-4304-4ed6-88ee-4082d611bf51"
    },
    "scrolled": false
   },
   "outputs": [],
   "source": [
    "scatterplot_hashtag(1, y_tsne)"
   ]
  },
  {
   "cell_type": "code",
   "execution_count": null,
   "metadata": {
    "nbpresent": {
     "id": "e2601ec0-ec21-4fde-a0bf-a579312465a7"
    }
   },
   "outputs": [],
   "source": [
    "# MDS"
   ]
  },
  {
   "cell_type": "code",
   "execution_count": null,
   "metadata": {
    "nbpresent": {
     "id": "12ef079d-4b80-494c-a58e-3339ef1338ad"
    }
   },
   "outputs": [],
   "source": [
    "%%time\n",
    "from sklearn.manifold import MDS\n",
    "mds = MDS(n_components=2)\n",
    "y_mds = mds.fit_transform(word2vec_model.wv.syn0)\n",
    "y_mds.shape"
   ]
  },
  {
   "cell_type": "code",
   "execution_count": null,
   "metadata": {
    "nbpresent": {
     "id": "42267577-a1f6-44e1-b951-6d78ae21f3a9"
    }
   },
   "outputs": [],
   "source": [
    "scatterplot_hashtag(1, y_mds)"
   ]
  },
  {
   "cell_type": "code",
   "execution_count": null,
   "metadata": {
    "nbpresent": {
     "id": "c46b1c0a-dc7c-4466-826c-47dd30b90d2e"
    }
   },
   "outputs": [],
   "source": []
  },
  {
   "cell_type": "code",
   "execution_count": null,
   "metadata": {
    "nbpresent": {
     "id": "104815f7-9b85-4c9b-8d75-171e161c5985"
    }
   },
   "outputs": [],
   "source": [
    "# lle"
   ]
  },
  {
   "cell_type": "code",
   "execution_count": null,
   "metadata": {
    "nbpresent": {
     "id": "f71e350f-b27d-4a1f-8f4c-45e23658ccf9"
    }
   },
   "outputs": [],
   "source": [
    "%%time\n",
    "from sklearn.manifold import LocallyLinearEmbedding\n",
    "lle = LocallyLinearEmbedding(n_components=2)\n",
    "y_lle = lle.fit_transform(word2vec_model.wv.syn0)\n",
    "y_lle.shape"
   ]
  },
  {
   "cell_type": "code",
   "execution_count": null,
   "metadata": {
    "nbpresent": {
     "id": "2db813cb-86e1-4c1a-917e-a756c2e023e3"
    }
   },
   "outputs": [],
   "source": [
    "scatterplot_hashtag(1, y_lle)"
   ]
  },
  {
   "cell_type": "code",
   "execution_count": null,
   "metadata": {
    "nbpresent": {
     "id": "1d14f661-441c-4585-86a1-855744af17ab"
    }
   },
   "outputs": [],
   "source": [
    "# isomap"
   ]
  },
  {
   "cell_type": "code",
   "execution_count": null,
   "metadata": {
    "nbpresent": {
     "id": "710615a6-13e1-44b7-8d46-4ecbc041703d"
    }
   },
   "outputs": [],
   "source": [
    "%%time\n",
    "from sklearn.manifold import Isomap\n",
    "isomap = Isomap(n_components=2)\n",
    "y_isomap = isomap.fit_transform(word2vec_model.wv.syn0)\n",
    "y_isomap.shape"
   ]
  },
  {
   "cell_type": "code",
   "execution_count": null,
   "metadata": {
    "nbpresent": {
     "id": "48079d92-807a-4e3a-b63c-aeeed29cba49"
    }
   },
   "outputs": [],
   "source": [
    "scatterplot_hashtag(1, y_isomap)"
   ]
  },
  {
   "cell_type": "code",
   "execution_count": null,
   "metadata": {
    "collapsed": true,
    "nbpresent": {
     "id": "4e02a29b-4791-4b76-9786-0d63e10c36f2"
    }
   },
   "outputs": [],
   "source": [
    "# 여기까지 결과..\n",
    "'''\n",
    "word2vec 으로 임베딩된 태그뭉치는 연관단어 찾기까지는 실효성이 있지만 \n",
    "이걸 전부 차원축소해서 그래프 그리는것은 현실성 없어 보인다. \n",
    "전체는 2300만건인데 몇만건의 데이터만 가져와도 몇십~몇시간이 걸리며 사실상 알아볼 수가 없다.\n",
    "이건 추후 텐서플로우-gpu를 사용한 방식으로 테스트해보는것도 필요할것같다.\n",
    "\n",
    "예제에서는 wor2vec->doc2vec 을 하고 doc2vec 임베딩데이터로 비슷한 영화를 찾는 경우..\n",
    "이걸 tag에 적용하려면 마찬가지로 tag를 category화 시켜서 상위 category를 보여줘야하는데\n",
    "테스트 해볼만하긴한데 이게 무슨소용?\n",
    "\n",
    "여기에선 bockh 라이브러리에서 color값 줘서 뭉치확인하고 parameter 튜닝 하는거랑\n",
    "나중에 이쪽에서도 최적의 상태를 도출할 수 있는지 알아보는것.\n",
    "'''"
   ]
  },
  {
   "cell_type": "code",
   "execution_count": null,
   "metadata": {
    "collapsed": true,
    "nbpresent": {
     "id": "e8b90f15-e5de-4c35-83ed-0249825256c5"
    }
   },
   "outputs": [],
   "source": []
  }
 ],
 "metadata": {
  "anaconda-cloud": {},
  "kernelspec": {
   "display_name": "Python [default]",
   "language": "python",
   "name": "python3"
  },
  "language_info": {
   "codemirror_mode": {
    "name": "ipython",
    "version": 3
   },
   "file_extension": ".py",
   "mimetype": "text/x-python",
   "name": "python",
   "nbconvert_exporter": "python",
   "pygments_lexer": "ipython3",
   "version": "3.5.6"
  },
  "nbpresent": {
   "slides": {
    "55ce1845-8c02-409c-8f3e-ea62a4263979": {
     "id": "55ce1845-8c02-409c-8f3e-ea62a4263979",
     "prev": null,
     "regions": {
      "260b83ac-a518-4407-924f-3a075982b0be": {
       "attrs": {
        "height": 0.8,
        "width": 0.8,
        "x": 0.1,
        "y": 0.1
       },
       "id": "260b83ac-a518-4407-924f-3a075982b0be"
      }
     }
    },
    "6957612b-39a1-4c57-b883-ead57a7bfcb1": {
     "id": "6957612b-39a1-4c57-b883-ead57a7bfcb1",
     "prev": "9ba10fdb-9e76-447a-b303-18f4a7638f47",
     "regions": {
      "2b2f5132-2dc9-40c9-89b2-ae64422e7024": {
       "attrs": {
        "height": 0.8,
        "width": 0.8,
        "x": 0.1,
        "y": 0.1
       },
       "content": null,
       "id": "2b2f5132-2dc9-40c9-89b2-ae64422e7024"
      }
     }
    },
    "9ba10fdb-9e76-447a-b303-18f4a7638f47": {
     "id": "9ba10fdb-9e76-447a-b303-18f4a7638f47",
     "prev": "ff61a930-86fa-4969-8671-265515ba43a6",
     "regions": {
      "5fc2ece1-bb43-4974-9466-3baac5b4b821": {
       "attrs": {
        "height": 0.8,
        "width": 0.8,
        "x": 0.1,
        "y": 0.1
       },
       "content": null,
       "id": "5fc2ece1-bb43-4974-9466-3baac5b4b821"
      }
     }
    },
    "b95630f7-bec1-4138-9f42-98b12b4a3d87": {
     "id": "b95630f7-bec1-4138-9f42-98b12b4a3d87",
     "prev": "55ce1845-8c02-409c-8f3e-ea62a4263979",
     "regions": {
      "3f7e5557-be1f-4786-b260-88236077f8da": {
       "attrs": {
        "height": 0.8,
        "width": 0.8,
        "x": 0.1,
        "y": 0.1
       },
       "content": null,
       "id": "3f7e5557-be1f-4786-b260-88236077f8da"
      }
     }
    },
    "bac7423b-76eb-42b7-b5bb-be621083cad1": {
     "id": "bac7423b-76eb-42b7-b5bb-be621083cad1",
     "prev": "b95630f7-bec1-4138-9f42-98b12b4a3d87",
     "regions": {
      "6994cf30-06b1-4309-8bb3-8f11f33a99c0": {
       "attrs": {
        "height": 0.8,
        "width": 0.8,
        "x": 0.1,
        "y": 0.1
       },
       "content": null,
       "id": "6994cf30-06b1-4309-8bb3-8f11f33a99c0"
      }
     }
    },
    "ff61a930-86fa-4969-8671-265515ba43a6": {
     "id": "ff61a930-86fa-4969-8671-265515ba43a6",
     "prev": "bac7423b-76eb-42b7-b5bb-be621083cad1",
     "regions": {
      "c9e55970-c326-4361-9cf2-2c426c056b33": {
       "attrs": {
        "height": 0.8,
        "width": 0.8,
        "x": 0.1,
        "y": 0.1
       },
       "content": null,
       "id": "c9e55970-c326-4361-9cf2-2c426c056b33"
      }
     }
    }
   },
   "themes": {}
  }
 },
 "nbformat": 4,
 "nbformat_minor": 2
}
