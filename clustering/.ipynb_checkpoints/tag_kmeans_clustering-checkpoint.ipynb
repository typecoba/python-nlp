{
 "cells": [
  {
   "cell_type": "markdown",
   "metadata": {
    "collapsed": true
   },
   "source": [
    "클러스터링은 기본적으로 토픽 모델링과 같은 결과물을 얻는 방법인것 같다..\n",
    "\n",
    "k-means 방식이 가장 현실적인?(계산량이 적은) 방법이라고 한다..\n",
    "\n",
    "t-sne를 사용해 시각화하는것까지 test 해보는것이 목표\n",
    "그런데 결국 t-sne는 속도가 너무 느리이이이이다... \n",
    "\n",
    "tag 데이터는 상위 document에 대한 정보가 없기 때문에 topic modeling을 해서 붙여야하는데 그럼 돌고도는 상황으로.. \n",
    "\n",
    "아님 word2vec으로 임베딩해 돌려야하는데 그럼 t-sne에서 속도문제 발생 일단 해보쟈.."
   ]
  },
  {
   "cell_type": "code",
   "execution_count": null,
   "metadata": {
    "collapsed": true
   },
   "outputs": [],
   "source": []
  },
  {
   "cell_type": "code",
   "execution_count": 1,
   "metadata": {
    "collapsed": true
   },
   "outputs": [],
   "source": [
    "corpus_fname = './data/hashtag_test.txt'\n",
    "word2vec_fname = './data/hashtag_word2vec_model_test.pkl'\n",
    "TARIN_WORD2VEC = False"
   ]
  },
  {
   "cell_type": "code",
   "execution_count": 2,
   "metadata": {
    "collapsed": false
   },
   "outputs": [
    {
     "name": "stdout",
     "output_type": "stream",
     "text": [
      "10\n"
     ]
    }
   ],
   "source": [
    "def get_text(fname, debug=True):\n",
    "    with open(fname, encoding='utf-8', errors='ignore') as f:\n",
    "        docs = []\n",
    "        for i, doc in enumerate(f):\n",
    "            if debug and i >= 10:\n",
    "                break                \n",
    "            doc = doc.replace(',',' ')\n",
    "            doc = doc.replace('\\n','')                                \n",
    "            docs.append(doc)\n",
    "    return docs\n",
    "\n",
    "docs = get_text(corpus_fname)\n",
    "print(len(docs))"
   ]
  },
  {
   "cell_type": "code",
   "execution_count": 3,
   "metadata": {
    "collapsed": true
   },
   "outputs": [],
   "source": [
    "# word2vec 학습"
   ]
  },
  {
   "cell_type": "code",
   "execution_count": 4,
   "metadata": {
    "collapsed": false
   },
   "outputs": [],
   "source": [
    "import os\n",
    "\n",
    "class TagWord2Vec:\n",
    "    def __init__(self, fname):\n",
    "        self.fname = fname\n",
    "        if not os.path.exists(fname):\n",
    "            print('File not found: %s' % fname)        \n",
    "                \n",
    "    def __iter__(self):        \n",
    "        with open(self.fname, encoding='utf-8', errors='ignore') as f:                        \n",
    "            \n",
    "            for doc in f:            \n",
    "                doc = doc.replace('\\n','')\n",
    "                yield doc.split(' ')        \n",
    "\n",
    "            \n",
    "word2vec_corpus = TagWord2Vec(corpus_fname)"
   ]
  },
  {
   "cell_type": "code",
   "execution_count": 5,
   "metadata": {
    "collapsed": false
   },
   "outputs": [
    {
     "name": "stdout",
     "output_type": "stream",
     "text": [
      "['팔', '명지대학교', '그린나래', '기획봉사', '농촌활동', '내']\n",
      "['아역모델', '작시', 'zaxy', '작시슈즈', '엠드림즈', '브랜드', 'ootd', '패피', '신발', '광고모델', '김하은']\n",
      "['보이차', '아지트샵', '아지트샵조히']\n",
      "['무한체력', '엄마는', '너가', '조용하면', '좀', '무섭다']\n",
      "['감사해', '에보나이트', '그래도빈손아니니까']\n",
      "['시바스타그램', 'kyoto', 'shibainu', 'kaji', 'uruwasiki', 'shibakaji', 'shiba', '시바견', '시바', '시바이누', '시바개', '견스타그램', '독스타그램', '도그스타그램']\n"
     ]
    }
   ],
   "source": [
    "\n",
    "for i, doc in enumerate(word2vec_corpus):\n",
    "    if i > 5 : break\n",
    "    print(doc)"
   ]
  },
  {
   "cell_type": "code",
   "execution_count": 6,
   "metadata": {
    "collapsed": false
   },
   "outputs": [
    {
     "name": "stderr",
     "output_type": "stream",
     "text": [
      "C:\\Users\\mediance_ssh\\Anaconda3\\lib\\site-packages\\gensim\\utils.py:1197: UserWarning: detected Windows; aliasing chunkize to chunkize_serial\n",
      "  warnings.warn(\"detected Windows; aliasing chunkize to chunkize_serial\")\n"
     ]
    },
    {
     "name": "stdout",
     "output_type": "stream",
     "text": [
      "Wall time: 1.79 s\n"
     ]
    }
   ],
   "source": [
    "%%time\n",
    "from gensim.models import Word2Vec\n",
    "import pickle\n",
    "\n",
    "if TARIN_WORD2VEC:\n",
    "    word2vec_model = Word2Vec(\n",
    "        word2vec_corpus, \n",
    "        size=100,\n",
    "        alpha=0.025,\n",
    "        window=5,\n",
    "        min_count=5,\n",
    "        workers=3,\n",
    "        sg=0\n",
    "    )\n",
    "    with open(word2vec_fname, 'wb') as f:\n",
    "        pickle.dump(word2vec_model, f)\n",
    "        \n",
    "else:\n",
    "    with open(word2vec_fname, 'rb') as f:\n",
    "        word2vec_model = pickle.load(f)\n",
    "                "
   ]
  },
  {
   "cell_type": "code",
   "execution_count": 7,
   "metadata": {
    "collapsed": false
   },
   "outputs": [
    {
     "data": {
      "text/plain": [
       "[('댤콤', 0.9315081834793091),\n",
       " ('견주', 0.9201859831809998),\n",
       " ('말티는사랑입니다', 0.9170259237289429),\n",
       " ('콩시바', 0.9161814451217651),\n",
       " ('복실이', 0.9146752953529358),\n",
       " ('골든두들두들리', 0.9063384532928467),\n",
       " ('허스키', 0.9031350612640381),\n",
       " ('두들리', 0.9019696712493896),\n",
       " ('크림치와와', 0.900802731513977),\n",
       " ('spitz', 0.8949934840202332),\n",
       " ('단모치와와그램', 0.8948346376419067),\n",
       " ('결한마리네', 0.8948209881782532),\n",
       " ('견주소통', 0.8937417268753052),\n",
       " ('멍멍스타그램', 0.8931449055671692),\n",
       " ('5kg', 0.8915718793869019),\n",
       " ('puppiesinstagram', 0.8913960456848145),\n",
       " ('견생', 0.8912184238433838),\n",
       " ('청담우리동물병원', 0.8911557197570801),\n",
       " ('브로콜리컷', 0.888347864151001),\n",
       " ('daschund', 0.8882700204849243)]"
      ]
     },
     "execution_count": 7,
     "metadata": {},
     "output_type": "execute_result"
    }
   ],
   "source": [
    "word2vec_model.wv.most_similar('댕댕', topn=20)"
   ]
  },
  {
   "cell_type": "code",
   "execution_count": 8,
   "metadata": {
    "collapsed": false
   },
   "outputs": [],
   "source": [
    "# 야 이거 돌아갈라나"
   ]
  },
  {
   "cell_type": "code",
   "execution_count": 9,
   "metadata": {
    "collapsed": true
   },
   "outputs": [],
   "source": [
    "index2tag = word2vec_model.wv.index2word\n",
    "tag2index = {tag:index for index, tag in enumerate(index2tag)}"
   ]
  },
  {
   "cell_type": "code",
   "execution_count": 10,
   "metadata": {
    "collapsed": false
   },
   "outputs": [
    {
     "name": "stdout",
     "output_type": "stream",
     "text": [
      "(135446, 100)\n"
     ]
    },
    {
     "name": "stderr",
     "output_type": "stream",
     "text": [
      "C:\\Users\\mediance_ssh\\Anaconda3\\lib\\site-packages\\ipykernel\\__main__.py:1: DeprecationWarning: Call to deprecated `syn0` (Attribute will be removed in 4.0.0, use self.wv.vectors instead).\n",
      "  if __name__ == '__main__':\n"
     ]
    }
   ],
   "source": [
    "print(word2vec_model.wv.syn0.shape)"
   ]
  },
  {
   "cell_type": "code",
   "execution_count": 11,
   "metadata": {
    "collapsed": false
   },
   "outputs": [
    {
     "name": "stderr",
     "output_type": "stream",
     "text": [
      "C:\\Users\\mediance_ssh\\Anaconda3\\lib\\site-packages\\ipykernel\\__main__.py:2: DeprecationWarning: Call to deprecated `syn0` (Attribute will be removed in 4.0.0, use self.wv.vectors instead).\n",
      "  from ipykernel import kernelapp as app\n"
     ]
    }
   ],
   "source": [
    "from sklearn.preprocessing import normalize\n",
    "tag_vectors = normalize(word2vec_model.wv.syn0, axis=1, norm='l2')"
   ]
  },
  {
   "cell_type": "code",
   "execution_count": 12,
   "metadata": {
    "collapsed": false
   },
   "outputs": [
    {
     "name": "stdout",
     "output_type": "stream",
     "text": [
      "kmeans.fit_predict() was done\n",
      "\n",
      "kmeans.fit_transform() as done\n",
      "\n",
      "Wall time: 2.78 s\n"
     ]
    }
   ],
   "source": [
    "%%time\n",
    "from sklearn.cluster import KMeans\n",
    "kmeans = KMeans(n_clusters=10, max_iter=10, n_init=1, verbose=0)\n",
    "print('kmeans.fit_predict() was done')\n",
    "clusters = kmeans.fit_predict(tag_vectors)\n",
    "print('\\nkmeans.fit_transform() as done\\n')\n",
    "distance = kmeans.fit_transform(tag_vectors)"
   ]
  },
  {
   "cell_type": "code",
   "execution_count": 13,
   "metadata": {
    "collapsed": false
   },
   "outputs": [
    {
     "data": {
      "text/plain": [
       "array([0, 0, 0, ..., 4, 9, 4])"
      ]
     },
     "execution_count": 13,
     "metadata": {},
     "output_type": "execute_result"
    }
   ],
   "source": [
    "clusters"
   ]
  },
  {
   "cell_type": "code",
   "execution_count": 14,
   "metadata": {
    "collapsed": false
   },
   "outputs": [
    {
     "data": {
      "text/plain": [
       "(135446, 10)"
      ]
     },
     "execution_count": 14,
     "metadata": {},
     "output_type": "execute_result"
    }
   ],
   "source": [
    "distance.shape"
   ]
  },
  {
   "cell_type": "code",
   "execution_count": 15,
   "metadata": {
    "collapsed": false
   },
   "outputs": [
    {
     "name": "stdout",
     "output_type": "stream",
     "text": [
      "cluster # 0 has 5822 tags\n",
      "cluster # 1 has 13431 tags\n",
      "cluster # 2 has 13283 tags\n",
      "cluster # 3 has 7934 tags\n",
      "cluster # 4 has 38036 tags\n",
      "cluster # 5 has 8781 tags\n",
      "cluster # 6 has 7819 tags\n",
      "cluster # 7 has 10146 tags\n",
      "cluster # 8 has 10148 tags\n",
      "cluster # 9 has 20046 tags\n"
     ]
    }
   ],
   "source": [
    "from collections import defaultdict\n",
    "\n",
    "cluster_to_row = defaultdict(lambda: [])\n",
    "for row_id, label in enumerate(clusters):\n",
    "    cluster_to_row[label].append(row_id)\n",
    "    \n",
    "cluster_to_row = dict(cluster_to_row)\n",
    "for label, rows in cluster_to_row.items():\n",
    "    print('cluster # %d has %d tags' % (label, len(rows)))"
   ]
  },
  {
   "cell_type": "code",
   "execution_count": 16,
   "metadata": {
    "collapsed": false
   },
   "outputs": [
    {
     "name": "stdout",
     "output_type": "stream",
     "text": [
      "\n",
      "cluster # 0\n",
      " > 일상\n",
      " > 소통\n",
      " > 데일리\n",
      " > 맞팔\n",
      " > 좋아요\n",
      " > daily\n",
      " > 선팔\n",
      " > 먹스타그램\n",
      " > 셀카\n",
      " > 셀스타그램\n",
      "\n",
      "cluster # 1\n",
      " > 맛스타그램\n",
      " > jmt\n",
      " > 부산맛집\n",
      " > 집밥\n",
      " > 존맛탱\n",
      " > 디저트\n",
      " > 먹스타\n",
      " > foodstagram\n",
      " > instafood\n",
      " > 점심\n",
      "\n",
      "cluster # 2\n",
      " > kpop\n",
      " > photography\n",
      " > catstagram\n",
      " > puppy\n",
      " > art\n",
      " > petstagram\n",
      " > cute\n",
      " > drawing\n",
      " > seoul\n",
      " > illustration\n",
      "\n",
      "cluster # 3\n",
      " > 꽃다발\n",
      " > flower\n",
      " > 어버이날선물\n",
      " > 어버이날\n",
      " > 원데이클래스\n",
      " > 플라워레슨\n",
      " > 핸드메이드\n",
      " > 플로리스트\n",
      " > 꽃바구니\n",
      " > flowers\n",
      "\n",
      "cluster # 4\n",
      " > 길고양이\n",
      " > 예물반지\n",
      " > 예물커플링\n",
      " > 유기견입양\n",
      " > 버리지마세요\n",
      " > 사지마세요입양하세요\n",
      " > 캣대디\n",
      " > 힐링글귀\n",
      " > 묘스타그램\n",
      " > 인문학\n",
      "\n",
      "cluster # 5\n",
      " > fashion\n",
      " > 패션스타그램\n",
      " > 결혼준비\n",
      " > 예신\n",
      " > 웨딩\n",
      " > 코덕\n",
      " > 웨딩촬영\n",
      " > 구찌\n",
      " > style\n",
      " > 키즈모델\n",
      "\n",
      "cluster # 6\n",
      " > 제주여행\n",
      " > 제주도여행\n",
      " > 제주맛집\n",
      " > 부산호빠\n",
      " > 제주도맛집\n",
      " > 해운대맛집\n",
      " > 해운대호스트바\n",
      " > 해운대호빠\n",
      " > 부산호스트바\n",
      " > 강릉\n",
      "\n",
      "cluster # 7\n",
      " > 육아스타그램\n",
      " > 육아\n",
      " > 육아맘\n",
      " > 육아소통\n",
      " > 딸스타그램\n",
      " > 맘스타그램\n",
      " > 아들스타그램\n",
      " > 도치맘\n",
      " > 아지트샵\n",
      " > 아들맘\n",
      "\n",
      "cluster # 8\n",
      " > 네일아트\n",
      " > 봄네일\n",
      " > 젤네일\n",
      " > 네일스타그램\n",
      " > 네일\n",
      " > 이달의아트\n",
      " > 웨딩네일\n",
      " > 속눈썹연장\n",
      " > nail\n",
      " > nailart\n",
      "\n",
      "cluster # 9\n",
      " > 캠핑\n",
      " > 국내여행\n",
      " > 봄나들이\n",
      " > 등산\n",
      " > 유럽여행\n",
      " > 여행사진\n",
      " > 겹벚꽃\n",
      " > 풍경사진\n",
      " > 낚시\n",
      " > 강원도\n"
     ]
    }
   ],
   "source": [
    "for label, rows in cluster_to_row.items():\n",
    "    print('\\ncluster # %d' % label)\n",
    "    for row in rows[:10]:\n",
    "        print(' > %s' % word2vec_model.wv.index2word[row])"
   ]
  },
  {
   "cell_type": "code",
   "execution_count": 17,
   "metadata": {
    "collapsed": true
   },
   "outputs": [],
   "source": [
    "# t-sne"
   ]
  },
  {
   "cell_type": "code",
   "execution_count": 18,
   "metadata": {
    "collapsed": false,
    "scrolled": true
   },
   "outputs": [
    {
     "name": "stdout",
     "output_type": "stream",
     "text": [
      "Wall time: 113 ms\n"
     ]
    }
   ],
   "source": [
    "%%time \n",
    "\n",
    "from sklearn.manifold import TSNE\n",
    "\n",
    "tsne = TSNE(n_components=2)\n",
    "y_tsne = tsne.fit_transform(kmeans.cluster_centers_)\n",
    "\n",
    "y_tsne.shape"
   ]
  },
  {
   "cell_type": "code",
   "execution_count": 19,
   "metadata": {
    "collapsed": false
   },
   "outputs": [],
   "source": [
    "# matplotlib"
   ]
  },
  {
   "cell_type": "code",
   "execution_count": 20,
   "metadata": {
    "collapsed": false
   },
   "outputs": [],
   "source": [
    "import matplotlib\n",
    "import matplotlib.pyplot as plt\n",
    "import matplotlib.font_manager as fmg\n",
    "%matplotlib inline\n",
    "plt.rcParams['font.family'] = 'Noto Sans KR Regular'\n",
    "# plt.rcParams['font.family'] = 'NanumGothic'\n",
    "# plt.rcParams['font.family'] = 'NanumBarunGothic'"
   ]
  },
  {
   "cell_type": "code",
   "execution_count": 21,
   "metadata": {
    "collapsed": false
   },
   "outputs": [
    {
     "name": "stdout",
     "output_type": "stream",
     "text": [
      "version:  2.2.2\n",
      "path:  C:\\Users\\mediance_ssh\\Anaconda3\\lib\\site-packages\\matplotlib\\__init__.py\n",
      "설정폰트 ['Noto Sans KR Regular']\n",
      "serif ['DejaVu Serif', 'Bitstream Vera Serif', 'Computer Modern Roman', 'New Century Schoolbook', 'Century Schoolbook L', 'Utopia', 'ITC Bookman', 'Bookman', 'Nimbus Roman No9 L', 'Times New Roman', 'Times', 'Palatino', 'Charter', 'serif']\n",
      "sans-serif ['DejaVu Sans', 'Bitstream Vera Sans', 'Computer Modern Sans Serif', 'Lucida Grande', 'Verdana', 'Geneva', 'Lucid', 'Arial', 'Helvetica', 'Avant Garde', 'sans-serif']\n",
      "config C:\\Users\\mediance_ssh\\.matplotlib\n",
      "cache C:\\Users\\mediance_ssh\\.matplotlib\n"
     ]
    }
   ],
   "source": [
    "print('version: ', matplotlib.__version__)\n",
    "print('path: ', matplotlib.__file__)\n",
    "print('설정폰트', plt.rcParams['font.family'])\n",
    "print('serif', plt.rcParams['font.serif'])\n",
    "print('sans-serif', plt.rcParams['font.sans-serif'])\n",
    "print('config', matplotlib.get_configdir())\n",
    "print('cache', matplotlib.get_cachedir()) \n",
    "# print('list', fmg.findSystemFonts(fontpaths=None, fontext='ttf'))\n",
    "\n",
    "# 폰트설정이 안먹을때-> cache 폴더 삭제 후 jupter notebook을 다시 실행한다(전체)"
   ]
  },
  {
   "cell_type": "code",
   "execution_count": 33,
   "metadata": {
    "collapsed": false
   },
   "outputs": [
    {
     "data": {
      "image/png": "[encoded data removed]",
      "text/plain": [
       "<Figure size 1080x720 with 1 Axes>"
      ]
     },
     "metadata": {},
     "output_type": "display_data"
    }
   ],
   "source": [
    "plt.figure(figsize=(15,10))\n",
    "plt.scatter(y_tsne[:,0], y_tsne[:,1], color='red')\n",
    "for i in range(y_tsne.shape[0]):\n",
    "    one_sample = index2tag[cluster_to_row[i][0]]\n",
    "    two_sample = index2tag[cluster_to_row[i][1]]\n",
    "    \n",
    "    tags = ''\n",
    "    for j in range(5):\n",
    "        tags += index2tag[cluster_to_row[i][j]] + ','\n",
    "        \n",
    "    plt.annotate('cluster %d \\n%s' % (i, tags), (y_tsne[i, 0], y_tsne[i, 1]))"
   ]
  },
  {
   "cell_type": "code",
   "execution_count": null,
   "metadata": {
    "collapsed": true
   },
   "outputs": [],
   "source": []
  },
  {
   "cell_type": "code",
   "execution_count": 47,
   "metadata": {
    "collapsed": true
   },
   "outputs": [],
   "source": [
    "'''\n",
    "k-means 클러스터링과 PDA는 특성과 목적이 약간 다른 알고리즘\n",
    "-PDA는 한 doc에 여러 topic을 가정하고 clustering 학습속도 느림\n",
    "-k-means는 한 doc에 한 topic의 형태로 clustering 학습속도 빠르다\n",
    "\n",
    "k-means 결과물에 pyLDAvis를 사용하려면 장황한 방법을 써야한다...\n",
    "https://lovit.github.io/nlp/2018/09/27/pyldavis_kmeans/\n",
    "''' "
   ]
  },
  {
   "cell_type": "code",
   "execution_count": null,
   "metadata": {
    "collapsed": false
   },
   "outputs": [],
   "source": []
  },
  {
   "cell_type": "code",
   "execution_count": null,
   "metadata": {
    "collapsed": true
   },
   "outputs": [],
   "source": []
  },
  {
   "cell_type": "code",
   "execution_count": null,
   "metadata": {
    "collapsed": true
   },
   "outputs": [],
   "source": []
  }
 ],
 "metadata": {
  "anaconda-cloud": {},
  "kernelspec": {
   "display_name": "Python [default]",
   "language": "python",
   "name": "python3"
  },
  "language_info": {
   "codemirror_mode": {
    "name": "ipython",
    "version": 3
   },
   "file_extension": ".py",
   "mimetype": "text/x-python",
   "name": "python",
   "nbconvert_exporter": "python",
   "pygments_lexer": "ipython3",
   "version": "3.5.2"
  }
 },
 "nbformat": 4,
 "nbformat_minor": 2
}
