{
 "cells": [
  {
   "cell_type": "markdown",
   "metadata": {},
   "source": [
    "ta_top_post_master 의 owner_id, hashtag로 이루어진 데이터를 doc2vec으로 학습시키고자함.<br>\n",
    "약 4700만 row를 학습시킨결과 owner_id가 한두번만 나오는것 다수 확인.<br>\n",
    "학습에 영향을 적게 미치는 데이터 확인과 삭제필요.<br>\n",
    "username 컬럼 대응.<br>\n"
   ]
  },
  {
   "cell_type": "markdown",
   "metadata": {},
   "source": [
    "## import"
   ]
  },
  {
   "cell_type": "code",
   "execution_count": 41,
   "metadata": {},
   "outputs": [
    {
     "name": "stdout",
     "output_type": "stream",
     "text": [
      "Wall time: 0 ns\n"
     ]
    }
   ],
   "source": [
    "%time\n",
    "import pandas as pd"
   ]
  },
  {
   "cell_type": "markdown",
   "metadata": {},
   "source": [
    "## load"
   ]
  },
  {
   "cell_type": "code",
   "execution_count": 2,
   "metadata": {},
   "outputs": [],
   "source": [
    "data1 = pd.read_csv(\"../data/ta_hashtag/doc2vec_ta_hashtag_0-10M.csv\", header=None, encoding='CP949')\n",
    "data2 = pd.read_csv(\"../data/ta_hashtag/doc2vec_ta_hashtag_10-20M.csv\", header=None, encoding='CP949')\n",
    "data3 = pd.read_csv(\"../data/ta_hashtag/doc2vec_ta_hashtag_20-30M.csv\", header=None, encoding='CP949')\n",
    "data4 = pd.read_csv(\"../data/ta_hashtag/doc2vec_ta_hashtag_30-40M.csv\", header=None, encoding='CP949')\n",
    "data5 = pd.read_csv(\"../data/ta_hashtag/doc2vec_ta_hashtag_40-47M.csv\", header=None, encoding='CP949')"
   ]
  },
  {
   "cell_type": "code",
   "execution_count": 3,
   "metadata": {},
   "outputs": [],
   "source": [
    "# merge\n",
    "data = pd.concat([data1,data2,data3,data4,data5])"
   ]
  },
  {
   "cell_type": "code",
   "execution_count": 4,
   "metadata": {},
   "outputs": [
    {
     "data": {
      "text/plain": [
       "(47731282, 2)"
      ]
     },
     "execution_count": 4,
     "metadata": {},
     "output_type": "execute_result"
    }
   ],
   "source": [
    "data.shape"
   ]
  },
  {
   "cell_type": "code",
   "execution_count": 5,
   "metadata": {},
   "outputs": [
    {
     "data": {
      "text/html": [
       "<div>\n",
       "<style scoped>\n",
       "    .dataframe tbody tr th:only-of-type {\n",
       "        vertical-align: middle;\n",
       "    }\n",
       "\n",
       "    .dataframe tbody tr th {\n",
       "        vertical-align: top;\n",
       "    }\n",
       "\n",
       "    .dataframe thead th {\n",
       "        text-align: right;\n",
       "    }\n",
       "</style>\n",
       "<table border=\"1\" class=\"dataframe\">\n",
       "  <thead>\n",
       "    <tr style=\"text-align: right;\">\n",
       "      <th></th>\n",
       "      <th>0</th>\n",
       "      <th>1</th>\n",
       "    </tr>\n",
       "  </thead>\n",
       "  <tbody>\n",
       "    <tr>\n",
       "      <th>0</th>\n",
       "      <td>4134297806</td>\n",
       "      <td>패션</td>\n",
       "    </tr>\n",
       "    <tr>\n",
       "      <th>1</th>\n",
       "      <td>596814953</td>\n",
       "      <td>패션</td>\n",
       "    </tr>\n",
       "    <tr>\n",
       "      <th>2</th>\n",
       "      <td>1383284232</td>\n",
       "      <td>패션,데일리룩,셀스타그램,거울샷,셀카,셀피,아이폰,오오티디,니트,터틀넥니트,like...</td>\n",
       "    </tr>\n",
       "    <tr>\n",
       "      <th>3</th>\n",
       "      <td>3076185780</td>\n",
       "      <td>패션,commedesgarcons</td>\n",
       "    </tr>\n",
       "  </tbody>\n",
       "</table>\n",
       "</div>"
      ],
      "text/plain": [
       "            0                                                  1\n",
       "0  4134297806                                                 패션\n",
       "1   596814953                                                 패션\n",
       "2  1383284232  패션,데일리룩,셀스타그램,거울샷,셀카,셀피,아이폰,오오티디,니트,터틀넥니트,like...\n",
       "3  3076185780                                 패션,commedesgarcons"
      ]
     },
     "execution_count": 5,
     "metadata": {},
     "output_type": "execute_result"
    }
   ],
   "source": [
    "data[:4]"
   ]
  },
  {
   "cell_type": "markdown",
   "metadata": {},
   "source": [
    "## 전처리"
   ]
  },
  {
   "cell_type": "markdown",
   "metadata": {},
   "source": [
    "### 1. 중복제거"
   ]
  },
  {
   "cell_type": "code",
   "execution_count": 6,
   "metadata": {},
   "outputs": [],
   "source": [
    "tag_unduplicated = data.drop_duplicates([0,1])"
   ]
  },
  {
   "cell_type": "code",
   "execution_count": 7,
   "metadata": {},
   "outputs": [
    {
     "data": {
      "text/plain": [
       "(36162576, 2)"
      ]
     },
     "execution_count": 7,
     "metadata": {},
     "output_type": "execute_result"
    }
   ],
   "source": [
    "tag_unduplicated.shape"
   ]
  },
  {
   "cell_type": "code",
   "execution_count": 8,
   "metadata": {},
   "outputs": [
    {
     "data": {
      "text/plain": [
       "10514    동래꽃집,예쁜꽃다발,부산꽃배달,꽃선물,부산꽃집,사상꽃집,부산꽃다발,서면꽃집,예쁜꽃집...\n",
       "10515    동래꽃집,예쁜꽃다발,부산꽃배달,부산꽃집,예쁜꽃집,부산꽃다발,사상꽃집,서면꽃집,해운대...\n",
       "10517    동래꽃집,예쁜꽃집,꽃선물,부산꽃집추천,예쁜꽃다발,부산꽃배달,사상꽃집,부산꽃집,서면꽃...\n",
       "10532    서면꽃집,예쁜꽃다발,부산꽃집,예쁜꽃집,부산꽃배달,사상꽃집,부산꽃다발,덕천꽃집,해운대...\n",
       "36598    사상꽃집,예쁜꽃다발,부산꽃배달,꽃선물,부산꽃집,부산꽃다발,서면꽃집,예쁜꽃집,부산꽃집...\n",
       "Name: 1, dtype: object"
      ]
     },
     "execution_count": 8,
     "metadata": {},
     "output_type": "execute_result"
    }
   ],
   "source": [
    "tag_unduplicated[tag_unduplicated[0]==2114112371][1][:5]"
   ]
  },
  {
   "cell_type": "code",
   "execution_count": 42,
   "metadata": {},
   "outputs": [
    {
     "name": "stdout",
     "output_type": "stream",
     "text": [
      "Wall time: 0 ns\n",
      "test\n"
     ]
    }
   ],
   "source": [
    "%time\n",
    "print('test')"
   ]
  },
  {
   "cell_type": "markdown",
   "metadata": {},
   "source": [
    "### 2. id기준 최소 count 제거"
   ]
  },
  {
   "cell_type": "code",
   "execution_count": 9,
   "metadata": {},
   "outputs": [],
   "source": [
    "tag_grouped = tag_unduplicated.groupby([0], axis=0).count()"
   ]
  },
  {
   "cell_type": "code",
   "execution_count": 10,
   "metadata": {},
   "outputs": [
    {
     "data": {
      "text/html": [
       "<div>\n",
       "<style scoped>\n",
       "    .dataframe tbody tr th:only-of-type {\n",
       "        vertical-align: middle;\n",
       "    }\n",
       "\n",
       "    .dataframe tbody tr th {\n",
       "        vertical-align: top;\n",
       "    }\n",
       "\n",
       "    .dataframe thead th {\n",
       "        text-align: right;\n",
       "    }\n",
       "</style>\n",
       "<table border=\"1\" class=\"dataframe\">\n",
       "  <thead>\n",
       "    <tr style=\"text-align: right;\">\n",
       "      <th></th>\n",
       "      <th>1</th>\n",
       "    </tr>\n",
       "    <tr>\n",
       "      <th>0</th>\n",
       "      <th></th>\n",
       "    </tr>\n",
       "  </thead>\n",
       "  <tbody>\n",
       "    <tr>\n",
       "      <th>2114112371</th>\n",
       "      <td>10645</td>\n",
       "    </tr>\n",
       "    <tr>\n",
       "      <th>1723230625</th>\n",
       "      <td>9654</td>\n",
       "    </tr>\n",
       "    <tr>\n",
       "      <th>2116659183</th>\n",
       "      <td>9032</td>\n",
       "    </tr>\n",
       "    <tr>\n",
       "      <th>2956362443</th>\n",
       "      <td>7850</td>\n",
       "    </tr>\n",
       "    <tr>\n",
       "      <th>4878617570</th>\n",
       "      <td>5822</td>\n",
       "    </tr>\n",
       "  </tbody>\n",
       "</table>\n",
       "</div>"
      ],
      "text/plain": [
       "                1\n",
       "0                \n",
       "2114112371  10645\n",
       "1723230625   9654\n",
       "2116659183   9032\n",
       "2956362443   7850\n",
       "4878617570   5822"
      ]
     },
     "execution_count": 10,
     "metadata": {},
     "output_type": "execute_result"
    }
   ],
   "source": [
    "tag_grouped.sort_values(by=1, axis=0, ascending=False)[:5]"
   ]
  },
  {
   "cell_type": "code",
   "execution_count": 11,
   "metadata": {},
   "outputs": [
    {
     "data": {
      "text/plain": [
       "(2950251, 1)"
      ]
     },
     "execution_count": 11,
     "metadata": {},
     "output_type": "execute_result"
    }
   ],
   "source": [
    "tag_grouped.shape"
   ]
  },
  {
   "cell_type": "code",
   "execution_count": 12,
   "metadata": {},
   "outputs": [
    {
     "data": {
      "text/plain": [
       "<matplotlib.axes._subplots.AxesSubplot at 0x1ec9e1da0>"
      ]
     },
     "execution_count": 12,
     "metadata": {},
     "output_type": "execute_result"
    }
   ],
   "source": [
    "tag_grouped[1].hist(range=(0,100), bins=100, figsize=(20,5))"
   ]
  },
  {
   "cell_type": "code",
   "execution_count": 13,
   "metadata": {},
   "outputs": [],
   "source": [
    "# delete list\n",
    "tag_min_filter = tag_grouped.drop( tag_grouped[tag_grouped[1]<15].index ) # 크롤링된 post갯수\n",
    "tag_min_filter = tag_min_filter.reset_index()[0]"
   ]
  },
  {
   "cell_type": "code",
   "execution_count": 14,
   "metadata": {},
   "outputs": [
    {
     "data": {
      "text/html": [
       "<div>\n",
       "<style scoped>\n",
       "    .dataframe tbody tr th:only-of-type {\n",
       "        vertical-align: middle;\n",
       "    }\n",
       "\n",
       "    .dataframe tbody tr th {\n",
       "        vertical-align: top;\n",
       "    }\n",
       "\n",
       "    .dataframe thead th {\n",
       "        text-align: right;\n",
       "    }\n",
       "</style>\n",
       "<table border=\"1\" class=\"dataframe\">\n",
       "  <thead>\n",
       "    <tr style=\"text-align: right;\">\n",
       "      <th></th>\n",
       "      <th>0</th>\n",
       "      <th>1</th>\n",
       "    </tr>\n",
       "  </thead>\n",
       "  <tbody>\n",
       "    <tr>\n",
       "      <th>0</th>\n",
       "      <td>4134297806</td>\n",
       "      <td>패션</td>\n",
       "    </tr>\n",
       "    <tr>\n",
       "      <th>1</th>\n",
       "      <td>596814953</td>\n",
       "      <td>패션</td>\n",
       "    </tr>\n",
       "    <tr>\n",
       "      <th>2</th>\n",
       "      <td>1383284232</td>\n",
       "      <td>패션,데일리룩,셀스타그램,거울샷,셀카,셀피,아이폰,오오티디,니트,터틀넥니트,like...</td>\n",
       "    </tr>\n",
       "    <tr>\n",
       "      <th>3</th>\n",
       "      <td>3076185780</td>\n",
       "      <td>패션,commedesgarcons</td>\n",
       "    </tr>\n",
       "    <tr>\n",
       "      <th>4</th>\n",
       "      <td>1683993105</td>\n",
       "      <td>패션,셀카,셀피,셀스타그램,모델,피팅모델,뷰티모델,데일리룩,데일리,소통,일상,팔로우...</td>\n",
       "    </tr>\n",
       "  </tbody>\n",
       "</table>\n",
       "</div>"
      ],
      "text/plain": [
       "            0                                                  1\n",
       "0  4134297806                                                 패션\n",
       "1   596814953                                                 패션\n",
       "2  1383284232  패션,데일리룩,셀스타그램,거울샷,셀카,셀피,아이폰,오오티디,니트,터틀넥니트,like...\n",
       "3  3076185780                                 패션,commedesgarcons\n",
       "4  1683993105  패션,셀카,셀피,셀스타그램,모델,피팅모델,뷰티모델,데일리룩,데일리,소통,일상,팔로우..."
      ]
     },
     "execution_count": 14,
     "metadata": {},
     "output_type": "execute_result"
    }
   ],
   "source": [
    "tag_filtered = tag_unduplicated[tag_unduplicated[0].isin(tag_min_filter)]\n",
    "tag_filtered[:5]"
   ]
  },
  {
   "cell_type": "code",
   "execution_count": 15,
   "metadata": {
    "scrolled": true
   },
   "outputs": [
    {
     "data": {
      "text/plain": [
       "(27523023, 2)"
      ]
     },
     "execution_count": 15,
     "metadata": {},
     "output_type": "execute_result"
    }
   ],
   "source": [
    "tag_filtered.shape"
   ]
  },
  {
   "cell_type": "markdown",
   "metadata": {},
   "source": [
    "### 3. ia_channel_master\n",
    "채널정보 기반 제거"
   ]
  },
  {
   "cell_type": "code",
   "execution_count": 16,
   "metadata": {},
   "outputs": [],
   "source": [
    "loadPath = '../data/ta_hashtag/doc2vec_ta_hashtag_idx2name.txt'\n",
    "channel_data = pd.read_csv(loadPath, header=None, sep=\"\\t\")\n",
    "channel_data.columns = ['id', 'username', 'follower_cnt', 'following_cnt', 'media_cnt']"
   ]
  },
  {
   "cell_type": "code",
   "execution_count": 17,
   "metadata": {},
   "outputs": [
    {
     "data": {
      "text/plain": [
       "(32602655, 5)"
      ]
     },
     "execution_count": 17,
     "metadata": {},
     "output_type": "execute_result"
    }
   ],
   "source": [
    "channel_data.shape"
   ]
  },
  {
   "cell_type": "code",
   "execution_count": null,
   "metadata": {},
   "outputs": [],
   "source": []
  },
  {
   "cell_type": "code",
   "execution_count": 18,
   "metadata": {},
   "outputs": [],
   "source": [
    "# 최소값 제한\n",
    "channel_filter = channel_data[(channel_data['media_cnt']>50) & (channel_data['follower_cnt']>100)]"
   ]
  },
  {
   "cell_type": "code",
   "execution_count": 19,
   "metadata": {},
   "outputs": [
    {
     "data": {
      "text/plain": [
       "0    2138464578\n",
       "1     471039796\n",
       "2    2018370619\n",
       "3    2136037831\n",
       "4    1502061349\n",
       "Name: id, dtype: int64"
      ]
     },
     "execution_count": 19,
     "metadata": {},
     "output_type": "execute_result"
    }
   ],
   "source": [
    "channel_filter['id'][:5]"
   ]
  },
  {
   "cell_type": "code",
   "execution_count": 20,
   "metadata": {},
   "outputs": [
    {
     "data": {
      "text/plain": [
       "(3692172,)"
      ]
     },
     "execution_count": 20,
     "metadata": {},
     "output_type": "execute_result"
    }
   ],
   "source": [
    "channel_filter['id'].shape"
   ]
  },
  {
   "cell_type": "code",
   "execution_count": 103,
   "metadata": {},
   "outputs": [],
   "source": [
    "# filtering\n",
    "tag_channel_filtered = tag_filtered[tag_filtered[0].isin(channel_filter['id'])]\n",
    "tag_channel_filtered = tag_channel_filtered.reset_index(drop=True)"
   ]
  },
  {
   "cell_type": "code",
   "execution_count": null,
   "metadata": {},
   "outputs": [],
   "source": []
  },
  {
   "cell_type": "code",
   "execution_count": 104,
   "metadata": {},
   "outputs": [
    {
     "data": {
      "text/html": [
       "<div>\n",
       "<style scoped>\n",
       "    .dataframe tbody tr th:only-of-type {\n",
       "        vertical-align: middle;\n",
       "    }\n",
       "\n",
       "    .dataframe tbody tr th {\n",
       "        vertical-align: top;\n",
       "    }\n",
       "\n",
       "    .dataframe thead th {\n",
       "        text-align: right;\n",
       "    }\n",
       "</style>\n",
       "<table border=\"1\" class=\"dataframe\">\n",
       "  <thead>\n",
       "    <tr style=\"text-align: right;\">\n",
       "      <th></th>\n",
       "      <th>0</th>\n",
       "      <th>1</th>\n",
       "    </tr>\n",
       "  </thead>\n",
       "  <tbody>\n",
       "    <tr>\n",
       "      <th>0</th>\n",
       "      <td>4134297806</td>\n",
       "      <td>패션</td>\n",
       "    </tr>\n",
       "    <tr>\n",
       "      <th>1</th>\n",
       "      <td>1383284232</td>\n",
       "      <td>패션,데일리룩,셀스타그램,거울샷,셀카,셀피,아이폰,오오티디,니트,터틀넥니트,like...</td>\n",
       "    </tr>\n",
       "    <tr>\n",
       "      <th>2</th>\n",
       "      <td>3076185780</td>\n",
       "      <td>패션,commedesgarcons</td>\n",
       "    </tr>\n",
       "    <tr>\n",
       "      <th>3</th>\n",
       "      <td>7119582609</td>\n",
       "      <td>패션</td>\n",
       "    </tr>\n",
       "    <tr>\n",
       "      <th>4</th>\n",
       "      <td>6901441457</td>\n",
       "      <td>패션</td>\n",
       "    </tr>\n",
       "  </tbody>\n",
       "</table>\n",
       "</div>"
      ],
      "text/plain": [
       "            0                                                  1\n",
       "0  4134297806                                                 패션\n",
       "1  1383284232  패션,데일리룩,셀스타그램,거울샷,셀카,셀피,아이폰,오오티디,니트,터틀넥니트,like...\n",
       "2  3076185780                                 패션,commedesgarcons\n",
       "3  7119582609                                                 패션\n",
       "4  6901441457                                                 패션"
      ]
     },
     "execution_count": 104,
     "metadata": {},
     "output_type": "execute_result"
    }
   ],
   "source": [
    "tag_channel_filtered[:5]"
   ]
  },
  {
   "cell_type": "code",
   "execution_count": null,
   "metadata": {},
   "outputs": [],
   "source": []
  },
  {
   "cell_type": "code",
   "execution_count": 105,
   "metadata": {},
   "outputs": [
    {
     "data": {
      "text/plain": [
       "(20652887, 2)"
      ]
     },
     "execution_count": 105,
     "metadata": {},
     "output_type": "execute_result"
    }
   ],
   "source": [
    "tag_channel_filtered.shape"
   ]
  },
  {
   "cell_type": "markdown",
   "metadata": {},
   "source": [
    "### 4. NLP "
   ]
  },
  {
   "cell_type": "code",
   "execution_count": 95,
   "metadata": {},
   "outputs": [],
   "source": [
    "from konlpy.tag import Okt\n",
    "okt = Okt()"
   ]
  },
  {
   "cell_type": "code",
   "execution_count": 96,
   "metadata": {},
   "outputs": [],
   "source": [
    "# 띄어쓰기 처리\n",
    "tag_channel_filtered[1] = tag_channel_filtered[1].map(lambda x:x.replace(',',' '))"
   ]
  },
  {
   "cell_type": "code",
   "execution_count": 97,
   "metadata": {},
   "outputs": [
    {
     "data": {
      "text/html": [
       "<div>\n",
       "<style scoped>\n",
       "    .dataframe tbody tr th:only-of-type {\n",
       "        vertical-align: middle;\n",
       "    }\n",
       "\n",
       "    .dataframe tbody tr th {\n",
       "        vertical-align: top;\n",
       "    }\n",
       "\n",
       "    .dataframe thead th {\n",
       "        text-align: right;\n",
       "    }\n",
       "</style>\n",
       "<table border=\"1\" class=\"dataframe\">\n",
       "  <thead>\n",
       "    <tr style=\"text-align: right;\">\n",
       "      <th></th>\n",
       "      <th>0</th>\n",
       "      <th>1</th>\n",
       "    </tr>\n",
       "  </thead>\n",
       "  <tbody>\n",
       "    <tr>\n",
       "      <th>0</th>\n",
       "      <td>4134297806</td>\n",
       "      <td>패션</td>\n",
       "    </tr>\n",
       "    <tr>\n",
       "      <th>1</th>\n",
       "      <td>1383284232</td>\n",
       "      <td>패션 데일리룩 셀스타그램 거울샷 셀카 셀피 아이폰 오오티디 니트 터틀넥니트 like...</td>\n",
       "    </tr>\n",
       "    <tr>\n",
       "      <th>2</th>\n",
       "      <td>3076185780</td>\n",
       "      <td>패션 commedesgarcons</td>\n",
       "    </tr>\n",
       "    <tr>\n",
       "      <th>3</th>\n",
       "      <td>7119582609</td>\n",
       "      <td>패션</td>\n",
       "    </tr>\n",
       "  </tbody>\n",
       "</table>\n",
       "</div>"
      ],
      "text/plain": [
       "            0                                                  1\n",
       "0  4134297806                                                 패션\n",
       "1  1383284232  패션 데일리룩 셀스타그램 거울샷 셀카 셀피 아이폰 오오티디 니트 터틀넥니트 like...\n",
       "2  3076185780                                 패션 commedesgarcons\n",
       "3  7119582609                                                 패션"
      ]
     },
     "execution_count": 97,
     "metadata": {},
     "output_type": "execute_result"
    }
   ],
   "source": [
    "tag_channel_filtered[:4]"
   ]
  },
  {
   "cell_type": "code",
   "execution_count": 100,
   "metadata": {
    "scrolled": true
   },
   "outputs": [
    {
     "name": "stdout",
     "output_type": "stream",
     "text": [
      "패션\n",
      "패션 데일리룩 셀스타그램 거울샷 셀카 셀피 아이폰 오오티디 니트 터틀넥니트 likeforlikes 좋아요반사 선팔하면맞팔 맞팔 서울 selca selfie dailylook dailyfashion fff\n",
      "패션 commedesgarcons\n",
      "패션\n",
      "패션\n",
      "패션\n",
      "상하복 육아맘\n",
      "상하복 아동복 의정부아동복 민락2지구아동복 겨울아동복 예쁜아동복 겨울상하복 민락2지구 모토민락 소통해요\n",
      "상하복 loungewear 이번크리스마스에는 실내복도_엣지있게 봉봉퐁당\n",
      "스트릿패션 iphonexr rafsimons pumafenty ajobyajo vintage kappa nikoand guccigarden mygqlook\n",
      "스트릿패션\n",
      "Wall time: 7.72 s\n"
     ]
    }
   ],
   "source": [
    "'''\n",
    "태그뭉치를 형태소분석하는것은 불필요\n",
    "1. 신조어가 많음\n",
    "2. 처리속도 느림 primary tag에 적용하여 치환하는 방법해야할듯\n",
    "3. 결과?\n",
    "doc2vec을 태그 정보에 사용하는게 의미있는일인가? 하는 의문\n",
    "태그는 post에 묶여있고 post가 id에 묶여있는데\n",
    "잘 나뉘는 경우는 채널에서 굉장히 일관적인 포스트를 올리는 경우임\n",
    "광고, 먹방, 육아, 신혼, 동물 같이 뚜렸하게 편중된 경향을 보이는 채널.\n",
    "일상, 여행, 광범위한 포스팅을 하는 경우는 넓게 확산되는 경향\n",
    "클러스터를 만들기위해선 채널 말고 포스트 기준으로 해야할듯\n",
    "검색 : tag->post->channel\n",
    "\n",
    "'''\n",
    "\n",
    "%%time\n",
    "# temp=['샤오미드리미v10p 무선청소기 가성비갑 가전제품추천 commedesgarcons 청소기돌리기 청결유지 클린존만들기 일상 데일리 청소부모드 commedesgarcons']\n",
    "# okt.nouns(temp[0])\n",
    "\n",
    "\n",
    "\n",
    "for i in tag_channel_filtered.index :\n",
    "    if i > 10 : break\n",
    "    print(tag_channel_filtered.loc[i, 1]);\n",
    "    tag_channel_filtered.loc[i, 2] = ' '.join(okt.nouns(tag_channel_filtered.loc[i, 1]))\n"
   ]
  },
  {
   "cell_type": "code",
   "execution_count": 102,
   "metadata": {},
   "outputs": [
    {
     "data": {
      "text/html": [
       "<div>\n",
       "<style scoped>\n",
       "    .dataframe tbody tr th:only-of-type {\n",
       "        vertical-align: middle;\n",
       "    }\n",
       "\n",
       "    .dataframe tbody tr th {\n",
       "        vertical-align: top;\n",
       "    }\n",
       "\n",
       "    .dataframe thead th {\n",
       "        text-align: right;\n",
       "    }\n",
       "</style>\n",
       "<table border=\"1\" class=\"dataframe\">\n",
       "  <thead>\n",
       "    <tr style=\"text-align: right;\">\n",
       "      <th></th>\n",
       "      <th>0</th>\n",
       "      <th>1</th>\n",
       "      <th>2</th>\n",
       "    </tr>\n",
       "  </thead>\n",
       "  <tbody>\n",
       "    <tr>\n",
       "      <th>0</th>\n",
       "      <td>4134297806</td>\n",
       "      <td>패션</td>\n",
       "      <td>패션</td>\n",
       "    </tr>\n",
       "    <tr>\n",
       "      <th>1</th>\n",
       "      <td>1383284232</td>\n",
       "      <td>패션 데일리룩 셀스타그램 거울샷 셀카 셀피 아이폰 오오티디 니트 터틀넥니트 like...</td>\n",
       "      <td>패션 데 일리 셀 스타 그램 거울 샷 셀카 셀피 아이폰 오오 티디 니트 터틀넥 니트...</td>\n",
       "    </tr>\n",
       "    <tr>\n",
       "      <th>2</th>\n",
       "      <td>3076185780</td>\n",
       "      <td>패션 commedesgarcons</td>\n",
       "      <td>패션</td>\n",
       "    </tr>\n",
       "    <tr>\n",
       "      <th>3</th>\n",
       "      <td>7119582609</td>\n",
       "      <td>패션</td>\n",
       "      <td>패션</td>\n",
       "    </tr>\n",
       "    <tr>\n",
       "      <th>4</th>\n",
       "      <td>6901441457</td>\n",
       "      <td>패션</td>\n",
       "      <td>패션</td>\n",
       "    </tr>\n",
       "    <tr>\n",
       "      <th>5</th>\n",
       "      <td>4029414583</td>\n",
       "      <td>패션</td>\n",
       "      <td>패션</td>\n",
       "    </tr>\n",
       "    <tr>\n",
       "      <th>6</th>\n",
       "      <td>2209059313</td>\n",
       "      <td>상하복 육아맘</td>\n",
       "      <td>상 하복 육아 맘</td>\n",
       "    </tr>\n",
       "    <tr>\n",
       "      <th>7</th>\n",
       "      <td>8615246965</td>\n",
       "      <td>상하복 아동복 의정부아동복 민락2지구아동복 겨울아동복 예쁜아동복 겨울상하복 민락2지...</td>\n",
       "      <td>상 하복 아동복 의정부 아동복 민락 지구 아동복 겨울 아동복 아동복 겨울 하복 민락...</td>\n",
       "    </tr>\n",
       "    <tr>\n",
       "      <th>8</th>\n",
       "      <td>3174670038</td>\n",
       "      <td>상하복 loungewear 이번크리스마스에는 실내복도_엣지있게 봉봉퐁당</td>\n",
       "      <td>상 하복 이번 크리스마스 실내 복도 엣지 봉봉 퐁당</td>\n",
       "    </tr>\n",
       "    <tr>\n",
       "      <th>9</th>\n",
       "      <td>277413730</td>\n",
       "      <td>스트릿패션 iphonexr rafsimons pumafenty ajobyajo vi...</td>\n",
       "      <td>스트릿 패션</td>\n",
       "    </tr>\n",
       "    <tr>\n",
       "      <th>10</th>\n",
       "      <td>3980814570</td>\n",
       "      <td>스트릿패션</td>\n",
       "      <td>스트릿 패션</td>\n",
       "    </tr>\n",
       "    <tr>\n",
       "      <th>11</th>\n",
       "      <td>2999442358</td>\n",
       "      <td>스트릿패션</td>\n",
       "      <td>NaN</td>\n",
       "    </tr>\n",
       "    <tr>\n",
       "      <th>12</th>\n",
       "      <td>618830649</td>\n",
       "      <td>등원룩</td>\n",
       "      <td>NaN</td>\n",
       "    </tr>\n",
       "    <tr>\n",
       "      <th>13</th>\n",
       "      <td>104906525</td>\n",
       "      <td>등원룩 16개월아기</td>\n",
       "      <td>NaN</td>\n",
       "    </tr>\n",
       "    <tr>\n",
       "      <th>14</th>\n",
       "      <td>6685635991</td>\n",
       "      <td>등원룩</td>\n",
       "      <td>NaN</td>\n",
       "    </tr>\n",
       "    <tr>\n",
       "      <th>15</th>\n",
       "      <td>1715943488</td>\n",
       "      <td>등원룩 라미베베</td>\n",
       "      <td>NaN</td>\n",
       "    </tr>\n",
       "    <tr>\n",
       "      <th>16</th>\n",
       "      <td>4430775376</td>\n",
       "      <td>등원룩 등원길 사랑해 6세딸</td>\n",
       "      <td>NaN</td>\n",
       "    </tr>\n",
       "    <tr>\n",
       "      <th>17</th>\n",
       "      <td>721520190</td>\n",
       "      <td>등원룩</td>\n",
       "      <td>NaN</td>\n",
       "    </tr>\n",
       "    <tr>\n",
       "      <th>18</th>\n",
       "      <td>1715943488</td>\n",
       "      <td>등원룩 다혜도안꾸미고입으면 라미베베</td>\n",
       "      <td>NaN</td>\n",
       "    </tr>\n",
       "    <tr>\n",
       "      <th>19</th>\n",
       "      <td>550184284</td>\n",
       "      <td>아동복 연쁘데일리룩 딸스타그램</td>\n",
       "      <td>NaN</td>\n",
       "    </tr>\n",
       "  </tbody>\n",
       "</table>\n",
       "</div>"
      ],
      "text/plain": [
       "             0                                                  1  \\\n",
       "0   4134297806                                                 패션   \n",
       "1   1383284232  패션 데일리룩 셀스타그램 거울샷 셀카 셀피 아이폰 오오티디 니트 터틀넥니트 like...   \n",
       "2   3076185780                                 패션 commedesgarcons   \n",
       "3   7119582609                                                 패션   \n",
       "4   6901441457                                                 패션   \n",
       "5   4029414583                                                 패션   \n",
       "6   2209059313                                            상하복 육아맘   \n",
       "7   8615246965  상하복 아동복 의정부아동복 민락2지구아동복 겨울아동복 예쁜아동복 겨울상하복 민락2지...   \n",
       "8   3174670038            상하복 loungewear 이번크리스마스에는 실내복도_엣지있게 봉봉퐁당   \n",
       "9    277413730  스트릿패션 iphonexr rafsimons pumafenty ajobyajo vi...   \n",
       "10  3980814570                                              스트릿패션   \n",
       "11  2999442358                                              스트릿패션   \n",
       "12   618830649                                                등원룩   \n",
       "13   104906525                                         등원룩 16개월아기   \n",
       "14  6685635991                                                등원룩   \n",
       "15  1715943488                                           등원룩 라미베베   \n",
       "16  4430775376                                    등원룩 등원길 사랑해 6세딸   \n",
       "17   721520190                                                등원룩   \n",
       "18  1715943488                                등원룩 다혜도안꾸미고입으면 라미베베   \n",
       "19   550184284                                   아동복 연쁘데일리룩 딸스타그램   \n",
       "\n",
       "                                                    2  \n",
       "0                                                  패션  \n",
       "1   패션 데 일리 셀 스타 그램 거울 샷 셀카 셀피 아이폰 오오 티디 니트 터틀넥 니트...  \n",
       "2                                                  패션  \n",
       "3                                                  패션  \n",
       "4                                                  패션  \n",
       "5                                                  패션  \n",
       "6                                           상 하복 육아 맘  \n",
       "7   상 하복 아동복 의정부 아동복 민락 지구 아동복 겨울 아동복 아동복 겨울 하복 민락...  \n",
       "8                        상 하복 이번 크리스마스 실내 복도 엣지 봉봉 퐁당  \n",
       "9                                              스트릿 패션  \n",
       "10                                             스트릿 패션  \n",
       "11                                                NaN  \n",
       "12                                                NaN  \n",
       "13                                                NaN  \n",
       "14                                                NaN  \n",
       "15                                                NaN  \n",
       "16                                                NaN  \n",
       "17                                                NaN  \n",
       "18                                                NaN  \n",
       "19                                                NaN  "
      ]
     },
     "execution_count": 102,
     "metadata": {},
     "output_type": "execute_result"
    }
   ],
   "source": [
    "tag_channel_filtered[:20]"
   ]
  },
  {
   "cell_type": "markdown",
   "metadata": {},
   "source": [
    "### 저장"
   ]
  },
  {
   "cell_type": "code",
   "execution_count": 46,
   "metadata": {},
   "outputs": [],
   "source": [
    "savePath = '../data/ta_hashtag/doc2vec_ta_hashtag_filtered.txt'\n",
    "tag_channel_filtered.to_csv(savePath, index=False, header=None, sep=\"\\t\")"
   ]
  },
  {
   "cell_type": "code",
   "execution_count": null,
   "metadata": {},
   "outputs": [],
   "source": []
  },
  {
   "cell_type": "code",
   "execution_count": null,
   "metadata": {},
   "outputs": [],
   "source": []
  },
  {
   "cell_type": "markdown",
   "metadata": {},
   "source": [
    "### etc"
   ]
  },
  {
   "cell_type": "code",
   "execution_count": 129,
   "metadata": {},
   "outputs": [
    {
     "data": {
      "text/html": [
       "<div>\n",
       "<style scoped>\n",
       "    .dataframe tbody tr th:only-of-type {\n",
       "        vertical-align: middle;\n",
       "    }\n",
       "\n",
       "    .dataframe tbody tr th {\n",
       "        vertical-align: top;\n",
       "    }\n",
       "\n",
       "    .dataframe thead th {\n",
       "        text-align: right;\n",
       "    }\n",
       "</style>\n",
       "<table border=\"1\" class=\"dataframe\">\n",
       "  <thead>\n",
       "    <tr style=\"text-align: right;\">\n",
       "      <th></th>\n",
       "      <th>0</th>\n",
       "      <th>1</th>\n",
       "    </tr>\n",
       "  </thead>\n",
       "  <tbody>\n",
       "    <tr>\n",
       "      <th>0</th>\n",
       "      <td>4134297806</td>\n",
       "      <td>패션</td>\n",
       "    </tr>\n",
       "    <tr>\n",
       "      <th>1</th>\n",
       "      <td>1383284232</td>\n",
       "      <td>패션,데일리룩,셀스타그램,거울샷,셀카,셀피,아이폰,오오티디,니트,터틀넥니트,like...</td>\n",
       "    </tr>\n",
       "    <tr>\n",
       "      <th>2</th>\n",
       "      <td>3076185780</td>\n",
       "      <td>패션,commedesgarcons</td>\n",
       "    </tr>\n",
       "    <tr>\n",
       "      <th>3</th>\n",
       "      <td>7119582609</td>\n",
       "      <td>패션</td>\n",
       "    </tr>\n",
       "    <tr>\n",
       "      <th>4</th>\n",
       "      <td>6901441457</td>\n",
       "      <td>패션</td>\n",
       "    </tr>\n",
       "    <tr>\n",
       "      <th>5</th>\n",
       "      <td>4029414583</td>\n",
       "      <td>패션</td>\n",
       "    </tr>\n",
       "    <tr>\n",
       "      <th>6</th>\n",
       "      <td>2209059313</td>\n",
       "      <td>상하복,육아맘</td>\n",
       "    </tr>\n",
       "    <tr>\n",
       "      <th>7</th>\n",
       "      <td>8615246965</td>\n",
       "      <td>상하복,아동복,의정부아동복,민락2지구아동복,겨울아동복,예쁜아동복,겨울상하복,민락2지...</td>\n",
       "    </tr>\n",
       "    <tr>\n",
       "      <th>8</th>\n",
       "      <td>3174670038</td>\n",
       "      <td>상하복,loungewear,이번크리스마스에는,실내복도_엣지있게,봉봉퐁당</td>\n",
       "    </tr>\n",
       "    <tr>\n",
       "      <th>9</th>\n",
       "      <td>277413730</td>\n",
       "      <td>스트릿패션,iphonexr,rafsimons,pumafenty,ajobyajo,vi...</td>\n",
       "    </tr>\n",
       "  </tbody>\n",
       "</table>\n",
       "</div>"
      ],
      "text/plain": [
       "            0                                                  1\n",
       "0  4134297806                                                 패션\n",
       "1  1383284232  패션,데일리룩,셀스타그램,거울샷,셀카,셀피,아이폰,오오티디,니트,터틀넥니트,like...\n",
       "2  3076185780                                 패션,commedesgarcons\n",
       "3  7119582609                                                 패션\n",
       "4  6901441457                                                 패션\n",
       "5  4029414583                                                 패션\n",
       "6  2209059313                                            상하복,육아맘\n",
       "7  8615246965  상하복,아동복,의정부아동복,민락2지구아동복,겨울아동복,예쁜아동복,겨울상하복,민락2지...\n",
       "8  3174670038            상하복,loungewear,이번크리스마스에는,실내복도_엣지있게,봉봉퐁당\n",
       "9   277413730  스트릿패션,iphonexr,rafsimons,pumafenty,ajobyajo,vi..."
      ]
     },
     "execution_count": 129,
     "metadata": {},
     "output_type": "execute_result"
    }
   ],
   "source": [
    "tag_channel_filtered[:10]"
   ]
  },
  {
   "cell_type": "code",
   "execution_count": 135,
   "metadata": {},
   "outputs": [
    {
     "ename": "TypeError",
     "evalue": "'int' object is not iterable",
     "output_type": "error",
     "traceback": [
      "\u001b[1;31m---------------------------------------------------------------------------\u001b[0m",
      "\u001b[1;31mTypeError\u001b[0m                                 Traceback (most recent call last)",
      "\u001b[1;32m<ipython-input-135-f3f3a493057d>\u001b[0m in \u001b[0;36m<module>\u001b[1;34m()\u001b[0m\n\u001b[1;32m----> 1\u001b[1;33m \u001b[0mtemp\u001b[0m \u001b[1;33m=\u001b[0m \u001b[0mpd\u001b[0m\u001b[1;33m.\u001b[0m\u001b[0mSeries\u001b[0m\u001b[1;33m(\u001b[0m\u001b[0mtag_channel_filtered\u001b[0m\u001b[1;33m[\u001b[0m\u001b[1;36m1\u001b[0m\u001b[1;33m]\u001b[0m\u001b[1;33m.\u001b[0m\u001b[0mstr\u001b[0m\u001b[1;33m.\u001b[0m\u001b[0msplit\u001b[0m\u001b[1;33m(\u001b[0m\u001b[0mexpand\u001b[0m\u001b[1;33m=\u001b[0m\u001b[1;32mTrue\u001b[0m\u001b[1;33m)\u001b[0m\u001b[1;33m)\u001b[0m\u001b[1;33m\u001b[0m\u001b[0m\n\u001b[0m",
      "\u001b[1;32mC:\\Users\\mediance_ssh\\Anaconda3\\lib\\site-packages\\pandas\\core\\series.py\u001b[0m in \u001b[0;36m__init__\u001b[1;34m(self, data, index, dtype, name, copy, fastpath)\u001b[0m\n\u001b[0;32m    273\u001b[0m             \u001b[1;32melse\u001b[0m\u001b[1;33m:\u001b[0m\u001b[1;33m\u001b[0m\u001b[0m\n\u001b[0;32m    274\u001b[0m                 data = _sanitize_array(data, index, dtype, copy,\n\u001b[1;32m--> 275\u001b[1;33m                                        raise_cast_failure=True)\n\u001b[0m\u001b[0;32m    276\u001b[0m \u001b[1;33m\u001b[0m\u001b[0m\n\u001b[0;32m    277\u001b[0m                 \u001b[0mdata\u001b[0m \u001b[1;33m=\u001b[0m \u001b[0mSingleBlockManager\u001b[0m\u001b[1;33m(\u001b[0m\u001b[0mdata\u001b[0m\u001b[1;33m,\u001b[0m \u001b[0mindex\u001b[0m\u001b[1;33m,\u001b[0m \u001b[0mfastpath\u001b[0m\u001b[1;33m=\u001b[0m\u001b[1;32mTrue\u001b[0m\u001b[1;33m)\u001b[0m\u001b[1;33m\u001b[0m\u001b[0m\n",
      "\u001b[1;32mC:\\Users\\mediance_ssh\\Anaconda3\\lib\\site-packages\\pandas\\core\\series.py\u001b[0m in \u001b[0;36m_sanitize_array\u001b[1;34m(data, index, dtype, copy, raise_cast_failure)\u001b[0m\n\u001b[0;32m   4165\u001b[0m             \u001b[1;32mraise\u001b[0m \u001b[0mException\u001b[0m\u001b[1;33m(\u001b[0m\u001b[1;34m'Data must be 1-dimensional'\u001b[0m\u001b[1;33m)\u001b[0m\u001b[1;33m\u001b[0m\u001b[0m\n\u001b[0;32m   4166\u001b[0m         \u001b[1;32melse\u001b[0m\u001b[1;33m:\u001b[0m\u001b[1;33m\u001b[0m\u001b[0m\n\u001b[1;32m-> 4167\u001b[1;33m             \u001b[0msubarr\u001b[0m \u001b[1;33m=\u001b[0m \u001b[0mcom\u001b[0m\u001b[1;33m.\u001b[0m\u001b[0m_asarray_tuplesafe\u001b[0m\u001b[1;33m(\u001b[0m\u001b[0mdata\u001b[0m\u001b[1;33m,\u001b[0m \u001b[0mdtype\u001b[0m\u001b[1;33m=\u001b[0m\u001b[0mdtype\u001b[0m\u001b[1;33m)\u001b[0m\u001b[1;33m\u001b[0m\u001b[0m\n\u001b[0m\u001b[0;32m   4168\u001b[0m \u001b[1;33m\u001b[0m\u001b[0m\n\u001b[0;32m   4169\u001b[0m     \u001b[1;31m# This is to prevent mixed-type Series getting all casted to\u001b[0m\u001b[1;33m\u001b[0m\u001b[1;33m\u001b[0m\u001b[0m\n",
      "\u001b[1;32mC:\\Users\\mediance_ssh\\Anaconda3\\lib\\site-packages\\pandas\\core\\common.py\u001b[0m in \u001b[0;36m_asarray_tuplesafe\u001b[1;34m(values, dtype)\u001b[0m\n\u001b[0;32m    318\u001b[0m         \u001b[1;31m# Avoid building an array of arrays:\u001b[0m\u001b[1;33m\u001b[0m\u001b[1;33m\u001b[0m\u001b[0m\n\u001b[0;32m    319\u001b[0m         \u001b[1;31m# TODO: verify whether any path hits this except #18819 (invalid)\u001b[0m\u001b[1;33m\u001b[0m\u001b[1;33m\u001b[0m\u001b[0m\n\u001b[1;32m--> 320\u001b[1;33m         \u001b[0mvalues\u001b[0m \u001b[1;33m=\u001b[0m \u001b[1;33m[\u001b[0m\u001b[0mtuple\u001b[0m\u001b[1;33m(\u001b[0m\u001b[0mx\u001b[0m\u001b[1;33m)\u001b[0m \u001b[1;32mfor\u001b[0m \u001b[0mx\u001b[0m \u001b[1;32min\u001b[0m \u001b[0mvalues\u001b[0m\u001b[1;33m]\u001b[0m\u001b[1;33m\u001b[0m\u001b[0m\n\u001b[0m\u001b[0;32m    321\u001b[0m         \u001b[0mresult\u001b[0m \u001b[1;33m=\u001b[0m \u001b[0mconstruct_1d_object_array_from_listlike\u001b[0m\u001b[1;33m(\u001b[0m\u001b[0mvalues\u001b[0m\u001b[1;33m)\u001b[0m\u001b[1;33m\u001b[0m\u001b[0m\n\u001b[0;32m    322\u001b[0m \u001b[1;33m\u001b[0m\u001b[0m\n",
      "\u001b[1;32mC:\\Users\\mediance_ssh\\Anaconda3\\lib\\site-packages\\pandas\\core\\common.py\u001b[0m in \u001b[0;36m<listcomp>\u001b[1;34m(.0)\u001b[0m\n\u001b[0;32m    318\u001b[0m         \u001b[1;31m# Avoid building an array of arrays:\u001b[0m\u001b[1;33m\u001b[0m\u001b[1;33m\u001b[0m\u001b[0m\n\u001b[0;32m    319\u001b[0m         \u001b[1;31m# TODO: verify whether any path hits this except #18819 (invalid)\u001b[0m\u001b[1;33m\u001b[0m\u001b[1;33m\u001b[0m\u001b[0m\n\u001b[1;32m--> 320\u001b[1;33m         \u001b[0mvalues\u001b[0m \u001b[1;33m=\u001b[0m \u001b[1;33m[\u001b[0m\u001b[0mtuple\u001b[0m\u001b[1;33m(\u001b[0m\u001b[0mx\u001b[0m\u001b[1;33m)\u001b[0m \u001b[1;32mfor\u001b[0m \u001b[0mx\u001b[0m \u001b[1;32min\u001b[0m \u001b[0mvalues\u001b[0m\u001b[1;33m]\u001b[0m\u001b[1;33m\u001b[0m\u001b[0m\n\u001b[0m\u001b[0;32m    321\u001b[0m         \u001b[0mresult\u001b[0m \u001b[1;33m=\u001b[0m \u001b[0mconstruct_1d_object_array_from_listlike\u001b[0m\u001b[1;33m(\u001b[0m\u001b[0mvalues\u001b[0m\u001b[1;33m)\u001b[0m\u001b[1;33m\u001b[0m\u001b[0m\n\u001b[0;32m    322\u001b[0m \u001b[1;33m\u001b[0m\u001b[0m\n",
      "\u001b[1;31mTypeError\u001b[0m: 'int' object is not iterable"
     ]
    }
   ],
   "source": [
    "temp = pd.Series(tag_channel_filtered[1].str.split(',',expand=True))"
   ]
  },
  {
   "cell_type": "code",
   "execution_count": null,
   "metadata": {},
   "outputs": [],
   "source": [
    "temp[:10]"
   ]
  },
  {
   "cell_type": "code",
   "execution_count": null,
   "metadata": {},
   "outputs": [],
   "source": []
  },
  {
   "cell_type": "code",
   "execution_count": 118,
   "metadata": {},
   "outputs": [
    {
     "name": "stdout",
     "output_type": "stream",
     "text": [
      "Wall time: 10.2 s\n"
     ]
    }
   ],
   "source": [
    "%%time\n",
    "temp = tag_channel_filtered.set_index(1).filter(like='패션', axis=0)"
   ]
  },
  {
   "cell_type": "code",
   "execution_count": 126,
   "metadata": {},
   "outputs": [
    {
     "name": "stdout",
     "output_type": "stream",
     "text": [
      "Wall time: 15.4 s\n"
     ]
    }
   ],
   "source": [
    "%%time\n",
    "tempMask = tag_channel_filtered[1].str.contains('패션|일상|ootd')"
   ]
  },
  {
   "cell_type": "code",
   "execution_count": 127,
   "metadata": {},
   "outputs": [
    {
     "data": {
      "text/html": [
       "<div>\n",
       "<style scoped>\n",
       "    .dataframe tbody tr th:only-of-type {\n",
       "        vertical-align: middle;\n",
       "    }\n",
       "\n",
       "    .dataframe tbody tr th {\n",
       "        vertical-align: top;\n",
       "    }\n",
       "\n",
       "    .dataframe thead th {\n",
       "        text-align: right;\n",
       "    }\n",
       "</style>\n",
       "<table border=\"1\" class=\"dataframe\">\n",
       "  <thead>\n",
       "    <tr style=\"text-align: right;\">\n",
       "      <th></th>\n",
       "      <th>0</th>\n",
       "      <th>1</th>\n",
       "    </tr>\n",
       "  </thead>\n",
       "  <tbody>\n",
       "    <tr>\n",
       "      <th>0</th>\n",
       "      <td>4134297806</td>\n",
       "      <td>패션</td>\n",
       "    </tr>\n",
       "    <tr>\n",
       "      <th>1</th>\n",
       "      <td>1383284232</td>\n",
       "      <td>패션,데일리룩,셀스타그램,거울샷,셀카,셀피,아이폰,오오티디,니트,터틀넥니트,like...</td>\n",
       "    </tr>\n",
       "    <tr>\n",
       "      <th>2</th>\n",
       "      <td>3076185780</td>\n",
       "      <td>패션,commedesgarcons</td>\n",
       "    </tr>\n",
       "    <tr>\n",
       "      <th>3</th>\n",
       "      <td>7119582609</td>\n",
       "      <td>패션</td>\n",
       "    </tr>\n",
       "    <tr>\n",
       "      <th>4</th>\n",
       "      <td>6901441457</td>\n",
       "      <td>패션</td>\n",
       "    </tr>\n",
       "    <tr>\n",
       "      <th>5</th>\n",
       "      <td>4029414583</td>\n",
       "      <td>패션</td>\n",
       "    </tr>\n",
       "    <tr>\n",
       "      <th>9</th>\n",
       "      <td>277413730</td>\n",
       "      <td>스트릿패션,iphonexr,rafsimons,pumafenty,ajobyajo,vi...</td>\n",
       "    </tr>\n",
       "    <tr>\n",
       "      <th>10</th>\n",
       "      <td>3980814570</td>\n",
       "      <td>스트릿패션</td>\n",
       "    </tr>\n",
       "    <tr>\n",
       "      <th>11</th>\n",
       "      <td>2999442358</td>\n",
       "      <td>스트릿패션</td>\n",
       "    </tr>\n",
       "    <tr>\n",
       "      <th>22</th>\n",
       "      <td>8801957789</td>\n",
       "      <td>주니어패션,뚜아멜라,디자이너브랜드,자체제작아동복,아동복,유아동복,감성아동복,이쁜아기...</td>\n",
       "    </tr>\n",
       "  </tbody>\n",
       "</table>\n",
       "</div>"
      ],
      "text/plain": [
       "             0                                                  1\n",
       "0   4134297806                                                 패션\n",
       "1   1383284232  패션,데일리룩,셀스타그램,거울샷,셀카,셀피,아이폰,오오티디,니트,터틀넥니트,like...\n",
       "2   3076185780                                 패션,commedesgarcons\n",
       "3   7119582609                                                 패션\n",
       "4   6901441457                                                 패션\n",
       "5   4029414583                                                 패션\n",
       "9    277413730  스트릿패션,iphonexr,rafsimons,pumafenty,ajobyajo,vi...\n",
       "10  3980814570                                              스트릿패션\n",
       "11  2999442358                                              스트릿패션\n",
       "22  8801957789  주니어패션,뚜아멜라,디자이너브랜드,자체제작아동복,아동복,유아동복,감성아동복,이쁜아기..."
      ]
     },
     "execution_count": 127,
     "metadata": {},
     "output_type": "execute_result"
    }
   ],
   "source": [
    "tag_channel_filtered[tempMask][:10]"
   ]
  },
  {
   "cell_type": "code",
   "execution_count": 112,
   "metadata": {},
   "outputs": [
    {
     "data": {
      "text/plain": [
       "(20652887,)"
      ]
     },
     "execution_count": 112,
     "metadata": {},
     "output_type": "execute_result"
    }
   ],
   "source": [
    "temp.shape"
   ]
  },
  {
   "cell_type": "code",
   "execution_count": null,
   "metadata": {},
   "outputs": [],
   "source": []
  }
 ],
 "metadata": {
  "anaconda-cloud": {},
  "kernelspec": {
   "display_name": "Python [conda env:Anaconda3]",
   "language": "python",
   "name": "conda-env-Anaconda3-py"
  },
  "language_info": {
   "codemirror_mode": {
    "name": "ipython",
    "version": 3
   },
   "file_extension": ".py",
   "mimetype": "text/x-python",
   "name": "python",
   "nbconvert_exporter": "python",
   "pygments_lexer": "ipython3",
   "version": "3.5.6"
  }
 },
 "nbformat": 4,
 "nbformat_minor": 2
}
