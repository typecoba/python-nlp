{
 "cells": [
  {
   "cell_type": "markdown",
   "metadata": {},
   "source": [
    "## load data"
   ]
  },
  {
   "cell_type": "code",
   "execution_count": null,
   "metadata": {},
   "outputs": [],
   "source": [
    "'''\n",
    "python list 관련 연산이 너무느리다.. list + list 메모리 반복해서 확장하는 i/o가 큰가봄\n",
    "혹은, numpy array를 써보는게 어떨까?\n",
    "'''"
   ]
  },
  {
   "cell_type": "code",
   "execution_count": 85,
   "metadata": {},
   "outputs": [],
   "source": [
    "from pprint import pprint"
   ]
  },
  {
   "cell_type": "code",
   "execution_count": 86,
   "metadata": {},
   "outputs": [],
   "source": [
    "sents = ''\n",
    "with open('../data/ta_hashtag/hashtag_5M_all_4G_del_duplicate.txt', encoding='utf-8') as f :   \n",
    "    sents = f.readlines()"
   ]
  },
  {
   "cell_type": "code",
   "execution_count": 87,
   "metadata": {},
   "outputs": [
    {
     "name": "stdout",
     "output_type": "stream",
     "text": [
      "['\\n', '불닭볶음면 불닭한상 클리어가능불가능 너라면가능할듯\\n', '부산오뎅 오뎅\\n', '사지마세요입양하세요 기리 김타로 타로 다크 dark 닥스훈트 닥스훈트is뭔들 닥스타그램 반려견 나는야먹보왕 개스타그램 버리지말아라 애들이무슨죄냐 슈퍼다크 슈퍼타로 수제간식 자연식 수제화식 홍 홍스푸드\\n', '모둠세트 제주도 제주 애월 애월읍 제주시 협재 협재해수욕장 협재해변 수제협재돈가스 수제돈가스 제주협재맛집 제주맛집 눈꽃돈가스 바다 뷰 에메랄드\\n']\n"
     ]
    }
   ],
   "source": [
    "print(sents[:5])"
   ]
  },
  {
   "cell_type": "code",
   "execution_count": 88,
   "metadata": {},
   "outputs": [],
   "source": [
    "word_list = []\n",
    "for sent in sents :\n",
    "    words = sent.rstrip('\\n').split(' ')\n",
    "    for word in words : \n",
    "        word_list.append(word)"
   ]
  },
  {
   "cell_type": "code",
   "execution_count": 89,
   "metadata": {},
   "outputs": [
    {
     "data": {
      "text/plain": [
       "270893740"
      ]
     },
     "execution_count": 89,
     "metadata": {},
     "output_type": "execute_result"
    }
   ],
   "source": [
    "len(word_list)"
   ]
  },
  {
   "cell_type": "code",
   "execution_count": 90,
   "metadata": {},
   "outputs": [
    {
     "name": "stdout",
     "output_type": "stream",
     "text": [
      "['', '불닭볶음면', '불닭한상', '클리어가능불가능', '너라면가능할듯', '부산오뎅', '오뎅', '사지마세요입양하세요', '기리', '김타로']\n"
     ]
    }
   ],
   "source": [
    "print(word_list[:10])"
   ]
  },
  {
   "cell_type": "markdown",
   "metadata": {},
   "source": [
    "## word count"
   ]
  },
  {
   "cell_type": "code",
   "execution_count": 100,
   "metadata": {},
   "outputs": [],
   "source": [
    "from collections import Counter\n",
    "counter = Counter(word_list)"
   ]
  },
  {
   "cell_type": "code",
   "execution_count": 108,
   "metadata": {},
   "outputs": [],
   "source": [
    "counter_items = {word:freq for word, freq in counter.items() if (freq >= 1)}\n",
    "# counter_items = sorted(counter_items.items(), key=lambda x:x[1], reverse=True)"
   ]
  },
  {
   "cell_type": "code",
   "execution_count": 109,
   "metadata": {},
   "outputs": [
    {
     "name": "stdout",
     "output_type": "stream",
     "text": [
      "9746890\n"
     ]
    }
   ],
   "source": [
    "pprint(len(counter_items))"
   ]
  },
  {
   "cell_type": "code",
   "execution_count": null,
   "metadata": {},
   "outputs": [],
   "source": [
    "'''\n",
    "freq >= 1   9746890\n",
    "freq >= 5   2335070\n",
    "freq >= 10  1295939\n",
    "freq >= 15  946731\n",
    "freq >= 20  763289\n",
    "freq >= 30  567431\n",
    "freq >= 100 246572\n",
    "'''"
   ]
  },
  {
   "cell_type": "code",
   "execution_count": 75,
   "metadata": {},
   "outputs": [
    {
     "data": {
      "text/plain": [
       "[('일상', 42906), ('소통', 23974), ('데일리', 21879), ('맞팔', 21619), ('좋아요', 19734), ('daily', 16613), ('선팔', 13886), ('먹스타그램', 13767), ('셀카', 11987), ('셀스타그램', 10963)]"
      ]
     },
     "execution_count": 75,
     "metadata": {},
     "output_type": "execute_result"
    }
   ],
   "source": [
    "counter[:10]"
   ]
  },
  {
   "cell_type": "code",
   "execution_count": null,
   "metadata": {},
   "outputs": [],
   "source": []
  },
  {
   "cell_type": "markdown",
   "metadata": {},
   "source": [
    "## visualization"
   ]
  },
  {
   "cell_type": "code",
   "execution_count": 33,
   "metadata": {},
   "outputs": [],
   "source": [
    "import matplotlib.pyplot as plt\n",
    "import pandas as pd\n",
    "import numpy as np\n",
    "import seaborn as sns"
   ]
  },
  {
   "cell_type": "code",
   "execution_count": null,
   "metadata": {},
   "outputs": [],
   "source": [
    "key_list, value_list = zip(*counter) # zip 된 counter값을 분리저장"
   ]
  },
  {
   "cell_type": "code",
   "execution_count": 34,
   "metadata": {},
   "outputs": [
    {
     "data": {
      "image/png": "[encoded data removed]",
      "text/plain": [
       "<Figure size 1152x720 with 1 Axes>"
      ]
     },
     "metadata": {
      "needs_background": "light"
     },
     "output_type": "display_data"
    }
   ],
   "source": [
    "plt.figure(figsize=(16,10))\n",
    "plt.plot(key_list[:500], value_list[:500])\n",
    "plt.show()"
   ]
  },
  {
   "cell_type": "code",
   "execution_count": null,
   "metadata": {},
   "outputs": [],
   "source": []
  },
  {
   "cell_type": "code",
   "execution_count": null,
   "metadata": {},
   "outputs": [],
   "source": []
  },
  {
   "cell_type": "markdown",
   "metadata": {},
   "source": [
    "## *twitter postagging\n",
    "#### word 별로 postagging이 필요한경우.... "
   ]
  },
  {
   "cell_type": "code",
   "execution_count": 10,
   "metadata": {},
   "outputs": [
    {
     "name": "stderr",
     "output_type": "stream",
     "text": [
      "C:\\Users\\mediance_ssh\\Anaconda3\\lib\\site-packages\\konlpy\\tag\\_okt.py:16: UserWarning: \"Twitter\" has changed to \"Okt\" since KoNLPy v0.4.5.\n",
      "  warn('\"Twitter\" has changed to \"Okt\" since KoNLPy v0.4.5.')\n"
     ]
    }
   ],
   "source": [
    "from konlpy.tag import Twitter\n",
    "twitter = Twitter()"
   ]
  },
  {
   "cell_type": "code",
   "execution_count": 11,
   "metadata": {},
   "outputs": [
    {
     "ename": "KeyboardInterrupt",
     "evalue": "",
     "output_type": "error",
     "traceback": [
      "\u001b[1;31m---------------------------------------------------------------------------\u001b[0m",
      "\u001b[1;31mKeyboardInterrupt\u001b[0m                         Traceback (most recent call last)",
      "\u001b[1;32m<ipython-input-11-3f6323658c96>\u001b[0m in \u001b[0;36m<module>\u001b[1;34m()\u001b[0m\n\u001b[1;32m----> 1\u001b[1;33m \u001b[0mtokens\u001b[0m \u001b[1;33m=\u001b[0m \u001b[1;33m[\u001b[0m\u001b[0mpos\u001b[0m \u001b[1;32mfor\u001b[0m \u001b[0msent\u001b[0m \u001b[1;32min\u001b[0m \u001b[0msents\u001b[0m \u001b[1;32mfor\u001b[0m \u001b[0mpos\u001b[0m \u001b[1;32min\u001b[0m \u001b[0mtwitter\u001b[0m\u001b[1;33m.\u001b[0m\u001b[0mpos\u001b[0m\u001b[1;33m(\u001b[0m\u001b[0msent\u001b[0m\u001b[1;33m)\u001b[0m\u001b[1;33m]\u001b[0m\u001b[1;33m\u001b[0m\u001b[0m\n\u001b[0m\u001b[0;32m      2\u001b[0m \u001b[0mprint\u001b[0m\u001b[1;33m(\u001b[0m\u001b[0mtokens\u001b[0m\u001b[1;33m[\u001b[0m\u001b[1;33m:\u001b[0m\u001b[1;36m40\u001b[0m\u001b[1;33m]\u001b[0m\u001b[1;33m)\u001b[0m\u001b[1;33m\u001b[0m\u001b[0m\n",
      "\u001b[1;32m<ipython-input-11-3f6323658c96>\u001b[0m in \u001b[0;36m<listcomp>\u001b[1;34m(.0)\u001b[0m\n\u001b[1;32m----> 1\u001b[1;33m \u001b[0mtokens\u001b[0m \u001b[1;33m=\u001b[0m \u001b[1;33m[\u001b[0m\u001b[0mpos\u001b[0m \u001b[1;32mfor\u001b[0m \u001b[0msent\u001b[0m \u001b[1;32min\u001b[0m \u001b[0msents\u001b[0m \u001b[1;32mfor\u001b[0m \u001b[0mpos\u001b[0m \u001b[1;32min\u001b[0m \u001b[0mtwitter\u001b[0m\u001b[1;33m.\u001b[0m\u001b[0mpos\u001b[0m\u001b[1;33m(\u001b[0m\u001b[0msent\u001b[0m\u001b[1;33m)\u001b[0m\u001b[1;33m]\u001b[0m\u001b[1;33m\u001b[0m\u001b[0m\n\u001b[0m\u001b[0;32m      2\u001b[0m \u001b[0mprint\u001b[0m\u001b[1;33m(\u001b[0m\u001b[0mtokens\u001b[0m\u001b[1;33m[\u001b[0m\u001b[1;33m:\u001b[0m\u001b[1;36m40\u001b[0m\u001b[1;33m]\u001b[0m\u001b[1;33m)\u001b[0m\u001b[1;33m\u001b[0m\u001b[0m\n",
      "\u001b[1;32mC:\\Users\\mediance_ssh\\Anaconda3\\lib\\site-packages\\konlpy\\tag\\_okt.py\u001b[0m in \u001b[0;36mpos\u001b[1;34m(self, phrase, norm, stem, join)\u001b[0m\n\u001b[0;32m     61\u001b[0m                     \u001b[0mphrase\u001b[0m\u001b[1;33m,\u001b[0m\u001b[1;33m\u001b[0m\u001b[0m\n\u001b[0;32m     62\u001b[0m                     \u001b[0mjpype\u001b[0m\u001b[1;33m.\u001b[0m\u001b[0mjava\u001b[0m\u001b[1;33m.\u001b[0m\u001b[0mlang\u001b[0m\u001b[1;33m.\u001b[0m\u001b[0mBoolean\u001b[0m\u001b[1;33m(\u001b[0m\u001b[0mnorm\u001b[0m\u001b[1;33m)\u001b[0m\u001b[1;33m,\u001b[0m\u001b[1;33m\u001b[0m\u001b[0m\n\u001b[1;32m---> 63\u001b[1;33m                     jpype.java.lang.Boolean(stem)).toArray()\n\u001b[0m\u001b[0;32m     64\u001b[0m         \u001b[1;32mif\u001b[0m \u001b[0mjoin\u001b[0m\u001b[1;33m:\u001b[0m\u001b[1;33m\u001b[0m\u001b[0m\n\u001b[0;32m     65\u001b[0m             \u001b[1;32mreturn\u001b[0m \u001b[1;33m[\u001b[0m\u001b[0mt\u001b[0m \u001b[1;32mfor\u001b[0m \u001b[0mt\u001b[0m \u001b[1;32min\u001b[0m \u001b[0mtokens\u001b[0m\u001b[1;33m]\u001b[0m\u001b[1;33m\u001b[0m\u001b[0m\n",
      "\u001b[1;32mC:\\Users\\mediance_ssh\\Anaconda3\\lib\\site-packages\\jpype\\_jclass.py\u001b[0m in \u001b[0;36m_getClassFor\u001b[1;34m(javaClass)\u001b[0m\n\u001b[0;32m     58\u001b[0m \u001b[1;33m\u001b[0m\u001b[0m\n\u001b[0;32m     59\u001b[0m \u001b[1;33m\u001b[0m\u001b[0m\n\u001b[1;32m---> 60\u001b[1;33m \u001b[1;32mdef\u001b[0m \u001b[0m_getClassFor\u001b[0m\u001b[1;33m(\u001b[0m\u001b[0mjavaClass\u001b[0m\u001b[1;33m)\u001b[0m\u001b[1;33m:\u001b[0m\u001b[1;33m\u001b[0m\u001b[0m\n\u001b[0m\u001b[0;32m     61\u001b[0m     \u001b[0mname\u001b[0m \u001b[1;33m=\u001b[0m \u001b[0mjavaClass\u001b[0m\u001b[1;33m.\u001b[0m\u001b[0mgetName\u001b[0m\u001b[1;33m(\u001b[0m\u001b[1;33m)\u001b[0m\u001b[1;33m\u001b[0m\u001b[0m\n\u001b[0;32m     62\u001b[0m     \u001b[1;32mif\u001b[0m \u001b[0mname\u001b[0m \u001b[1;32min\u001b[0m \u001b[0m_CLASSES\u001b[0m\u001b[1;33m:\u001b[0m\u001b[1;33m\u001b[0m\u001b[0m\n",
      "\u001b[1;31mKeyboardInterrupt\u001b[0m: "
     ]
    }
   ],
   "source": [
    "tokens = [pos for sent in sents for pos in twitter.pos(sent)]\n",
    "print(tokens[:40])"
   ]
  },
  {
   "cell_type": "code",
   "execution_count": 61,
   "metadata": {},
   "outputs": [
    {
     "name": "stdout",
     "output_type": "stream",
     "text": [
      "[(('탈퇴', 'Noun'), 1289),\n",
      " (('사유', 'Noun'), 1232),\n",
      " (('노쇼', 'Noun'), 192),\n",
      " (('캠페인', 'Noun'), 146),\n",
      " (('지각', 'Noun'), 83),\n",
      " (('차', 'Noun'), 62),\n",
      " (('채널', 'Noun'), 56),\n",
      " (('처리', 'Noun'), 46),\n",
      " (('인스타', 'Noun'), 44),\n",
      " (('관리자', 'Noun'), 43),\n",
      " (('업로드', 'Noun'), 38),\n",
      " (('포스팅', 'Noun'), 37),\n",
      " (('인스타그램', 'Noun'), 32),\n",
      " (('일정', 'Noun'), 30),\n",
      " (('이름', 'Noun'), 29),\n",
      " (('엄수', 'Noun'), 29),\n",
      " (('아이디', 'Noun'), 29),\n",
      " (('블랙리스트', 'Noun'), 27),\n",
      " (('가입', 'Noun'), 27),\n",
      " (('등록', 'Noun'), 26),\n",
      " (('취소', 'Noun'), 26),\n",
      " (('계정', 'Noun'), 25),\n",
      " (('재', 'Noun'), 22),\n",
      " (('복구', 'Noun'), 22),\n",
      " (('잘못', 'Noun'), 21),\n",
      " (('선정', 'Noun'), 21),\n",
      " (('연락처', 'Noun'), 21),\n",
      " (('월', 'Noun'), 20),\n",
      " (('삭제', 'Noun'), 19),\n",
      " (('수정', 'Noun'), 19),\n",
      " (('요청', 'Noun'), 19),\n",
      " (('바캉스', 'Noun'), 19),\n",
      " (('변경', 'Noun'), 19),\n",
      " (('매그넘', 'Noun'), 19),\n",
      " (('연락', 'Noun'), 18),\n",
      " (('가이드', 'Noun'), 18),\n",
      " (('팔로워', 'Noun'), 17),\n",
      " (('후', 'Noun'), 16),\n",
      " (('단코펙', 'Noun'), 15),\n",
      " (('포스트', 'Noun'), 15),\n",
      " (('아비', 'Noun'), 15),\n",
      " (('주소', 'Noun'), 15),\n",
      " (('셀', 'Noun'), 15),\n",
      " (('방문', 'Noun'), 15),\n",
      " (('구제', 'Noun'), 14),\n",
      " (('스', 'Noun'), 13),\n",
      " (('아디다스', 'Noun'), 13),\n",
      " (('윤건', 'Noun'), 12),\n",
      " (('코인', 'Noun'), 12),\n",
      " (('넷플릭스', 'Noun'), 12),\n",
      " (('에어아시아', 'Noun'), 12),\n",
      " (('오류', 'Noun'), 12),\n",
      " (('미숙', 'Noun'), 11),\n",
      " (('함', 'Noun'), 11),\n",
      " (('완소템', 'Noun'), 11),\n",
      " (('드레스', 'Noun'), 10),\n",
      " (('입력', 'Noun'), 10),\n",
      " (('룸', 'Noun'), 10),\n",
      " (('금지', 'Noun'), 10),\n",
      " (('본인', 'Noun'), 10),\n",
      " (('옴', 'Noun'), 9),\n",
      " (('기간', 'Noun'), 9),\n",
      " (('향후', 'Noun'), 9),\n",
      " (('수', 'Noun'), 9),\n",
      " (('데스페라도', 'Noun'), 9),\n",
      " (('시작', 'Noun'), 9),\n",
      " (('다시', 'Noun'), 8),\n",
      " (('미디', 'Noun'), 8),\n",
      " (('번', 'Noun'), 8),\n",
      " (('완소팀', 'Noun'), 8),\n",
      " (('탐방', 'Noun'), 8),\n",
      " (('언스', 'Noun'), 8),\n",
      " (('여름', 'Noun'), 8),\n",
      " (('메가박스', 'Noun'), 8),\n",
      " (('중복', 'Noun'), 8),\n",
      " (('맛집', 'Noun'), 8),\n",
      " (('티', 'Noun'), 8),\n",
      " (('플래닛', 'Noun'), 7),\n",
      " (('레시피', 'Noun'), 7),\n",
      " (('문의', 'Noun'), 7),\n",
      " (('헤어', 'Noun'), 7),\n",
      " (('안함', 'Noun'), 7),\n",
      " (('라이프', 'Noun'), 7),\n",
      " (('및', 'Noun'), 7),\n",
      " (('더블', 'Noun'), 7),\n",
      " (('전화', 'Noun'), 7),\n",
      " (('교보', 'Noun'), 7),\n",
      " (('용', 'Noun'), 7),\n",
      " (('지급', 'Noun'), 6),\n",
      " (('환타', 'Noun'), 6),\n",
      " (('포인트', 'Noun'), 6),\n",
      " (('류', 'Noun'), 6),\n",
      " (('댕댕', 'Noun'), 6),\n",
      " (('추가', 'Noun'), 6),\n",
      " (('다른', 'Noun'), 6),\n",
      " (('설화수', 'Noun'), 6),\n",
      " (('전', 'Noun'), 6),\n",
      " (('개', 'Noun'), 6),\n",
      " (('도서', 'Noun'), 6),\n",
      " (('정보', 'Noun'), 6),\n",
      " (('페이스북', 'Noun'), 6),\n",
      " (('관리', 'Noun'), 6),\n",
      " (('이슈', 'Noun'), 6),\n",
      " (('제품', 'Noun'), 6),\n",
      " (('동일인', 'Noun'), 5),\n",
      " (('종료', 'Noun'), 5),\n",
      " (('계속', 'Noun'), 5),\n",
      " (('명', 'Noun'), 5),\n",
      " (('편', 'Noun'), 5),\n",
      " (('오피', 'Noun'), 5),\n",
      " (('부활', 'Noun'), 5),\n",
      " (('확인', 'Noun'), 5),\n",
      " (('사용', 'Noun'), 5),\n",
      " (('추천', 'Noun'), 5),\n",
      " (('사람', 'Noun'), 5),\n",
      " (('진행', 'Noun'), 5),\n",
      " (('소파', 'Noun'), 5),\n",
      " (('관련', 'Noun'), 5),\n",
      " (('레진코믹스', 'Noun'), 5),\n",
      " (('하이네켄', 'Noun'), 5),\n",
      " (('일', 'Noun'), 5),\n",
      " (('응답', 'Noun'), 5),\n",
      " (('사진', 'Noun'), 5),\n",
      " (('즈', 'Noun'), 5),\n",
      " (('유지', 'Noun'), 5),\n",
      " (('마케팅', 'Noun'), 5),\n",
      " (('광고', 'Noun'), 4),\n",
      " (('준', 'Noun'), 4),\n",
      " (('잠수', 'Noun'), 4),\n",
      " (('송도', 'Noun'), 4),\n",
      " (('젠틀', 'Noun'), 4),\n",
      " (('필드', 'Noun'), 4),\n",
      " (('세럼', 'Noun'), 4),\n",
      " (('번호', 'Noun'), 4),\n",
      " (('신분증', 'Noun'), 4),\n",
      " (('너무', 'Noun'), 4),\n",
      " (('더블유', 'Noun'), 4),\n",
      " (('가디언즈', 'Noun'), 4),\n",
      " (('어려움', 'Noun'), 4),\n",
      " (('데스티니', 'Noun'), 4),\n",
      " (('쿠션', 'Noun'), 4),\n",
      " (('캐시', 'Noun'), 4),\n",
      " (('이벤트', 'Noun'), 4),\n",
      " (('넷', 'Noun'), 4),\n",
      " (('스타', 'Noun'), 4),\n",
      " (('것', 'Noun'), 4),\n",
      " (('설정', 'Noun'), 4),\n",
      " (('매우', 'Noun'), 4),\n",
      " (('안', 'Noun'), 4),\n",
      " (('별로', 'Noun'), 4)]\n"
     ]
    }
   ],
   "source": [
    "from collections import Counter\n",
    "counter = Counter(tokens)\n",
    "counter = {word:freq for word, freq in counter.items() if (freq >= 4) and (word[1] == 'Noun')}\n",
    "pprint(sorted(counter.items(), key=lambda x:x[1], reverse=True))"
   ]
  },
  {
   "cell_type": "code",
   "execution_count": 60,
   "metadata": {
    "collapsed": true
   },
   "outputs": [],
   "source": [
    "f.close()"
   ]
  },
  {
   "cell_type": "code",
   "execution_count": null,
   "metadata": {
    "collapsed": true
   },
   "outputs": [],
   "source": []
  }
 ],
 "metadata": {
  "anaconda-cloud": {},
  "kernelspec": {
   "display_name": "Python [conda env:Anaconda3]",
   "language": "python",
   "name": "conda-env-Anaconda3-py"
  },
  "language_info": {
   "codemirror_mode": {
    "name": "ipython",
    "version": 3
   },
   "file_extension": ".py",
   "mimetype": "text/x-python",
   "name": "python",
   "nbconvert_exporter": "python",
   "pygments_lexer": "ipython3",
   "version": "3.5.6"
  }
 },
 "nbformat": 4,
 "nbformat_minor": 2
}
