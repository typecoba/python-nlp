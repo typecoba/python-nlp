{
 "cells": [
  {
   "cell_type": "markdown",
   "metadata": {},
   "source": [
    "## 개요\n",
    "#### hashtag 데이터에서 완전 같은 내용의 post의 중복을 제거해 데이터 정확도와 용량을 줄이고자 함"
   ]
  },
  {
   "cell_type": "code",
   "execution_count": 46,
   "metadata": {},
   "outputs": [],
   "source": [
    "sents = []\n",
    "open_path = '../data/ta_hashtag/hashtag_5M_all_4G.txt'\n",
    "save_path = '../data/ta_hashtag/hashtag_5M_all_4G_del_duplicate.txt'"
   ]
  },
  {
   "cell_type": "markdown",
   "metadata": {},
   "source": [
    "## load data "
   ]
  },
  {
   "cell_type": "code",
   "execution_count": 47,
   "metadata": {},
   "outputs": [],
   "source": [
    "with open(open_path,encoding='utf-8') as f :    \n",
    "    while True :\n",
    "        line = f.readline()\n",
    "        sents.append(line.rstrip('\\n'))\n",
    "        if not line : break\n",
    "    "
   ]
  },
  {
   "cell_type": "code",
   "execution_count": 48,
   "metadata": {},
   "outputs": [
    {
     "name": "stdout",
     "output_type": "stream",
     "text": [
      "['\\ufeff패션',\n",
      " '패션',\n",
      " '패션 데일리룩 셀스타그램 거울샷 셀카 셀피 아이폰 오오티디 니트 터틀넥니트 likeforlikes 좋아요반사 선팔하면맞팔 맞팔 서울 '\n",
      " 'selca selfie dailylook dailyfashion fff',\n",
      " '패션 commedesgarcons',\n",
      " '패션 셀카 셀피 셀스타그램 모델 피팅모델 뷰티모델 데일리룩 데일리 소통 일상 팔로우 댓글 선팔하면맞팔 선팔 좋아요 selfie selca '\n",
      " 'daily ootd model follow',\n",
      " '패션',\n",
      " '패션',\n",
      " '패션',\n",
      " '패션 이저녁',\n",
      " '상하복 육아맘',\n",
      " '상하복 1123일 엄마가애정하는 세트가짱이햐 오늘도_잘다녀와 등원룩 첫째 등원완료',\n",
      " '상하복 아동복 의정부아동복 민락2지구아동복 겨울아동복 예쁜아동복 겨울상하복 민락2지구 모토민락 소통해요',\n",
      " '상하복',\n",
      " '상하복 아들맘 딸맘 둥이맘 닭띠아기 경산맘 칠곡맘 대구맘 육아소통 육아일기 육아스타그램 인스타베이비 베이비그램 애스타그램 신생아선물 '\n",
      " '베베원피스 크리스마스룩 연말룩 아기겨울옷 아기패션 아기코디 문센룩 등원룩 데일리룩 아기옷마켓 바이리한',\n",
      " '상하복 loungewear 이번크리스마스에는 실내복도_엣지있게 봉봉퐁당',\n",
      " '스트릿패션 iphonexr rafsimons pumafenty ajobyajo vintage kappa nikoand '\n",
      " 'guccigarden mygqlook',\n",
      " '스트릿패션',\n",
      " '스트릿패션',\n",
      " '스트릿패션 biohvzard',\n",
      " '등원룩',\n",
      " '등원룩 아기옷 아기옷쇼핑몰 예쁜아기옷 아기실내복 겨울아기옷 부천아기옷 부천아기옷가게 산타실내복 이번주돌잔치실화냐 엄마멘붕 돌아기 닭띠아기 '\n",
      " '아들맘 딸맘 육아 육아맘 육아소통',\n",
      " '등원룩 미남 미남서하 날닮았나 아닌가봐 귀여운털모자 파타고니아후리스 하의실종 김서하그램 김서하왕자',\n",
      " '등원룩 16개월아기',\n",
      " '등원룩',\n",
      " '등원룩 라미베베',\n",
      " '등원룩 등원길 사랑해 6세딸',\n",
      " '등원룩',\n",
      " '등원룩 다혜도안꾸미고입으면 라미베베',\n",
      " '아동복 연쁘데일리룩 딸스타그램',\n",
      " '아동복',\n",
      " '아동복 유마켓 아기코트 떡볶이코트 아기떡볶이코트 겨울신상 신상할인',\n",
      " '아동복 세돌 생일 생일파티 인스타베이비',\n",
      " '주니어패션 뚜아멜라 디자이너브랜드 자체제작아동복 아동복 유아동복 감성아동복 이쁜아기옷 아들맘 딸맘 워킹맘 도치맘 초보맘 젊줌마 아들바보 '\n",
      " '딸바보 베이비룩 베이비그램 키즈패션 세젤예 세젤멋 오오티디 베이비스타그램 딸스타그램 아들스타그램 designerbrand tuamela '\n",
      " 'babyfashion kidsfashion kidswear',\n",
      " '주니어패션 17주 임신 성별',\n",
      " '주니어패션 로건 로건어드벤쳐 model 아역배우 everlast everlastjunior 에버라스트 에버라스트주니어 키즈모델 '\n",
      " '주니어스포츠 초등학생옷 보리보리 롯데닷컴 쿠팡 11번가 패션플러스 gsshop',\n",
      " '주니어패션',\n",
      " '주니어패션 통통팬츠 보리보리요 겨울신상 아기패션 아기옷코디 키즈룩 베베룩 키즈패션 베이비 베이비룩 원피스 주니어룩 주니어 데일리 상하세트 '\n",
      " '자켓 데일리룩 신발 엄마랑커플룩 남매룩 자매룩 대구맘 패션코디 청바지 유아복 발레복 맨투맨 아동복 가을룩',\n",
      " '주니어패션 꼬떼호피패딩코트 보리보리요 겨울신상 아기패션 아기옷코디 키즈룩 베베룩 키즈패션 베이비 베이비룩 원피스 주니어룩 주니어 데일리 '\n",
      " '상하세트 자켓 데일리룩 신발 엄마랑커플룩 남매룩 자매룩 대구맘 패션코디 청바지 유아복 발레복 맨투맨 아동복 가을룩',\n",
      " '키즈패션 잠이없어서다행 엄마라서가는한일 워킹맘코스프레중',\n",
      " '키즈패션 글린공원 카라멜런던 caramellondon 40개월',\n",
      " '키즈패션 아나도옷사고싶다 잘다녀와 민서타그램',\n",
      " '키즈패션 미니봉봉 minibongnong 진주아동복 유아동복쇼핑몰 진주 아동복 키즈룩 남매룩 아동복쇼핑몰 키즈코트 진주아기옷 자체제작',\n",
      " '키즈패션',\n",
      " '키즈패션',\n",
      " '딸스타그램 윤서딸서아 줌마스타그램 육아 미국맘 딸맘 줌마그램 젊줌마 딸 딸바보',\n",
      " '딸스타그램',\n",
      " '딸스타그램 애물단지소 어서빨리친해지길바래',\n",
      " '딸스타그램 박하음 뽀시래기시절',\n",
      " '딸스타그램 서정이땡깡만없다묜',\n",
      " '딸스타그램 세돌 생일 생일파티 인스타베이비',\n",
      " '딸스타그램 잘다녀와 등원 첫째 프롬지우',\n",
      " '딸스타그램',\n",
      " '딸스타그램 350days',\n",
      " '키즈룩',\n",
      " '키즈룩 남매',\n",
      " '키즈룩 조잘조잘 겸딩이 사과머리 일상기록 유쾌한아이 실물깡패 비율깡패 아역배우유채연 데일리 selfie 셀스타그램 하늘만큼땅만큼사랑해 '\n",
      " '이뽀죽게또 일상 daily 여아모델 유채연 키즈스타그램 얼스타그램 얼짱아기 like4like 좋아요 인스타키즈 인형스타그램 키즈패피 '\n",
      " '즐거운아이 키즈스타일 키즈데일리룩 kidsstyle',\n",
      " '키즈룩 잠이없어서다행 엄마라서가는한일 워킹맘코스프레중',\n",
      " '키즈룩 여아발레복 발레복 르쁘띠비쥬 아동발레복 유아발레복 발레복추천 아동복 블랙발레복 유아발레',\n",
      " '키즈룩 신상',\n",
      " '키즈룩 솔레일 초코마들렌 수제롤케이크 수제디저트 군것질',\n",
      " '대구아동복 repost 대구쁘띠츄',\n",
      " '대구아동복 아동복 메르헨',\n",
      " '대구아동복 힘든하루 워킹맘 육아맘 대구맘 오오티디 스마일 침산동옷가게 대구옷가게 부산맘 해운대맘 칠곡맘 일상 소통',\n",
      " '대구아동복 시즌off',\n",
      " '대구아동복 오리털패딩 롱패딩 여성복 뽀밍 뽀밍대구점',\n",
      " '아들스타그램 용이의성장사진 사랑해_마이용',\n",
      " '아들스타그램 삼신상 생후100일 아기스타그램 맘스타그램 육아스타그램 베이비그램 인스타베이비 도치맘 아들맘 육아소통 개띠맘 황금개띠맘 '\n",
      " '성장일기 초보엄마 육아일기 육아 아기백일선물 육아소통대환영 아기백일 아기백일준비 뒤집기성공 백일의기적 뒤집기방지쿠션 생후3개월 '\n",
      " '삼신상차리기 삼신상준비',\n",
      " '아들스타그램 후덩후덩 연후데일리 생후48일',\n",
      " '아들스타그램 육아필수템 검은고무줄 검고',\n",
      " '아들스타그램 생후100일',\n",
      " '아들스타그램 신발이널신었다 눈제대로내려줘',\n",
      " '아들스타그램 독서삼매경 샤워캡 다이소 사과머리 퇴행기 그래_쉽게가자 문시윤베베',\n",
      " '아들스타그램',\n",
      " '감성 롱무스탕',\n",
      " '감성',\n",
      " '감성',\n",
      " '감성',\n",
      " '감성 셀스타그램 셀카 선팔 좋아요 팔로우 셀피 얼스타그램 데일리룩 인친 먹스타그램 인스타그램 맛스타그램 여행 일상스타그램 selca '\n",
      " '럽스타그램 사진 먹방 dailylook 주말 오오티디 옷스타그램 댓글 육아 패션 선팔하면맞팔 셀기꾼 여름 팔로미',\n",
      " '감성',\n",
      " '감성',\n",
      " '감성',\n",
      " '감성 파리바게트 파리바게트케이크 케이크 분위기 크리스마스 디저트 온더테이블 christmas cake dessert onthetable '\n",
      " 'instapic',\n",
      " '빈티지 옷스타그램 데일리룩 빅사이즈 빅사이즈코디 빅사이즈데일리룩 플러스사이즈 겨울코디 플러스사이즈코디 오늘의패션 오늘의코디 오오티디 '\n",
      " 'ootd vintage 빈티지코디 스트릿패션 선팔 맞팔 좋아요 좋아요반사 좋반 좋튀 좋아요테러',\n",
      " '빈티지',\n",
      " '빈티지 깡수룩',\n",
      " '빈티지',\n",
      " '빈티지',\n",
      " '빈티지',\n",
      " '빈티지 기키케이스 기키 몬모릴로',\n",
      " '빈티지',\n",
      " '빈티지 아트인카트 판화',\n",
      " '아산옷가게 아산여자옷가게 천안 천안여자옷가게 천안옷가게 매장 여자옷 데일리 데일리룩 dailylook ootd 일상룩 겨울룩 겨울옷코디 '\n",
      " '데이트룩 여친룩 여자룩 패션 옷그램 패그램 겨울아우터 핸코 핸드메이드자켓 하프자켓 행사룩 하객룩 연말룩',\n",
      " '아산옷가게',\n",
      " '아산옷가게 instagram like4like 아산옷 천안옷가게 천안옷가게추천 평택옷가게 청주옷가게 광주옷가게 서울 여행 셀스타그램',\n",
      " '아산옷가게 아노락 패딩 데일리룩 여성복 헤이바이제이',\n",
      " '아산옷가게 니트 여성의류 ootd 천안옷가게 용화동옷가게 에이치부띠끄',\n",
      " '아산옷가게 더스테이 의류편집샵 빈티지 dailylook ootd 용화동 옷스타그램 오늘의더스테이',\n",
      " '아산옷가게 더스테이 의류편집샵 빈티지 dailylook ootd 용화동 옷스타그램 오늘의더스테이',\n",
      " '아산옷가게 더스테이 의류편집샵 빈티지 dailylook ootd 용화동 옷스타그램 오늘의더스테이',\n",
      " '천안여자옷가게']\n"
     ]
    }
   ],
   "source": [
    "pprint(sents[:100])"
   ]
  },
  {
   "cell_type": "markdown",
   "metadata": {},
   "source": [
    "## make list"
   ]
  },
  {
   "cell_type": "code",
   "execution_count": 49,
   "metadata": {},
   "outputs": [],
   "source": [
    "from pprint import pprint"
   ]
  },
  {
   "cell_type": "code",
   "execution_count": 50,
   "metadata": {},
   "outputs": [
    {
     "data": {
      "text/plain": [
       "35393408"
      ]
     },
     "execution_count": 50,
     "metadata": {},
     "output_type": "execute_result"
    }
   ],
   "source": [
    "len(sents)"
   ]
  },
  {
   "cell_type": "code",
   "execution_count": 51,
   "metadata": {},
   "outputs": [],
   "source": [
    "sents = list(set(sents)) # set()는 순서와 상관없이 중복 허용되지 않는 자료형"
   ]
  },
  {
   "cell_type": "code",
   "execution_count": 52,
   "metadata": {},
   "outputs": [
    {
     "data": {
      "text/plain": [
       "23499230"
      ]
     },
     "execution_count": 52,
     "metadata": {},
     "output_type": "execute_result"
    }
   ],
   "source": [
    "len(sents)"
   ]
  },
  {
   "cell_type": "markdown",
   "metadata": {},
   "source": [
    "## save data"
   ]
  },
  {
   "cell_type": "code",
   "execution_count": 54,
   "metadata": {},
   "outputs": [],
   "source": [
    "with open(save_path, 'w', encoding='utf-8') as f:     \n",
    "    for sent in sents :\n",
    "        f.write(sent+'\\n')"
   ]
  },
  {
   "cell_type": "code",
   "execution_count": null,
   "metadata": {},
   "outputs": [],
   "source": []
  }
 ],
 "metadata": {
  "anaconda-cloud": {},
  "kernelspec": {
   "display_name": "Python [conda env:Anaconda3]",
   "language": "python",
   "name": "conda-env-Anaconda3-py"
  },
  "language_info": {
   "codemirror_mode": {
    "name": "ipython",
    "version": 3
   },
   "file_extension": ".py",
   "mimetype": "text/x-python",
   "name": "python",
   "nbconvert_exporter": "python",
   "pygments_lexer": "ipython3",
   "version": "3.5.6"
  }
 },
 "nbformat": 4,
 "nbformat_minor": 2
}
