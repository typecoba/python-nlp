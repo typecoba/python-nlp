{
 "cells": [
  {
   "cell_type": "code",
   "execution_count": 11,
   "metadata": {},
   "outputs": [],
   "source": [
    "#import\n",
    "from gensim.models import KeyedVectors, Word2Vec\n",
    "from pprint import pprint"
   ]
  },
  {
   "cell_type": "code",
   "execution_count": 17,
   "metadata": {},
   "outputs": [],
   "source": [
    "#load\n",
    "'''\n",
    "bin 파일이 용량이 약간 적어 load해보려고 했으나 UnicodeDecodeError, \n",
    "word2vec.load 로 하면 UnpicklingError.. blazingtext로 학습시킬때 뭔가 옵션이 있지 않을까 싶다..\n",
    "결국엔 txt파일 불러들이는 것으로..\n",
    "\n",
    "# word_vectors = KeyedVectors.load_word2vec_format(model_path, binary=True, unicode_errors='ignore')\n",
    "# word_vectors = Word2Vec.load(model_path)\n",
    "''' \n",
    "\n",
    "model_path = '../data/ta_hashtag/vectors_0-20M.txt';\n",
    "word_vectors = KeyedVectors.load_word2vec_format(model_path, binary=False)\n"
   ]
  },
  {
   "cell_type": "code",
   "execution_count": 18,
   "metadata": {},
   "outputs": [
    {
     "data": {
      "text/plain": [
       "[('하이디패션', 0.6160661578178406),\n",
       " ('하이디룩', 0.6108670234680176),\n",
       " ('하이디의류', 0.6039806008338928),\n",
       " ('heidilook', 0.5894399285316467),\n",
       " ('코디', 0.5615209341049194),\n",
       " ('나루시스japan', 0.5565450191497803),\n",
       " ('패션스타그램', 0.5329399108886719),\n",
       " ('스타일', 0.5220915079116821),\n",
       " ('베루툼x11am', 0.5202155113220215),\n",
       " ('얼스탁그램', 0.5197254419326782)]"
      ]
     },
     "execution_count": 18,
     "metadata": {},
     "output_type": "execute_result"
    }
   ],
   "source": [
    "#test\n",
    "word_vectors.most_similar(['패션'])"
   ]
  },
  {
   "cell_type": "code",
   "execution_count": 21,
   "metadata": {},
   "outputs": [
    {
     "ename": "TypeError",
     "evalue": "intersect_word2vec_format() missing 1 required positional argument: 'self'",
     "output_type": "error",
     "traceback": [
      "\u001b[1;31m---------------------------------------------------------------------------\u001b[0m",
      "\u001b[1;31mTypeError\u001b[0m                                 Traceback (most recent call last)",
      "\u001b[1;32m<ipython-input-21-20a6f96fd290>\u001b[0m in \u001b[0;36m<module>\u001b[1;34m()\u001b[0m\n\u001b[0;32m      1\u001b[0m \u001b[1;31m# 추가학습된 vector\u001b[0m\u001b[1;33m\u001b[0m\u001b[1;33m\u001b[0m\u001b[0m\n\u001b[0;32m      2\u001b[0m \u001b[0mmodel_path\u001b[0m \u001b[1;33m=\u001b[0m \u001b[1;34m'../data/ta_hashtag/vectors_20M-40M.txt'\u001b[0m\u001b[1;33m;\u001b[0m\u001b[1;33m\u001b[0m\u001b[0m\n\u001b[1;32m----> 3\u001b[1;33m \u001b[0mWord2Vec\u001b[0m\u001b[1;33m.\u001b[0m\u001b[0mintersect_word2vec_format\u001b[0m\u001b[1;33m(\u001b[0m\u001b[0mfname\u001b[0m\u001b[1;33m=\u001b[0m\u001b[0mmodel_path\u001b[0m\u001b[1;33m,\u001b[0m \u001b[0mlockf\u001b[0m\u001b[1;33m=\u001b[0m\u001b[1;32mTrue\u001b[0m\u001b[1;33m,\u001b[0m \u001b[0mbinary\u001b[0m\u001b[1;33m=\u001b[0m\u001b[1;32mFalse\u001b[0m\u001b[1;33m)\u001b[0m\u001b[1;33m\u001b[0m\u001b[0m\n\u001b[0m",
      "\u001b[1;31mTypeError\u001b[0m: intersect_word2vec_format() missing 1 required positional argument: 'self'"
     ]
    }
   ],
   "source": [
    "# 추가학습된 vector \n",
    "# 야이... 이거 뭐지?\n",
    "model_path = '../data/ta_hashtag/vectors_20M-40M.txt';\n",
    "Word2Vec.intersect_word2vec_format(fname=model_path, lockf=True, binary=False)"
   ]
  },
  {
   "cell_type": "code",
   "execution_count": null,
   "metadata": {},
   "outputs": [],
   "source": []
  }
 ],
 "metadata": {
  "anaconda-cloud": {},
  "kernelspec": {
   "display_name": "Python [conda env:Anaconda3]",
   "language": "python",
   "name": "conda-env-Anaconda3-py"
  },
  "language_info": {
   "codemirror_mode": {
    "name": "ipython",
    "version": 3
   },
   "file_extension": ".py",
   "mimetype": "text/x-python",
   "name": "python",
   "nbconvert_exporter": "python",
   "pygments_lexer": "ipython3",
   "version": "3.5.6"
  }
 },
 "nbformat": 4,
 "nbformat_minor": 2
}
